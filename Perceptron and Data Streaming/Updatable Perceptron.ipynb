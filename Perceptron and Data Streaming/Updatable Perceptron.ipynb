{
 "cells": [
  {
   "cell_type": "markdown",
   "metadata": {},
   "source": [
    "# Perceptron with Streaming data\n",
    "\n",
    "- Created by: Si_ja\n",
    "- https://github.com/Si-ja\n",
    "- Date: 2019-05-06\n",
    "\n",
    "The idea behind this notebook is to show, how we can take 2 concepts:\n",
    "- Streaming of data\n",
    "- Perceptron\n",
    "\n",
    "And combine them into a Machine Learning algorithm that trains over time, as data comes to you (let's say from online) rather than taking all of the existing data and putting it into the perceptron all at once.\n",
    "\n",
    "The reason why this works is that perceptron is one of those ML algorithms that can learn over time, without the need to be exposed to huge amounts of data all at once. This is something I wanted to work with and understand for a long time, as it is not that common in an academic environment to see,  rather data is given to you only once and that's it, you train your perceptron.\n",
    "\n",
    "In this notebook the perceptron is developed from scratch, no sklearn libraries for it is used.\n",
    "Perceptron is trained only on the iris dataset, and it is not made to be universally working, rather the notebook is here to somewhat teach the principle of how we can utilize the streaming data and train a perceptron, with a condition that a strict rule was given - to train it on the iris dataset.\n",
    "\n",
    "It's really good when your ML algorithms are very universal in usage, but do not forget, that can take much longer to develop and in the long run might not even be useful. Therefore, this example is created in a defined enviornmental problem.\n",
    "\n",
    "Bonus: Perceptron as it is trained only on Iris dataset and with 2 variables - will also be visualized in it's training.\n",
    "\n",
    "Prerequisites: It's prefered if you know what a perceptron is and some math behind it. This notebook is not so much about teaching the concepts of a perceptron, but rather showing a different style of implementing it's usage.\n",
    "You can read on it here: https://en.wikipedia.org/wiki/Perceptron or http://ciml.info/dl/v0_99/ciml-v0_99-ch04.pdf"
   ]
  },
  {
   "cell_type": "markdown",
   "metadata": {},
   "source": [
    "Let's start small and prepare our data. What will be our test data, train data and initilize the creation of perceptron weights with a bias value. All values in the perceptron's weights are initialy set to 0, but overal it does not matter too much what you set them, as over long enough period of training time - they will update to what they need to be (presumably need to)."
   ]
  },
  {
   "cell_type": "code",
   "execution_count": 1,
   "metadata": {},
   "outputs": [],
   "source": [
    "from sklearn import datasets\n",
    "import numpy as np\n",
    "from sklearn.model_selection import train_test_split\n",
    "import matplotlib.pyplot as plt\n",
    "from IPython.display import clear_output\n",
    "\n",
    "def data_prepare(first_col = 0, second_col = 1):\n",
    "    \"\"\"Prepare our data and feed into a global environemnt to have these things done and up for use.\"\"\"\n",
    "    first_col = first_col\n",
    "    second_col = second_col\n",
    "    \n",
    "    iris = datasets.load_iris()\n",
    "    #Using 2 groups - so only need instance from 0 to 99. Remaining 100-149 belong to group 2.\n",
    "    #We will have a simple binary perceptron, so we deal only with 2 groups rather than 3.\n",
    "    X = iris.data[:100, (first_col, second_col)]\n",
    "    Y = iris.target.reshape((150, 1))[:100]\n",
    "    \n",
    "    #Stack information together like you would see it in the same array fully together.\n",
    "    XY = np.hstack((X, Y))\n",
    "    \n",
    "    #Conveniently split our data for training\n",
    "    #Y will not matter for assigning anything, it's just temporarily there\n",
    "    #to fill in the space\n",
    "    XY_train, XY_test, _, _ = train_test_split(XY, Y, test_size = .25, random_state = 665)\n",
    "    \n",
    "    #Assign our data that will be used for \"surprise updates\" and one for testing.\n",
    "    train_data = XY_train\n",
    "    test_data = XY_test \n",
    "    \n",
    "    #We can as well initialize the creation of our perceptron to make things faster\n",
    "    \n",
    "    #Create seperatelly a weighted term and a bias term\n",
    "    w = (np.zeros(2)).reshape((1,2))\n",
    "    b = (np.array(0.0)).reshape(1,1)\n",
    "    #We could have done that at the same time but that would be boring\n",
    "    #So stack them now\n",
    "    w_b = np.hstack((w, b))[0]\n",
    "    \n",
    "    return train_data, test_data, w_b\n",
    "\n",
    "train_data, test_data, model = data_prepare()"
   ]
  },
  {
   "cell_type": "code",
   "execution_count": 2,
   "metadata": {},
   "outputs": [
    {
     "name": "stdout",
     "output_type": "stream",
     "text": [
      "Training Data:\n",
      "[[4.4 2.9 0. ]\n",
      " [5.7 3.  1. ]\n",
      " [5.6 3.  1. ]\n",
      " [5.5 3.5 0. ]\n",
      " [5.  2.3 1. ]]\n",
      "\n",
      "Testing Data:\n",
      "[[5.8 4.  0. ]\n",
      " [4.3 3.  0. ]\n",
      " [6.7 3.1 1. ]\n",
      " [5.5 2.4 1. ]\n",
      " [5.4 3.  1. ]]\n",
      "\n",
      "Perceptron model:\n",
      "[0. 0. 0.]\n",
      "\n",
      "Nice...\n"
     ]
    }
   ],
   "source": [
    "#Let's see what we are operating with\n",
    "print(\"Training Data:\")\n",
    "print(train_data[:5,:])\n",
    "print()\n",
    "print(\"Testing Data:\")\n",
    "print(test_data[:5,:])\n",
    "print()\n",
    "print(\"Perceptron model:\")\n",
    "print(model)\n",
    "print()\n",
    "print(\"Nice...\")"
   ]
  },
  {
   "cell_type": "markdown",
   "metadata": {},
   "source": [
    "Let's experiment with creating of a function that will generate some data, save it into a .txt file and also a function that would read that data, but only the last line of it. Imagine you have a file into which data that is scrapped from online is streamed, it will be already processed and clean (it's a major assumption - not always correct for the real world) and you only want to use the last instance to use it for training of your perceptron."
   ]
  },
  {
   "cell_type": "code",
   "execution_count": 3,
   "metadata": {},
   "outputs": [],
   "source": [
    "def generate_read(train_data):\n",
    "    \"\"\"Generate and read data. One function for the price of one execution.\"\"\" \n",
    "    train_data = train_data\n",
    "    \n",
    "    #Further two functions are prepared - to write data and read it.\n",
    "    \n",
    "    def generator(XY_train = train_data):\n",
    "        \"\"\"Generate information to populate the file from the train_data we chose from before.\"\"\"\n",
    "        #The data we chose to generate is of a random existing instance\n",
    "        #So it is not trivial and if we run for 75 steps (as that is the amount of data in the training_set)\n",
    "        #It is not necessery that we will see all examples used, which is closer to real life scenario type deal\n",
    "        write_array = XY_train[np.random.randint(low = 0, high = (len(XY_train) - 1), dtype = int)]\n",
    "        array_to_text = str()\n",
    "        for i, value in enumerate(write_array):\n",
    "            if i == 0:\n",
    "                array_to_text = array_to_text + str(value)\n",
    "            else:\n",
    "                array_to_text = array_to_text + \",\" + str(value)\n",
    "        array_to_text = array_to_text + \"\\n\"\n",
    "\n",
    "        outF = open(\"Information_Infolow.txt\", \"a\")\n",
    "        outF.writelines(array_to_text)\n",
    "        outF.close()\n",
    "        #The data was just written into a file, there is nothing to return\n",
    "\n",
    "    def read_data():\n",
    "        \"\"\"Read our newly generated data. Only the last line of it.\"\"\"\n",
    "        inF = open(\"Information_Infolow.txt\")\n",
    "        lineList = inF.readlines()\n",
    "        inF.close()\n",
    "        final_line = lineList[len(lineList)-1].strip()\n",
    "        \n",
    "        #our data is still a text, so let's update it to be understood as numbers\n",
    "        final_line = np.array(final_line.split(\",\"), dtype = float)\n",
    "        #and let us return the last instance of it\n",
    "        return final_line\n",
    "    \n",
    "    #Now let us call the functions and proceed with data reading\n",
    "    generator(train_data)\n",
    "    return read_data()"
   ]
  },
  {
   "cell_type": "code",
   "execution_count": 4,
   "metadata": {},
   "outputs": [
    {
     "data": {
      "text/plain": [
       "array([4.9, 3.1, 0. ])"
      ]
     },
     "execution_count": 4,
     "metadata": {},
     "output_type": "execute_result"
    }
   ],
   "source": [
    "#We can check what we have when we generate data.\n",
    "#You can at this stage compare whether it matches the last line created in your txt file we are using.\n",
    "#Or the first line that was created in the txt file for this instance\n",
    "generate_read(train_data)"
   ]
  },
  {
   "cell_type": "code",
   "execution_count": 5,
   "metadata": {},
   "outputs": [],
   "source": [
    "#As we have our data generator and reader we are only left to create a perceptron that will be updatable.\n",
    "#Perceptron updates only when it sees a reason - the reason is when it cannot predict data correctly.\n",
    "#Therefore, before updating the perceptron, we need to create a function to predict something.\n",
    "#It's very good, because we will re-use this function later to make predictions of our unseen data.\n",
    "\n",
    "def predictor(data_to_predict_func):\n",
    "    \"\"\"Simple perceptrons prediction function. Feed it data to predict.\"\"\"\n",
    "    #Prediction is based on a very simple formula:\n",
    "    \n",
    "    prediction = np.sum(data_to_predict_func[:2] * model[:2]) + model[2]\n",
    "    \n",
    "    #Making the prediction in a binary fashion (either it's 1 or -1)\n",
    "    #Lets be compact and make it in one line\n",
    "    \n",
    "    prediction = 1 if prediction >= 0 else -1\n",
    "    return prediction\n",
    "\n",
    "#After creating a predictor function, we can make an updater function as well.\n",
    "def update(data_to_predict):\n",
    "    \"\"\"A function that will update weights of the perceptron based on what it's situation is.\"\"\"\n",
    "    #Let us use our created predictor function to predict data and potentially update the perceptron\n",
    "    prediction = predictor(data_to_predict)\n",
    "    \n",
    "    #Now we will just have to distinguish between 2 classes\n",
    "    #But lets take things easier and update them\n",
    "    #Currently we have flowers in the class 0 and 1, but we can make them -1 and 1\n",
    "    #It just helps keep track of the whole system much easier and for the sake of maths used\n",
    "    \n",
    "    if data_to_predict[2] == 0:\n",
    "        data_to_predict[2] = -1\n",
    "        \n",
    "    #And now let us utilize the update mathematical function for the perceptron:\n",
    "    if prediction == -1 and data_to_predict[2] == 1:\n",
    "        model[:2] += data_to_predict[:2]\n",
    "        model[2] += 1\n",
    "    elif prediction == 1 and data_to_predict[2] == -1:\n",
    "        model[:2] -= data_to_predict[:2]\n",
    "        model[2] -= 1\n",
    "    #since the model will be updated in the global environment - we do not need to return anything"
   ]
  },
  {
   "cell_type": "code",
   "execution_count": 35,
   "metadata": {},
   "outputs": [
    {
     "name": "stdout",
     "output_type": "stream",
     "text": [
      "Model starting with:  [ 5.9 -8.1  0. ]\n",
      "----------------------------------------------\n",
      "Actual class 0 & 1 -> Prediction -1 & +1\n",
      "\n",
      "Prediction is that it is class:  1\n",
      "Actual class of the instance:    0.0\n",
      "Is prediction correct:           False\n",
      "----------------------------------------------\n",
      "Model updated (if):   [  0.4 -11.6  -1. ]\n"
     ]
    }
   ],
   "source": [
    "#We can check how our update function works and where we end up at\n",
    "#By runing it 30 times\n",
    "print(\"Model starting with: \", model)\n",
    "print(\"----------------------------------------------\")\n",
    "print(\"Actual class 0 & 1 -> Prediction -1 & +1\")\n",
    "print()\n",
    "temp_data = generate_read(train_data)\n",
    "print(\"Prediction is that it is class: \", predictor(temp_data))\n",
    "print(\"Actual class of the instance:   \", temp_data[2])\n",
    "if (predictor(temp_data) == 1 and temp_data[2] == 1) or ((predictor(temp_data) == -1 and temp_data[2] == 0)):\n",
    "    temp_answer = True\n",
    "else:\n",
    "    temp_answer = False\n",
    "print(\"Is prediction correct:          \", temp_answer)\n",
    "print(\"----------------------------------------------\")\n",
    "update(temp_data)\n",
    "print(\"Model updated (if):  \", model)"
   ]
  },
  {
   "cell_type": "code",
   "execution_count": 36,
   "metadata": {},
   "outputs": [
    {
     "data": {
      "image/png": "[encoded data removed]",
      "text/plain": [
       "<Figure size 360x360 with 1 Axes>"
      ]
     },
     "metadata": {
      "needs_background": "light"
     },
     "output_type": "display_data"
    }
   ],
   "source": [
    "#But let's make it more interesting\n",
    "#Let's make a visual representation of the model being updated\n",
    "#Spoiler: that's why I chose only 2 variables to work with\n",
    "\n",
    "#First let's build a plot that can function for this goal\n",
    "#We will care about updating few things to make it work a little bit later\n",
    "fig, ax = plt.subplots(1, 1, figsize=(5, 5))"
   ]
  },
  {
   "cell_type": "code",
   "execution_count": 37,
   "metadata": {},
   "outputs": [
    {
     "data": {
      "image/png": "[encoded data removed]",
      "text/plain": [
       "<Figure size 360x360 with 1 Axes>"
      ]
     },
     "metadata": {
      "needs_background": "light"
     },
     "output_type": "display_data"
    }
   ],
   "source": [
    "#Formula for calculating the seperation line:\n",
    "#y = (-(b / w2) / (b / w1))x + (-b / w2)\n",
    "\n",
    "#What we care about:\n",
    "x = np.linspace(4, 7, 100)\n",
    "y = (-(model[2]/model[1]) / (model[2]/model[0]) ) * x + (-model[2]/model[1])\n",
    "fig, ax = plt.subplots(1, 1, figsize=(5, 5))\n",
    "plt.plot(x, y, \"y\")\n",
    "ax.set_title('Training of a perceptron', fontsize = 15)\n",
    "plt.scatter(train_data[:, 0], train_data[:, 1], c = train_data[:, 2])\n",
    "plt.show()\n",
    "\n",
    "#We can see we have quite a decent plot but maybe our perceptron does not work fully well\n",
    "#Maybe it did not run through enough itterations from before and the line is somewhere in a diffrent place...\n",
    "#Which is obviously not good\n",
    "#But hey, it works...if you run it for more itterations you will see that it actually gets fixed"
   ]
  },
  {
   "cell_type": "code",
   "execution_count": 38,
   "metadata": {},
   "outputs": [
    {
     "data": {
      "image/png": "[encoded data removed]",
      "text/plain": [
       "<Figure size 360x360 with 1 Axes>"
      ]
     },
     "metadata": {
      "needs_background": "light"
     },
     "output_type": "display_data"
    }
   ],
   "source": [
    "#We can try the same thing for our test data, as technically\n",
    "#That's what we care the most\n",
    "#Also...easier to program...les hassel\n",
    "#Than creating a constantly updetable itterator on the training data\n",
    "\n",
    "x = np.linspace(4, 7, 100)\n",
    "y = (-(model[2]/model[1]) / (model[2]/model[0]) ) * x + (-model[2]/model[1])\n",
    "fig, ax = plt.subplots(1, 1, figsize=(5, 5))\n",
    "plt.plot(x, y, \"y\")\n",
    "ax.set_title('Testing of a perceptron', fontsize = 15)\n",
    "plt.scatter(test_data[:, 0], test_data[:, 1], c = test_data[:, 2])\n",
    "plt.show()\n",
    "\n",
    "#We do not have a lot of data, but the linear seperator here seems to work...not quite well\n",
    "#As not enough itterations where ran to train it.\n",
    "#This will be fixed and resolved later"
   ]
  },
  {
   "cell_type": "markdown",
   "metadata": {},
   "source": [
    "Now, let's make history. Make a function...or several I guess...with the way everything was created we cannot put everything together in 1 function...OR CAN WE? Yes we can technically but it will get messy. Let's keep things easy and just perform slight modifications for the following:\n",
    "- Create a function that will update the perceptron.\n",
    "- Every 5-10 seconds a new update will be performed (pretend data is streamed to you).\n",
    "- Every update will be followed by a visual representation of how well the perceptron functions with our test data.\n",
    "    - Potentially also show the accuracy of the perceptron.\n",
    "    \n",
    "Things we assume:\n",
    "- Perceptron was already initialized and that is done only once. Most likely Bob or John already did that for us.\n",
    "- Our data file exists and it runs outside our knowledge, we just take the data and load it into the training of the perceptron.\n",
    "- This perceptron is tailored to work with specific data we have - it's not universal, just for the iris data set (though yes, it is possible to make it more flexible, but for the context of this task - we have different goals).\n",
    "- Our data is streamed into our datafile appropriatelly as it is already clean and not corrupted. That would bring a different level to all of this and is more related to data processing and cleaning. We assume Alex and Karen sit in an underground office and clean the data hand by hand and then stream it to us. We are really thanful, they are unappreciated enough colleagues, but life is life.\n",
    "\n",
    "BONUS:\n",
    "- From KNN Visualized tutorial we can add a functionality to color the background of our plot. For more details how that works - visit the KNN Visualized tutorial lesson thingie. Here for the sake of background coloring I droped the linearly separating data line as it was a bit redundant and affecting the plot at times in a negative fashion creating few visual issues. This method is also a little bit longer (by couple of seconds for each visual itteration) as a full backgroun needs to be assessed in how it needs to be colored (for KNN that was done only once and did not seem to be a problem, but here running 500 itterations really shows a bit of an issue). But it's all good - this is for academic purposes, in real life just note that this might be an undesirable issue and you might want to have the background of the plot colored only on the last instance of the training and use the linear seperating line for all other ones <- Just an idea."
   ]
  },
  {
   "cell_type": "code",
   "execution_count": 39,
   "metadata": {},
   "outputs": [],
   "source": [
    "#Let's prepare our data\n",
    "train_data, test_data, model = data_prepare()"
   ]
  },
  {
   "cell_type": "code",
   "execution_count": 40,
   "metadata": {},
   "outputs": [],
   "source": [
    "#Let's train our model and visualize the linear seperation with the perceptron\n",
    "#We already have majority of our functions, we just need to addapt them\n",
    "#And not to forget to stack them\n",
    "def train_vis_perceptron(itterations = 20, delay = 5, train_data = train_data, test_data = train_data, model = model):\n",
    "    \"\"\"Execute training with our perceptron.\n",
    "    *itterations - how many instances will be taken for training. Default - 20.\n",
    "    *delay - how many seconds of a delay between each training sessions - helps for visualization. Default - 5 sec.\n",
    "    *train_data - what the perceptron will train on. Assumed already prepared, but can be changed for other projects.\n",
    "    *test_data - what the perceptron will test on. Assumed already prepared, but can be changed for other projects.\n",
    "    *model - what model perceptron will use. Assumed already prepared, but can be changed for other projects.\"\"\"\n",
    "    \n",
    "    from sklearn import datasets\n",
    "    import numpy as np\n",
    "    from sklearn.model_selection import train_test_split\n",
    "    import matplotlib.pyplot as plt\n",
    "    from IPython.display import clear_output\n",
    "    from matplotlib.colors import ListedColormap \n",
    "    import time\n",
    "    \n",
    "    itterations = itterations\n",
    "    delay = delay\n",
    "    train_data = train_data\n",
    "    test_data = test_data\n",
    "    model = model\n",
    "    \n",
    "    def generate_read(train_data):\n",
    "        \"\"\"Generate and read data. One function for the price of one execution.\"\"\" \n",
    "        train_data = train_data\n",
    "\n",
    "        def generator(XY_train = train_data):\n",
    "            \"\"\"Generate information to populate the file from the train_data we chose from before.\"\"\"\n",
    "            write_array = XY_train[np.random.randint(low = 0, high = (len(XY_train) - 1), dtype = int)]\n",
    "            array_to_text = str()\n",
    "            for i, value in enumerate(write_array):\n",
    "                if i == 0:\n",
    "                    array_to_text = array_to_text + str(value)\n",
    "                else:\n",
    "                    array_to_text = array_to_text + \",\" + str(value)\n",
    "            array_to_text = array_to_text + \"\\n\"\n",
    "            outF = open(\"Information_Infolow.txt\", \"a\")\n",
    "            outF.writelines(array_to_text)\n",
    "            outF.close()\n",
    "\n",
    "        def read_data():\n",
    "            \"\"\"Read our newly generated data. Only the last line of it.\"\"\"\n",
    "            inF = open(\"Information_Infolow.txt\")\n",
    "            lineList = inF.readlines()\n",
    "            inF.close()\n",
    "            final_line = lineList[len(lineList)-1].strip()\n",
    "            final_line = np.array(final_line.split(\",\"), dtype = float)\n",
    "            return final_line\n",
    "        generator(train_data)\n",
    "        return read_data()\n",
    "    \n",
    "    def predictor(data_to_predict_func):\n",
    "        \"\"\"Simple perceptrons prediction function. Feed it data to predict.\"\"\"\n",
    "        prediction = np.sum(data_to_predict_func[:2] * model[:2]) + model[2]\n",
    "        prediction = 1 if prediction >= 0 else -1\n",
    "        return prediction\n",
    "\n",
    "    def update(data_to_predict):\n",
    "        \"\"\"A function that will update weights of the perceptron based on what it's situation is.\"\"\"\n",
    "        prediction = predictor(data_to_predict)\n",
    "        if data_to_predict[2] == 0:\n",
    "            data_to_predict[2] = -1\n",
    "        if prediction == -1 and data_to_predict[2] == 1:\n",
    "            model[:2] += data_to_predict[:2]\n",
    "            model[2] += 1\n",
    "        elif prediction == 1 and data_to_predict[2] == -1:\n",
    "            model[:2] -= data_to_predict[:2]\n",
    "            model[2] -= 1\n",
    "            \n",
    "    #We just need to prepare few additional variables to make the calculations just a tad bit faster\n",
    "    cmap_bold = ListedColormap(['#FF0000', '#00FF00']) \n",
    "    cmap_light = ListedColormap(['#FFAAAA', '#AAFFAA']) \n",
    "    \n",
    "    x_min, x_max = test_data[:, 0].min() - 1, test_data[:, 0].max() + 1\n",
    "    y_min, y_max = test_data[:, 1].min() - 1, test_data[:, 1].max() + 1\n",
    "    h = 0.04\n",
    "    xx, yy = np.meshgrid(np.arange(x_min, x_max, h), np.arange(y_min, y_max, h))\n",
    "    \n",
    "    def ultimate_graph():\n",
    "        \"\"\"Draws our plot for visualizing the learning of a perceptron.\"\"\"\n",
    "        #Prepare the plots' background\n",
    "        Z_field = []\n",
    "        for i in range(len(np.c_[xx.ravel(), yy.ravel()])):\n",
    "            temp_prediction = predictor(np.c_[xx.ravel(), yy.ravel()][i])\n",
    "            Z_field.append(temp_prediction)\n",
    "        Z = np.array(Z_field)\n",
    "        Z = Z.reshape(xx.shape)\n",
    "        \n",
    "        #Preparing the full plot further       \n",
    "        x = np.linspace(x_min, x_max, 100)\n",
    "        y = (-(model[2]/model[1]) / (model[2]/model[0]) ) * x + (-model[2]/model[1])\n",
    "        fig, ax = plt.subplots(1, 1, figsize=(5, 5))\n",
    "        ax.set_title('Testing of a perceptron', fontsize = 15)\n",
    "        plt.pcolormesh(xx, yy, Z, cmap=cmap_light)\n",
    "        plt.scatter(test_data[:, 0], test_data[:, 1], c = test_data[:, 2], cmap = cmap_bold)\n",
    "        #plt.plot(x, y, \"y\") Earlier used line\n",
    "        plt.show()\n",
    "        \n",
    "    #Let's make one more function that calculates the accuracy of the perceptron:\n",
    "    def accuracy_check(test_data):\n",
    "        \"\"\"This function looks for how accurate the perceptron is on our test data.\"\"\"\n",
    "        measures_holder = []\n",
    "        for instance in test_data:\n",
    "            calculations = predictor(instance[:2])\n",
    "            if (calculations == 1 and instance[2] == 1) or (calculations == -1 and instance[2] == 0):\n",
    "                measures_holder.append(True)\n",
    "            else:\n",
    "                measures_holder.append(False)\n",
    "        #Only true will be calculated and we will get our basic average accuracy\n",
    "        accuracy_test = np.round(np.average(measures_holder)*100,2)\n",
    "        return accuracy_test\n",
    "    \n",
    "    \n",
    "    #Let us make a procedural training loop\n",
    "    for itteration in range(itterations):\n",
    "        #Before drawing let's clear the old ouput \n",
    "        clear_output()\n",
    "        #Prepare the data for 1 instance\n",
    "        temp_data = generate_read(train_data)\n",
    "        #Update our model if necessery\n",
    "        update(temp_data)\n",
    "        accuracy_answer = accuracy_check(test_data)\n",
    "        print(\"Itteration number {} is generated...\".format(itteration + 1))\n",
    "        print(\"Current accuracy is {}%\".format(accuracy_answer))\n",
    "        #Visualize it\n",
    "        ultimate_graph()   \n",
    "        time.sleep(delay)"
   ]
  },
  {
   "cell_type": "code",
   "execution_count": 41,
   "metadata": {
    "scrolled": false
   },
   "outputs": [
    {
     "name": "stdout",
     "output_type": "stream",
     "text": [
      "Itteration number 100 is generated...\n",
      "Current accuracy is 45.33%\n"
     ]
    },
    {
     "data": {
      "image/png": "[encoded data removed]",
      "text/plain": [
       "<Figure size 360x360 with 1 Axes>"
      ]
     },
     "metadata": {
      "needs_background": "light"
     },
     "output_type": "display_data"
    }
   ],
   "source": [
    "#I will only reduce the delay and take 100 itterations to train on\n",
    "#Should take about ~200 seconds\n",
    "train_vis_perceptron(itterations = 100, delay = 2)\n",
    "\n",
    "#The colors on the plot represent one or another group of flowers\n",
    "#As it can be seen after 100 itterations perceptron updated...somewhat\n",
    "#Now it has an accuracy of 45.33% on our test data...\n",
    "#Wow that's bad"
   ]
  },
  {
   "cell_type": "code",
   "execution_count": 42,
   "metadata": {},
   "outputs": [
    {
     "name": "stdout",
     "output_type": "stream",
     "text": [
      "Itteration number 500 is generated...\n",
      "Current accuracy is 96.0%\n"
     ]
    },
    {
     "data": {
      "image/png": "[encoded data removed]",
      "text/plain": [
       "<Figure size 360x360 with 1 Axes>"
      ]
     },
     "metadata": {
      "needs_background": "light"
     },
     "output_type": "display_data"
    }
   ],
   "source": [
    "#I will train the perceptron once more continuing from where I left of above\n",
    "#But for more itterations and with almost no dealy\n",
    "train_vis_perceptron(itterations = 500, delay = 0.0001)\n",
    "#It can be noticed that the accuracy increased.\n",
    "\n",
    "#But the nature of perceptron is that it can also drop quite fast.\n",
    "#Perceptron is sensitive to new data. \n",
    "#Therefore over time - training it can drop the accuracy for the test data as well\n",
    "#This is also a good example of having not fully lineary seperable data\n",
    "#As you can see one point is clearly falling into a different group (red on)"
   ]
  },
  {
   "cell_type": "code",
   "execution_count": 44,
   "metadata": {},
   "outputs": [
    {
     "name": "stdout",
     "output_type": "stream",
     "text": [
      "Itteration number 10 is generated...\n",
      "Current accuracy is 98.67%\n"
     ]
    },
    {
     "data": {
      "image/png": "[encoded data removed]",
      "text/plain": [
       "<Figure size 360x360 with 1 Axes>"
      ]
     },
     "metadata": {
      "needs_background": "light"
     },
     "output_type": "display_data"
    }
   ],
   "source": [
    "#Let me get the perceptron to almost an optimal value with smaller trainings (ran it 2 times)\n",
    "train_vis_perceptron(itterations = 10, delay = 0.0001)\n",
    "\n",
    "#This as good as we will get it after my observations\n",
    "#Maybe a log tracker could be implemented to see how for the all training time was the accuracy"
   ]
  },
  {
   "cell_type": "markdown",
   "metadata": {},
   "source": [
    "So there you go. A usage of perceptron with a concept of online data streaming for training. \n",
    "Get the .ipynb file and the txt one (or create on on your own, the functions are only fixed to the name of the file) and experiment for yourself.\n",
    "\n",
    "Cheers!"
   ]
  },
  {
   "cell_type": "code",
   "execution_count": 45,
   "metadata": {},
   "outputs": [
    {
     "name": "stdout",
     "output_type": "stream",
     "text": [
      "Currnet model weights:  [ 12.  -19.7  -4. ]\n"
     ]
    }
   ],
   "source": [
    "#Bonus:\n",
    "print(\"Currnet model weights: \", model)"
   ]
  }
 ],
 "metadata": {
  "kernelspec": {
   "display_name": "Python 3",
   "language": "python",
   "name": "python3"
  },
  "language_info": {
   "codemirror_mode": {
    "name": "ipython",
    "version": 3
   },
   "file_extension": ".py",
   "mimetype": "text/x-python",
   "name": "python",
   "nbconvert_exporter": "python",
   "pygments_lexer": "ipython3",
   "version": "3.5.6"
  }
 },
 "nbformat": 4,
 "nbformat_minor": 2
}
