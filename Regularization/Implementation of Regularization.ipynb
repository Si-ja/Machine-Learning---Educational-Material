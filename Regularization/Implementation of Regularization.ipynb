{
 "cells": [
  {
   "cell_type": "markdown",
   "metadata": {},
   "source": [
    "## Implementation of Regularization\n",
    "\n",
    "This is a short notebook, that shows how to implement regularization with the goal of optimazing the scope of the project, in a data science environment , that calls to using of the Linear Square Model. \n",
    "\n",
    "* Date: 2020-04-04\n",
    "* Author: Si-ja\n",
    "* Dataset: Wine Quality Data Set (Reference: http://archive.ics.uci.edu/ml/datasets/Wine+Quality)\n",
    "* Additional resources to read that helped me get an idea what can be done:\n",
    "    * https://towardsdatascience.com/the-complete-guide-to-resampling-methods-and-regularization-in-python-5037f4f8ae23\n",
    "    * https://en.wikipedia.org/wiki/Regularization_(mathematics)\n",
    "    * https://www.youtube.com/watch?v=hrzx3FTL9aQ&t"
   ]
  },
  {
   "cell_type": "markdown",
   "metadata": {},
   "source": [
    "### Essence\n",
    "\n",
    "In essence, to easily understand/explain Regularization - it is a process to control for overfitting in the machine learning tasks.\n",
    "\n",
    "Overfitting happens when the model is tailored very well to the training data, but does not perform well with the testing data (or in general - real world one) that it has not been exposed to for the sake of training.\n",
    "\n",
    "In this case - only two regressions will be evaluated: `Ridge regression` and `Lasso`. The reason is because they are both quite popularly used in the `Regression analytics`, which is the method that will be viewed here.\n",
    "\n",
    "### Concepts: Ridge regression & LASSO\n",
    "\n",
    "Linear regression that stands at the base of the said regularizations is a `Linear Regression`. Scikit learn page describes it in the following way: \n",
    "\n",
    "`LinearRegression fits a linear model with coefficients to minimize the residual sum of squares between the observed targets in the dataset, and the targets predicted by the linear approximation.` (ref: https://scikit-learn.org/stable/modules/linear_model.html) \n",
    "\n",
    "The formula is the following:\n",
    "\n",
    "$$\n",
    "\\begin{align}\n",
    "    \\min\\limits_{w} ||X{w} - y||^2_2\n",
    "\\end{align}\n",
    "$$\n",
    "\n",
    "In simple terms: the formula says that the minimization of distance should happen through decreasing the size of `w` between the predicted value, which is calculated by multypling the known observation of a variable `X` times the weights that is attributed to the \"importance\" of that variable `w`. The `w` plays a role of decising how important the variable is to the underlying outcome of the regression. It is not per se correct to say that it determines importance, but rather weight of the contribution, as well as rate of change the independent variable to dependent, but thinking of this as importance gives a more solid idea further when talking about regularizations.\n",
    "\n",
    "`Ridge` & `LASSO` effectivelly introduce just a new component to the previous equation and based on https://scikit-learn.org/stable/modules/linear_model.html page, take the following form:\n",
    "\n",
    "$$\n",
    "\\begin{align}\n",
    "LASSO\\, (L1): \\min\\limits_{w} {1\\over 2n_{samples}} ||X{w} - y||^2_2 + \\alpha||w||_1\n",
    "\\end{align}\n",
    "$$\n",
    "\n",
    "$$\n",
    "Ridge\\, (L2): \\min\\limits_{w} ||X{w} - y||^2_2 + \\alpha||w||^2_2\n",
    "$$\n",
    " \n",
    "Equivalently, what needs to be understood - is that in both scenarios - the most important component, is that there is a penalty variable added in the end of the equation. It is controled by the variable $\\alpha$. Naturally, the bigger the $\\alpha$ is - the bigger the penalty will be for the `w` variable, effectivelly forcing it to be smaller. But the smaller it is - the more we are trying to ensure - the model would not overfit. However - too big of an $\\alpha$ will also lead to an underperforming model, with too small of weights, to be correct.\n",
    "\n",
    "To this point - as I personally understand, they both have positive and negative trade offs. LASSO can set values of some coefficients to actually be zero, where Ridge would not do that. So depending on our priorities and goals (and additionally what we know about the data we are dealing with), we can chose one or the other. For instance: if we are sure we want to use particular variables in the model training - Ridge is the way to go. But if we are dealing with the data from the perspective of not being completelly sure what we want to retain that will determine how the model operates - Lasso might be a good solution. Naturally there are many other things to potentially consider, but so far to minimize the strain of information - this is enough."
   ]
  },
  {
   "cell_type": "markdown",
   "metadata": {},
   "source": [
    "### Diving into an example\n",
    "\n",
    "It would be nice to actually see how all of this looks in practice, not just in theory. So let's approach this task. First we need a dataset, and it was decided (by me of course) to deal with a simple and known data - the wine data set. Let's load it. The source for it is taken from UCI Machine Learning website."
   ]
  },
  {
   "cell_type": "code",
   "execution_count": 1,
   "metadata": {},
   "outputs": [
    {
     "name": "stdout",
     "output_type": "stream",
     "text": [
      "Numpy version: 1.16.4\n",
      "Pandas version: 0.25.0\n",
      "Seaborn version: 0.9.0\n",
      "Matplotlib version: 3.1.0\n",
      "Sklearn version: 0.21.2\n",
      "Scipy version: 0.21.2\n"
     ]
    }
   ],
   "source": [
    "# Prior to getting the data - we will need few packages to operate with\n",
    "\n",
    "# For numeric calculations and data transformations\n",
    "import numpy as np\n",
    "print(\"Numpy version: {}\".format(np.__version__))\n",
    "\n",
    "# For working with data structures and data frames\n",
    "import pandas as pd\n",
    "print(\"Pandas version: {}\".format(pd.__version__))\n",
    "\n",
    "# For visualization of the data\n",
    "import seaborn as sns\n",
    "import matplotlib\n",
    "import matplotlib.pyplot as plt\n",
    "print(\"Seaborn version: {}\".format(sns.__version__))\n",
    "print(\"Matplotlib version: {}\".format(matplotlib.__version__))\n",
    "\n",
    "# For machine learning modeling processes (we will get more specific classes later)\n",
    "import sklearn\n",
    "print(\"Sklearn version: {}\".format(sklearn.__version__))\n",
    "\n",
    "# For few statistical operations\n",
    "import scipy\n",
    "from scipy.stats import shapiro\n",
    "print(\"Scipy version: {}\".format(sklearn.__version__))"
   ]
  },
  {
   "cell_type": "code",
   "execution_count": 2,
   "metadata": {},
   "outputs": [
    {
     "data": {
      "text/html": [
       "<div>\n",
       "<style scoped>\n",
       "    .dataframe tbody tr th:only-of-type {\n",
       "        vertical-align: middle;\n",
       "    }\n",
       "\n",
       "    .dataframe tbody tr th {\n",
       "        vertical-align: top;\n",
       "    }\n",
       "\n",
       "    .dataframe thead th {\n",
       "        text-align: right;\n",
       "    }\n",
       "</style>\n",
       "<table border=\"1\" class=\"dataframe\">\n",
       "  <thead>\n",
       "    <tr style=\"text-align: right;\">\n",
       "      <th></th>\n",
       "      <th>fixed acidity;\"volatile acidity\";\"citric acid\";\"residual sugar\";\"chlorides\";\"free sulfur dioxide\";\"total sulfur dioxide\";\"density\";\"pH\";\"sulphates\";\"alcohol\";\"quality\"</th>\n",
       "    </tr>\n",
       "  </thead>\n",
       "  <tbody>\n",
       "    <tr>\n",
       "      <th>0</th>\n",
       "      <td>7;0.27;0.36;20.7;0.045;45;170;1.001;3;0.45;8.8;6</td>\n",
       "    </tr>\n",
       "    <tr>\n",
       "      <th>1</th>\n",
       "      <td>6.3;0.3;0.34;1.6;0.049;14;132;0.994;3.3;0.49;9...</td>\n",
       "    </tr>\n",
       "    <tr>\n",
       "      <th>2</th>\n",
       "      <td>8.1;0.28;0.4;6.9;0.05;30;97;0.9951;3.26;0.44;1...</td>\n",
       "    </tr>\n",
       "    <tr>\n",
       "      <th>3</th>\n",
       "      <td>7.2;0.23;0.32;8.5;0.058;47;186;0.9956;3.19;0.4...</td>\n",
       "    </tr>\n",
       "    <tr>\n",
       "      <th>4</th>\n",
       "      <td>7.2;0.23;0.32;8.5;0.058;47;186;0.9956;3.19;0.4...</td>\n",
       "    </tr>\n",
       "  </tbody>\n",
       "</table>\n",
       "</div>"
      ],
      "text/plain": [
       "  fixed acidity;\"volatile acidity\";\"citric acid\";\"residual sugar\";\"chlorides\";\"free sulfur dioxide\";\"total sulfur dioxide\";\"density\";\"pH\";\"sulphates\";\"alcohol\";\"quality\"\n",
       "0   7;0.27;0.36;20.7;0.045;45;170;1.001;3;0.45;8.8;6                                                                                                                     \n",
       "1  6.3;0.3;0.34;1.6;0.049;14;132;0.994;3.3;0.49;9...                                                                                                                     \n",
       "2  8.1;0.28;0.4;6.9;0.05;30;97;0.9951;3.26;0.44;1...                                                                                                                     \n",
       "3  7.2;0.23;0.32;8.5;0.058;47;186;0.9956;3.19;0.4...                                                                                                                     \n",
       "4  7.2;0.23;0.32;8.5;0.058;47;186;0.9956;3.19;0.4...                                                                                                                     "
      ]
     },
     "execution_count": 2,
     "metadata": {},
     "output_type": "execute_result"
    }
   ],
   "source": [
    "# Load the data we need from a link\n",
    "dataset_url = \"http://archive.ics.uci.edu/ml/machine-learning-databases/wine-quality/winequality-white.csv\"\n",
    "\n",
    "# Open the data\n",
    "data = pd.read_csv(dataset_url)\n",
    "\n",
    "# Preview the data\n",
    "data.head()"
   ]
  },
  {
   "cell_type": "markdown",
   "metadata": {},
   "source": [
    "This is not right. As we can see, the issue seems to be that the seperator that is used is `;` instead of a regular comma. So we can fix that."
   ]
  },
  {
   "cell_type": "code",
   "execution_count": 3,
   "metadata": {},
   "outputs": [
    {
     "data": {
      "text/html": [
       "<div>\n",
       "<style scoped>\n",
       "    .dataframe tbody tr th:only-of-type {\n",
       "        vertical-align: middle;\n",
       "    }\n",
       "\n",
       "    .dataframe tbody tr th {\n",
       "        vertical-align: top;\n",
       "    }\n",
       "\n",
       "    .dataframe thead th {\n",
       "        text-align: right;\n",
       "    }\n",
       "</style>\n",
       "<table border=\"1\" class=\"dataframe\">\n",
       "  <thead>\n",
       "    <tr style=\"text-align: right;\">\n",
       "      <th></th>\n",
       "      <th>fixed acidity</th>\n",
       "      <th>volatile acidity</th>\n",
       "      <th>citric acid</th>\n",
       "      <th>residual sugar</th>\n",
       "      <th>chlorides</th>\n",
       "      <th>free sulfur dioxide</th>\n",
       "      <th>total sulfur dioxide</th>\n",
       "      <th>density</th>\n",
       "      <th>pH</th>\n",
       "      <th>sulphates</th>\n",
       "      <th>alcohol</th>\n",
       "      <th>quality</th>\n",
       "    </tr>\n",
       "  </thead>\n",
       "  <tbody>\n",
       "    <tr>\n",
       "      <th>0</th>\n",
       "      <td>7.0</td>\n",
       "      <td>0.27</td>\n",
       "      <td>0.36</td>\n",
       "      <td>20.7</td>\n",
       "      <td>0.045</td>\n",
       "      <td>45.0</td>\n",
       "      <td>170.0</td>\n",
       "      <td>1.0010</td>\n",
       "      <td>3.00</td>\n",
       "      <td>0.45</td>\n",
       "      <td>8.8</td>\n",
       "      <td>6</td>\n",
       "    </tr>\n",
       "    <tr>\n",
       "      <th>1</th>\n",
       "      <td>6.3</td>\n",
       "      <td>0.30</td>\n",
       "      <td>0.34</td>\n",
       "      <td>1.6</td>\n",
       "      <td>0.049</td>\n",
       "      <td>14.0</td>\n",
       "      <td>132.0</td>\n",
       "      <td>0.9940</td>\n",
       "      <td>3.30</td>\n",
       "      <td>0.49</td>\n",
       "      <td>9.5</td>\n",
       "      <td>6</td>\n",
       "    </tr>\n",
       "    <tr>\n",
       "      <th>2</th>\n",
       "      <td>8.1</td>\n",
       "      <td>0.28</td>\n",
       "      <td>0.40</td>\n",
       "      <td>6.9</td>\n",
       "      <td>0.050</td>\n",
       "      <td>30.0</td>\n",
       "      <td>97.0</td>\n",
       "      <td>0.9951</td>\n",
       "      <td>3.26</td>\n",
       "      <td>0.44</td>\n",
       "      <td>10.1</td>\n",
       "      <td>6</td>\n",
       "    </tr>\n",
       "    <tr>\n",
       "      <th>3</th>\n",
       "      <td>7.2</td>\n",
       "      <td>0.23</td>\n",
       "      <td>0.32</td>\n",
       "      <td>8.5</td>\n",
       "      <td>0.058</td>\n",
       "      <td>47.0</td>\n",
       "      <td>186.0</td>\n",
       "      <td>0.9956</td>\n",
       "      <td>3.19</td>\n",
       "      <td>0.40</td>\n",
       "      <td>9.9</td>\n",
       "      <td>6</td>\n",
       "    </tr>\n",
       "    <tr>\n",
       "      <th>4</th>\n",
       "      <td>7.2</td>\n",
       "      <td>0.23</td>\n",
       "      <td>0.32</td>\n",
       "      <td>8.5</td>\n",
       "      <td>0.058</td>\n",
       "      <td>47.0</td>\n",
       "      <td>186.0</td>\n",
       "      <td>0.9956</td>\n",
       "      <td>3.19</td>\n",
       "      <td>0.40</td>\n",
       "      <td>9.9</td>\n",
       "      <td>6</td>\n",
       "    </tr>\n",
       "  </tbody>\n",
       "</table>\n",
       "</div>"
      ],
      "text/plain": [
       "   fixed acidity  volatile acidity  citric acid  residual sugar  chlorides  \\\n",
       "0            7.0              0.27         0.36            20.7      0.045   \n",
       "1            6.3              0.30         0.34             1.6      0.049   \n",
       "2            8.1              0.28         0.40             6.9      0.050   \n",
       "3            7.2              0.23         0.32             8.5      0.058   \n",
       "4            7.2              0.23         0.32             8.5      0.058   \n",
       "\n",
       "   free sulfur dioxide  total sulfur dioxide  density    pH  sulphates  \\\n",
       "0                 45.0                 170.0   1.0010  3.00       0.45   \n",
       "1                 14.0                 132.0   0.9940  3.30       0.49   \n",
       "2                 30.0                  97.0   0.9951  3.26       0.44   \n",
       "3                 47.0                 186.0   0.9956  3.19       0.40   \n",
       "4                 47.0                 186.0   0.9956  3.19       0.40   \n",
       "\n",
       "   alcohol  quality  \n",
       "0      8.8        6  \n",
       "1      9.5        6  \n",
       "2     10.1        6  \n",
       "3      9.9        6  \n",
       "4      9.9        6  "
      ]
     },
     "execution_count": 3,
     "metadata": {},
     "output_type": "execute_result"
    }
   ],
   "source": [
    "# Load the data we need from a link\n",
    "dataset_url = \"http://archive.ics.uci.edu/ml/machine-learning-databases/wine-quality/winequality-white.csv\"\n",
    "\n",
    "# Open the data\n",
    "data = pd.read_csv(dataset_url, sep = \";\")\n",
    "\n",
    "# Preview the data\n",
    "data.head()"
   ]
  },
  {
   "cell_type": "markdown",
   "metadata": {},
   "source": [
    "Now, as we have a quite nice dataset, it would be very beneficial to do 2 things before actually making a model that can predict something - and that is to explore the data and see if there are any missing values anywhere in it."
   ]
  },
  {
   "cell_type": "code",
   "execution_count": 4,
   "metadata": {},
   "outputs": [
    {
     "name": "stdout",
     "output_type": "stream",
     "text": [
      "There is missing data in the table: False\n"
     ]
    }
   ],
   "source": [
    "# Checking for missing information\n",
    "print(\"There is missing data in the table: {}\".format(data.isnull().values.any()))"
   ]
  },
  {
   "cell_type": "markdown",
   "metadata": {},
   "source": [
    "As it seems there is no missing data - that makes our lifes easier, also allowing not to search each column for those missing instances. Otherwise, that would be highly encouraged, to check if something is missing, drop thosre records and proceed. It's not really clear if interpolation here would work, as there is no time series aspect to it. Each record is unique.\n",
    "\n",
    "Now then, we can learn a bit about the data itself. First pure statistical information would be beneficial."
   ]
  },
  {
   "cell_type": "code",
   "execution_count": 5,
   "metadata": {},
   "outputs": [
    {
     "data": {
      "text/html": [
       "<div>\n",
       "<style scoped>\n",
       "    .dataframe tbody tr th:only-of-type {\n",
       "        vertical-align: middle;\n",
       "    }\n",
       "\n",
       "    .dataframe tbody tr th {\n",
       "        vertical-align: top;\n",
       "    }\n",
       "\n",
       "    .dataframe thead th {\n",
       "        text-align: right;\n",
       "    }\n",
       "</style>\n",
       "<table border=\"1\" class=\"dataframe\">\n",
       "  <thead>\n",
       "    <tr style=\"text-align: right;\">\n",
       "      <th></th>\n",
       "      <th>fixed acidity</th>\n",
       "      <th>volatile acidity</th>\n",
       "      <th>citric acid</th>\n",
       "      <th>residual sugar</th>\n",
       "      <th>chlorides</th>\n",
       "      <th>free sulfur dioxide</th>\n",
       "      <th>total sulfur dioxide</th>\n",
       "      <th>density</th>\n",
       "      <th>pH</th>\n",
       "      <th>sulphates</th>\n",
       "      <th>alcohol</th>\n",
       "      <th>quality</th>\n",
       "    </tr>\n",
       "  </thead>\n",
       "  <tbody>\n",
       "    <tr>\n",
       "      <th>count</th>\n",
       "      <td>4898.000000</td>\n",
       "      <td>4898.000000</td>\n",
       "      <td>4898.000000</td>\n",
       "      <td>4898.000000</td>\n",
       "      <td>4898.000000</td>\n",
       "      <td>4898.000000</td>\n",
       "      <td>4898.000000</td>\n",
       "      <td>4898.000000</td>\n",
       "      <td>4898.000000</td>\n",
       "      <td>4898.000000</td>\n",
       "      <td>4898.000000</td>\n",
       "      <td>4898.000000</td>\n",
       "    </tr>\n",
       "    <tr>\n",
       "      <th>mean</th>\n",
       "      <td>6.854788</td>\n",
       "      <td>0.278241</td>\n",
       "      <td>0.334192</td>\n",
       "      <td>6.391415</td>\n",
       "      <td>0.045772</td>\n",
       "      <td>35.308085</td>\n",
       "      <td>138.360657</td>\n",
       "      <td>0.994027</td>\n",
       "      <td>3.188267</td>\n",
       "      <td>0.489847</td>\n",
       "      <td>10.514267</td>\n",
       "      <td>5.877909</td>\n",
       "    </tr>\n",
       "    <tr>\n",
       "      <th>std</th>\n",
       "      <td>0.843868</td>\n",
       "      <td>0.100795</td>\n",
       "      <td>0.121020</td>\n",
       "      <td>5.072058</td>\n",
       "      <td>0.021848</td>\n",
       "      <td>17.007137</td>\n",
       "      <td>42.498065</td>\n",
       "      <td>0.002991</td>\n",
       "      <td>0.151001</td>\n",
       "      <td>0.114126</td>\n",
       "      <td>1.230621</td>\n",
       "      <td>0.885639</td>\n",
       "    </tr>\n",
       "    <tr>\n",
       "      <th>min</th>\n",
       "      <td>3.800000</td>\n",
       "      <td>0.080000</td>\n",
       "      <td>0.000000</td>\n",
       "      <td>0.600000</td>\n",
       "      <td>0.009000</td>\n",
       "      <td>2.000000</td>\n",
       "      <td>9.000000</td>\n",
       "      <td>0.987110</td>\n",
       "      <td>2.720000</td>\n",
       "      <td>0.220000</td>\n",
       "      <td>8.000000</td>\n",
       "      <td>3.000000</td>\n",
       "    </tr>\n",
       "    <tr>\n",
       "      <th>25%</th>\n",
       "      <td>6.300000</td>\n",
       "      <td>0.210000</td>\n",
       "      <td>0.270000</td>\n",
       "      <td>1.700000</td>\n",
       "      <td>0.036000</td>\n",
       "      <td>23.000000</td>\n",
       "      <td>108.000000</td>\n",
       "      <td>0.991723</td>\n",
       "      <td>3.090000</td>\n",
       "      <td>0.410000</td>\n",
       "      <td>9.500000</td>\n",
       "      <td>5.000000</td>\n",
       "    </tr>\n",
       "    <tr>\n",
       "      <th>50%</th>\n",
       "      <td>6.800000</td>\n",
       "      <td>0.260000</td>\n",
       "      <td>0.320000</td>\n",
       "      <td>5.200000</td>\n",
       "      <td>0.043000</td>\n",
       "      <td>34.000000</td>\n",
       "      <td>134.000000</td>\n",
       "      <td>0.993740</td>\n",
       "      <td>3.180000</td>\n",
       "      <td>0.470000</td>\n",
       "      <td>10.400000</td>\n",
       "      <td>6.000000</td>\n",
       "    </tr>\n",
       "    <tr>\n",
       "      <th>75%</th>\n",
       "      <td>7.300000</td>\n",
       "      <td>0.320000</td>\n",
       "      <td>0.390000</td>\n",
       "      <td>9.900000</td>\n",
       "      <td>0.050000</td>\n",
       "      <td>46.000000</td>\n",
       "      <td>167.000000</td>\n",
       "      <td>0.996100</td>\n",
       "      <td>3.280000</td>\n",
       "      <td>0.550000</td>\n",
       "      <td>11.400000</td>\n",
       "      <td>6.000000</td>\n",
       "    </tr>\n",
       "    <tr>\n",
       "      <th>max</th>\n",
       "      <td>14.200000</td>\n",
       "      <td>1.100000</td>\n",
       "      <td>1.660000</td>\n",
       "      <td>65.800000</td>\n",
       "      <td>0.346000</td>\n",
       "      <td>289.000000</td>\n",
       "      <td>440.000000</td>\n",
       "      <td>1.038980</td>\n",
       "      <td>3.820000</td>\n",
       "      <td>1.080000</td>\n",
       "      <td>14.200000</td>\n",
       "      <td>9.000000</td>\n",
       "    </tr>\n",
       "  </tbody>\n",
       "</table>\n",
       "</div>"
      ],
      "text/plain": [
       "       fixed acidity  volatile acidity  citric acid  residual sugar  \\\n",
       "count    4898.000000       4898.000000  4898.000000     4898.000000   \n",
       "mean        6.854788          0.278241     0.334192        6.391415   \n",
       "std         0.843868          0.100795     0.121020        5.072058   \n",
       "min         3.800000          0.080000     0.000000        0.600000   \n",
       "25%         6.300000          0.210000     0.270000        1.700000   \n",
       "50%         6.800000          0.260000     0.320000        5.200000   \n",
       "75%         7.300000          0.320000     0.390000        9.900000   \n",
       "max        14.200000          1.100000     1.660000       65.800000   \n",
       "\n",
       "         chlorides  free sulfur dioxide  total sulfur dioxide      density  \\\n",
       "count  4898.000000          4898.000000           4898.000000  4898.000000   \n",
       "mean      0.045772            35.308085            138.360657     0.994027   \n",
       "std       0.021848            17.007137             42.498065     0.002991   \n",
       "min       0.009000             2.000000              9.000000     0.987110   \n",
       "25%       0.036000            23.000000            108.000000     0.991723   \n",
       "50%       0.043000            34.000000            134.000000     0.993740   \n",
       "75%       0.050000            46.000000            167.000000     0.996100   \n",
       "max       0.346000           289.000000            440.000000     1.038980   \n",
       "\n",
       "                pH    sulphates      alcohol      quality  \n",
       "count  4898.000000  4898.000000  4898.000000  4898.000000  \n",
       "mean      3.188267     0.489847    10.514267     5.877909  \n",
       "std       0.151001     0.114126     1.230621     0.885639  \n",
       "min       2.720000     0.220000     8.000000     3.000000  \n",
       "25%       3.090000     0.410000     9.500000     5.000000  \n",
       "50%       3.180000     0.470000    10.400000     6.000000  \n",
       "75%       3.280000     0.550000    11.400000     6.000000  \n",
       "max       3.820000     1.080000    14.200000     9.000000  "
      ]
     },
     "execution_count": 5,
     "metadata": {},
     "output_type": "execute_result"
    }
   ],
   "source": [
    "data.describe()"
   ]
  },
  {
   "cell_type": "markdown",
   "metadata": {},
   "source": [
    "For the major part `.describe()` method is enough for us to get some notion of understanding what we have on our hands. We see that all columns are filled and tehre are up to 4898 records. The mean quality of the wine, which we will use as our Dependent Variable is around 5.8 with a standard deviation of almost 1. Minimial values of it are 3, and maximum are 9. But the 75th percentale is equal to 6, which might suggest that our data is not from a normal distribution. Majority of other values do not convey too much useful of information in the form they are, as I don't know about you - but I'm not an expert on wine and its components.\n",
    "\n",
    "Further, all the variables can be displayed in their spread in comparision to the quality variable + it is worth while to see how the values for the quality variable are distributed as well, as some notion of an issue has been noticed previously from the descriptive statistics."
   ]
  },
  {
   "cell_type": "code",
   "execution_count": 6,
   "metadata": {},
   "outputs": [
    {
     "data": {
      "image/png": "[encoded data removed]",
      "text/plain": [
       "<Figure size 432x288 with 1 Axes>"
      ]
     },
     "metadata": {
      "needs_background": "light"
     },
     "output_type": "display_data"
    }
   ],
   "source": [
    "ax = sns.kdeplot(data[\"quality\"], shade=True, color = \"r\")\n",
    "plt.show(ax)"
   ]
  },
  {
   "cell_type": "markdown",
   "metadata": {},
   "source": [
    "Simple kde plot seems to work finish, but not as smooth. Seems like quality values are purelly integers, therefore there is no transition between them. So better solution is to employ a bar chart."
   ]
  },
  {
   "cell_type": "code",
   "execution_count": 7,
   "metadata": {},
   "outputs": [
    {
     "data": {
      "text/html": [
       "<div>\n",
       "<style scoped>\n",
       "    .dataframe tbody tr th:only-of-type {\n",
       "        vertical-align: middle;\n",
       "    }\n",
       "\n",
       "    .dataframe tbody tr th {\n",
       "        vertical-align: top;\n",
       "    }\n",
       "\n",
       "    .dataframe thead th {\n",
       "        text-align: right;\n",
       "    }\n",
       "</style>\n",
       "<table border=\"1\" class=\"dataframe\">\n",
       "  <thead>\n",
       "    <tr style=\"text-align: right;\">\n",
       "      <th></th>\n",
       "      <th>quality</th>\n",
       "    </tr>\n",
       "  </thead>\n",
       "  <tbody>\n",
       "    <tr>\n",
       "      <th>3</th>\n",
       "      <td>20</td>\n",
       "    </tr>\n",
       "    <tr>\n",
       "      <th>4</th>\n",
       "      <td>163</td>\n",
       "    </tr>\n",
       "    <tr>\n",
       "      <th>5</th>\n",
       "      <td>1457</td>\n",
       "    </tr>\n",
       "    <tr>\n",
       "      <th>6</th>\n",
       "      <td>2198</td>\n",
       "    </tr>\n",
       "    <tr>\n",
       "      <th>7</th>\n",
       "      <td>880</td>\n",
       "    </tr>\n",
       "    <tr>\n",
       "      <th>8</th>\n",
       "      <td>175</td>\n",
       "    </tr>\n",
       "    <tr>\n",
       "      <th>9</th>\n",
       "      <td>5</td>\n",
       "    </tr>\n",
       "  </tbody>\n",
       "</table>\n",
       "</div>"
      ],
      "text/plain": [
       "   quality\n",
       "3       20\n",
       "4      163\n",
       "5     1457\n",
       "6     2198\n",
       "7      880\n",
       "8      175\n",
       "9        5"
      ]
     },
     "execution_count": 7,
     "metadata": {},
     "output_type": "execute_result"
    }
   ],
   "source": [
    "# Find which quality values are representative of the whole quality set\n",
    "quality_values = np.unique(data[\"quality\"])\n",
    "quality_values\n",
    "# As was assumed - all of them are integers\n",
    "\n",
    "# Find unique entries for each quality and convert it to a dataframe\n",
    "quality_instances = pd.DataFrame(data.quality.value_counts()).sort_index()\n",
    "quality_instances"
   ]
  },
  {
   "cell_type": "code",
   "execution_count": 8,
   "metadata": {},
   "outputs": [
    {
     "data": {
      "image/png": "[encoded data removed]",
      "text/plain": [
       "<Figure size 432x288 with 1 Axes>"
      ]
     },
     "metadata": {
      "needs_background": "light"
     },
     "output_type": "display_data"
    }
   ],
   "source": [
    "ax = quality_instances.plot.bar()\n",
    "plt.show(ax)"
   ]
  },
  {
   "cell_type": "markdown",
   "metadata": {},
   "source": [
    "What can be noticed, is that there is infact not many cases with values of 3 and 9 in quality. And quality of values 5 seems to be a lot more strong, than 7. The distribution seems to have a normal-ish type, though not fully. "
   ]
  },
  {
   "cell_type": "code",
   "execution_count": 9,
   "metadata": {},
   "outputs": [
    {
     "name": "stdout",
     "output_type": "stream",
     "text": [
      "Statistics = 0.472, p = 0.0\n",
      "Distribution is not normal\n"
     ]
    },
    {
     "name": "stderr",
     "output_type": "stream",
     "text": [
      "D:\\Software\\Anaconda\\envs\\PyTorch2019\\lib\\site-packages\\scipy\\stats\\morestats.py:1660: UserWarning: p-value may not be accurate for N > 5000.\n",
      "  warnings.warn(\"p-value may not be accurate for N > 5000.\")\n"
     ]
    }
   ],
   "source": [
    "# Check with shapiro-wilk test if the distribution is normal\n",
    "stat, p = shapiro(data)\n",
    "print(\"Statistics = {}, p = {}\".format(round(stat,3), round(p, 3)))\n",
    "\n",
    "# Set a condition\n",
    "check = 0.05\n",
    "if p > check:\n",
    "    print(\"Distribution is normal\")\n",
    "else:\n",
    "    print(\"Distribution is not normal\")"
   ]
  },
  {
   "cell_type": "markdown",
   "metadata": {},
   "source": [
    "Even though likely the test is not too accurate (as it is not with too big of a sample set), even the statistical model suggests that the distribtuion is not normal.\n",
    "\n",
    "But now let's move on to taking a look at the data we are dealing with and what the variables might tell us about their interaction with the `quality` variable."
   ]
  },
  {
   "cell_type": "code",
   "execution_count": 10,
   "metadata": {
    "scrolled": false
   },
   "outputs": [
    {
     "data": {
      "image/png": "[encoded data removed]",
      "text/plain": [
       "<Figure size 1008x1008 with 12 Axes>"
      ]
     },
     "metadata": {},
     "output_type": "display_data"
    }
   ],
   "source": [
    "sns.set()\n",
    "y = \"quality\"\n",
    "rows = 6\n",
    "columns = 2\n",
    "colors = [\"red\", \"black\", \"blue\", \"green\", \"purple\", \"orange\"]\n",
    "f, axes = plt.subplots(rows, columns, figsize=(14, 14), sharex=False)\n",
    "for idx, columnName in enumerate(data.columns):\n",
    "    row = idx % rows\n",
    "    col = idx // rows\n",
    "    c = colors[row]\n",
    "    x = str(columnName)\n",
    "    ax = sns.scatterplot(x = x, y = y, data=data, ax=axes[row, col], color = c)\n",
    "    axes[row][col].set_title(x)\n",
    "    plt.tight_layout()"
   ]
  },
  {
   "cell_type": "markdown",
   "metadata": {},
   "source": [
    "Now we can get a small sense of what we are working with. Obviously increase/decrease in quality is directly related to increase/decrease in quality, so the last plot can be ignored. What can be noticed with interesting data, is that `Fixed acidity` seems to have some relationship with the quality, where it goes up - the quality seems to tend to go down. Similar concept seems to be a bit present with `Citric acid`, `Volatile acidity` and `Total sulfer dioxide`. On the oposite end, it could be seen that increase in `Sulphates` and `Alcohol` leads to increase in quality.\n",
    "\n",
    "In general, it is not fully clear what might be the necessery variables be, that really influence the quality of (white) wine. Therefore, using something like a `Lasso` regularization might seem quite applicable. "
   ]
  },
  {
   "cell_type": "markdown",
   "metadata": {},
   "source": [
    "### Moving to Machine Learning concepts\n",
    "\n",
    "Finally, let's produce a model will OLS regression and try to regulate for it and see how well our model will perform then."
   ]
  },
  {
   "cell_type": "code",
   "execution_count": 11,
   "metadata": {},
   "outputs": [],
   "source": [
    "# Devide the data into Dependend and Independent variables\n",
    "\n",
    "# DV\n",
    "y = data[\"quality\"] \n",
    "\n",
    "# IV\n",
    "X = data.drop([\"quality\"], axis = 1)"
   ]
  },
  {
   "cell_type": "markdown",
   "metadata": {},
   "source": [
    "We can check if our data is kept properly and nothing broke."
   ]
  },
  {
   "cell_type": "code",
   "execution_count": 12,
   "metadata": {},
   "outputs": [
    {
     "data": {
      "text/html": [
       "<div>\n",
       "<style scoped>\n",
       "    .dataframe tbody tr th:only-of-type {\n",
       "        vertical-align: middle;\n",
       "    }\n",
       "\n",
       "    .dataframe tbody tr th {\n",
       "        vertical-align: top;\n",
       "    }\n",
       "\n",
       "    .dataframe thead th {\n",
       "        text-align: right;\n",
       "    }\n",
       "</style>\n",
       "<table border=\"1\" class=\"dataframe\">\n",
       "  <thead>\n",
       "    <tr style=\"text-align: right;\">\n",
       "      <th></th>\n",
       "      <th>fixed acidity</th>\n",
       "      <th>volatile acidity</th>\n",
       "      <th>citric acid</th>\n",
       "      <th>residual sugar</th>\n",
       "      <th>chlorides</th>\n",
       "      <th>free sulfur dioxide</th>\n",
       "      <th>total sulfur dioxide</th>\n",
       "      <th>density</th>\n",
       "      <th>pH</th>\n",
       "      <th>sulphates</th>\n",
       "      <th>alcohol</th>\n",
       "    </tr>\n",
       "  </thead>\n",
       "  <tbody>\n",
       "    <tr>\n",
       "      <th>0</th>\n",
       "      <td>7.0</td>\n",
       "      <td>0.27</td>\n",
       "      <td>0.36</td>\n",
       "      <td>20.7</td>\n",
       "      <td>0.045</td>\n",
       "      <td>45.0</td>\n",
       "      <td>170.0</td>\n",
       "      <td>1.0010</td>\n",
       "      <td>3.00</td>\n",
       "      <td>0.45</td>\n",
       "      <td>8.8</td>\n",
       "    </tr>\n",
       "    <tr>\n",
       "      <th>1</th>\n",
       "      <td>6.3</td>\n",
       "      <td>0.30</td>\n",
       "      <td>0.34</td>\n",
       "      <td>1.6</td>\n",
       "      <td>0.049</td>\n",
       "      <td>14.0</td>\n",
       "      <td>132.0</td>\n",
       "      <td>0.9940</td>\n",
       "      <td>3.30</td>\n",
       "      <td>0.49</td>\n",
       "      <td>9.5</td>\n",
       "    </tr>\n",
       "    <tr>\n",
       "      <th>2</th>\n",
       "      <td>8.1</td>\n",
       "      <td>0.28</td>\n",
       "      <td>0.40</td>\n",
       "      <td>6.9</td>\n",
       "      <td>0.050</td>\n",
       "      <td>30.0</td>\n",
       "      <td>97.0</td>\n",
       "      <td>0.9951</td>\n",
       "      <td>3.26</td>\n",
       "      <td>0.44</td>\n",
       "      <td>10.1</td>\n",
       "    </tr>\n",
       "    <tr>\n",
       "      <th>3</th>\n",
       "      <td>7.2</td>\n",
       "      <td>0.23</td>\n",
       "      <td>0.32</td>\n",
       "      <td>8.5</td>\n",
       "      <td>0.058</td>\n",
       "      <td>47.0</td>\n",
       "      <td>186.0</td>\n",
       "      <td>0.9956</td>\n",
       "      <td>3.19</td>\n",
       "      <td>0.40</td>\n",
       "      <td>9.9</td>\n",
       "    </tr>\n",
       "    <tr>\n",
       "      <th>4</th>\n",
       "      <td>7.2</td>\n",
       "      <td>0.23</td>\n",
       "      <td>0.32</td>\n",
       "      <td>8.5</td>\n",
       "      <td>0.058</td>\n",
       "      <td>47.0</td>\n",
       "      <td>186.0</td>\n",
       "      <td>0.9956</td>\n",
       "      <td>3.19</td>\n",
       "      <td>0.40</td>\n",
       "      <td>9.9</td>\n",
       "    </tr>\n",
       "  </tbody>\n",
       "</table>\n",
       "</div>"
      ],
      "text/plain": [
       "   fixed acidity  volatile acidity  citric acid  residual sugar  chlorides  \\\n",
       "0            7.0              0.27         0.36            20.7      0.045   \n",
       "1            6.3              0.30         0.34             1.6      0.049   \n",
       "2            8.1              0.28         0.40             6.9      0.050   \n",
       "3            7.2              0.23         0.32             8.5      0.058   \n",
       "4            7.2              0.23         0.32             8.5      0.058   \n",
       "\n",
       "   free sulfur dioxide  total sulfur dioxide  density    pH  sulphates  \\\n",
       "0                 45.0                 170.0   1.0010  3.00       0.45   \n",
       "1                 14.0                 132.0   0.9940  3.30       0.49   \n",
       "2                 30.0                  97.0   0.9951  3.26       0.44   \n",
       "3                 47.0                 186.0   0.9956  3.19       0.40   \n",
       "4                 47.0                 186.0   0.9956  3.19       0.40   \n",
       "\n",
       "   alcohol  \n",
       "0      8.8  \n",
       "1      9.5  \n",
       "2     10.1  \n",
       "3      9.9  \n",
       "4      9.9  "
      ]
     },
     "execution_count": 12,
     "metadata": {},
     "output_type": "execute_result"
    }
   ],
   "source": [
    "pd.DataFrame(X.head())"
   ]
  },
  {
   "cell_type": "code",
   "execution_count": 13,
   "metadata": {},
   "outputs": [
    {
     "data": {
      "text/html": [
       "<div>\n",
       "<style scoped>\n",
       "    .dataframe tbody tr th:only-of-type {\n",
       "        vertical-align: middle;\n",
       "    }\n",
       "\n",
       "    .dataframe tbody tr th {\n",
       "        vertical-align: top;\n",
       "    }\n",
       "\n",
       "    .dataframe thead th {\n",
       "        text-align: right;\n",
       "    }\n",
       "</style>\n",
       "<table border=\"1\" class=\"dataframe\">\n",
       "  <thead>\n",
       "    <tr style=\"text-align: right;\">\n",
       "      <th></th>\n",
       "      <th>quality</th>\n",
       "    </tr>\n",
       "  </thead>\n",
       "  <tbody>\n",
       "    <tr>\n",
       "      <th>0</th>\n",
       "      <td>6</td>\n",
       "    </tr>\n",
       "    <tr>\n",
       "      <th>1</th>\n",
       "      <td>6</td>\n",
       "    </tr>\n",
       "    <tr>\n",
       "      <th>2</th>\n",
       "      <td>6</td>\n",
       "    </tr>\n",
       "    <tr>\n",
       "      <th>3</th>\n",
       "      <td>6</td>\n",
       "    </tr>\n",
       "    <tr>\n",
       "      <th>4</th>\n",
       "      <td>6</td>\n",
       "    </tr>\n",
       "  </tbody>\n",
       "</table>\n",
       "</div>"
      ],
      "text/plain": [
       "   quality\n",
       "0        6\n",
       "1        6\n",
       "2        6\n",
       "3        6\n",
       "4        6"
      ]
     },
     "execution_count": 13,
     "metadata": {},
     "output_type": "execute_result"
    }
   ],
   "source": [
    "pd.DataFrame(y.head())"
   ]
  },
  {
   "cell_type": "markdown",
   "metadata": {},
   "source": [
    "Now it would be beneficial to split our data into the training and testing sets. As well, as we know our data is not distributed properly - that we should stratify it. In this case we will use only one set of data, even though for other cases it might be beneficial to use something like k-fold cross validation for a more extensive model fitting."
   ]
  },
  {
   "cell_type": "code",
   "execution_count": 14,
   "metadata": {},
   "outputs": [],
   "source": [
    "from sklearn.model_selection import train_test_split \n",
    "# This method as described in documentation takes care of stratification\n",
    "X_train, X_test, y_train, y_test = train_test_split(X, y, test_size = 0.3, random_state = 42)"
   ]
  },
  {
   "cell_type": "code",
   "execution_count": 15,
   "metadata": {},
   "outputs": [],
   "source": [
    "# Now just a small update needs to be done to how data is stored so that sklearn could deal with it\n",
    "X_train = X_train.to_numpy()\n",
    "X_test = X_test.to_numpy()\n",
    "y_train = y_train.to_numpy().reshape(-1, 1)\n",
    "y_test = y_test.to_numpy().reshape(-1, 1)"
   ]
  },
  {
   "cell_type": "markdown",
   "metadata": {},
   "source": [
    "Now lets load the classes for LinearRegression, regularizations and MSE (marginal squared error) calculations."
   ]
  },
  {
   "cell_type": "code",
   "execution_count": 16,
   "metadata": {},
   "outputs": [
    {
     "name": "stdout",
     "output_type": "stream",
     "text": [
      "R^2 Score of Linear Regression: 0.2659\n",
      "MSE on a testing set: 0.5543\n",
      "-------------------------------------------------------------------------------------------\n",
      "Fitting 10 folds for each of 17 candidates, totalling 170 fits\n"
     ]
    },
    {
     "name": "stderr",
     "output_type": "stream",
     "text": [
      "[Parallel(n_jobs=1)]: Using backend SequentialBackend with 1 concurrent workers.\n",
      "[Parallel(n_jobs=1)]: Done 170 out of 170 | elapsed:    0.2s finished\n",
      "[Parallel(n_jobs=1)]: Using backend SequentialBackend with 1 concurrent workers.\n"
     ]
    },
    {
     "name": "stdout",
     "output_type": "stream",
     "text": [
      "R^2 Score of Ridge Regression: 0.2617\n",
      "MSE on a testing set: 0.5575\n",
      "-------------------------------------------------------------------------------------------\n",
      "Fitting 10 folds for each of 17 candidates, totalling 170 fits\n",
      "R^2 Score of Lasso: 0.2642\n",
      "MSE on a testing set: 0.5556\n"
     ]
    },
    {
     "name": "stderr",
     "output_type": "stream",
     "text": [
      "[Parallel(n_jobs=1)]: Done 170 out of 170 | elapsed:    1.6s finished\n"
     ]
    }
   ],
   "source": [
    "from sklearn.linear_model import LinearRegression, Ridge, Lasso\n",
    "from sklearn.metrics import mean_squared_error\n",
    "\n",
    "lr = LinearRegression()\n",
    "lr.fit(X_train, y_train)\n",
    "\n",
    "print(\"R^2 Score of Linear Regression: {}\".format(round(lr.score(X_test, y_test), 4)))\n",
    "print(\"MSE on a testing set: {}\".format(round(mean_squared_error(y_test, lr.predict(X_test)), 4)))\n",
    "print(\"-------------------------------------------------------------------------------------------\")\n",
    "\n",
    "# What if we applied Ridge regression using the exact same conditions\n",
    "# Here we need a grid search as our alpha value is not known prior to us starting the endevour\n",
    "from sklearn.model_selection import GridSearchCV\n",
    "\n",
    "ridge = Ridge()\n",
    "alphaVals = {\"alpha\" : [1e-12,\n",
    "                        1e-11,\n",
    "                        1e-10,\n",
    "                        1e-9,\n",
    "                        1e-8,\n",
    "                        1e-7,\n",
    "                        1e-6,\n",
    "                        1e-5,\n",
    "                        1e-4,\n",
    "                        1e-3,\n",
    "                        1e-2,\n",
    "                        1,\n",
    "                        5,\n",
    "                        10,\n",
    "                        20,\n",
    "                        30,\n",
    "                        40]}\n",
    "rr = GridSearchCV(estimator = ridge, param_grid = alphaVals, scoring = \"r2\", verbose = 1, cv = 10)\n",
    "rr.fit(X_train, y_train)\n",
    "\n",
    "#Refit with best parameter of alpha\n",
    "ridge = Ridge(alpha = rr.best_params_[\"alpha\"])\n",
    "ridge.fit(X_train, y_train)\n",
    "\n",
    "\n",
    "print(\"R^2 Score of Ridge Regression: {}\".format(round(ridge.score(X_test, y_test), 4)))\n",
    "print(\"MSE on a testing set: {}\".format(round(mean_squared_error(y_test, ridge.predict(X_test)), 4)))\n",
    "print(\"-------------------------------------------------------------------------------------------\")\n",
    "\n",
    "# Attempt the same for the lasso regularization\n",
    "lasso = Lasso()\n",
    "alphaVals = {\"alpha\" : [1e-12,\n",
    "                        1e-11,\n",
    "                        1e-10,\n",
    "                        1e-9,\n",
    "                        1e-8,\n",
    "                        1e-7,\n",
    "                        1e-6,\n",
    "                        1e-5,\n",
    "                        1e-4,\n",
    "                        1e-3,\n",
    "                        1e-2,\n",
    "                        1,\n",
    "                        5,\n",
    "                        10,\n",
    "                        20,\n",
    "                        30,\n",
    "                        40]}\n",
    "lsr = GridSearchCV(estimator = lasso, param_grid = alphaVals, scoring = \"r2\", verbose = 1, cv = 10)\n",
    "lsr.fit(X_train, y_train)\n",
    "\n",
    "#Refit with best parameters of alpha\n",
    "lasso = Lasso(alpha = lsr.best_params_[\"alpha\"])\n",
    "lasso.fit(X_train, y_train)\n",
    "\n",
    "print(\"R^2 Score of Lasso: {}\".format(round(lasso.score(X_test, y_test), 4)))\n",
    "print(\"MSE on a testing set: {}\".format(round(mean_squared_error(y_test, lasso.predict(X_test)), 4)))"
   ]
  },
  {
   "cell_type": "markdown",
   "metadata": {},
   "source": [
    "The new models seem to not preidct much better than the original trained one. But, they are not substantially worse. The Lasso seems to perform quite well on the testing set. Hopes are, that models are simplified and less tailored to making mistakes, due to more significant overfitting.\n",
    "\n",
    "We can always get coefficients and compare them."
   ]
  },
  {
   "cell_type": "code",
   "execution_count": 17,
   "metadata": {},
   "outputs": [],
   "source": [
    "lr_coef = lr.coef_[0]\n",
    "rr_coef = ridge.coef_[0]\n",
    "lsr_coef = lasso.coef_ # I know...this one is weird. Others are in list of lists, except for this one."
   ]
  },
  {
   "cell_type": "code",
   "execution_count": 18,
   "metadata": {},
   "outputs": [],
   "source": [
    "# Name of the variable\n",
    "names = []\n",
    "for idx, columnName in enumerate(data.columns):\n",
    "    if idx != 11:\n",
    "        names.append(columnName)\n",
    "\n",
    "#New dataframe\n",
    "data_coefs = {\n",
    "    \"Names\" : names,\n",
    "    \"Linear Regression Coefficients\": lr_coef,\n",
    "    \"Ridge Coefficients\": rr_coef,\n",
    "    \"Lasso Coefficients\": lsr_coef\n",
    "}\n",
    "\n",
    "df_coef = pd.DataFrame(data_coefs, columns = data_coefs.keys())"
   ]
  },
  {
   "cell_type": "code",
   "execution_count": 19,
   "metadata": {},
   "outputs": [
    {
     "data": {
      "text/html": [
       "<div>\n",
       "<style scoped>\n",
       "    .dataframe tbody tr th:only-of-type {\n",
       "        vertical-align: middle;\n",
       "    }\n",
       "\n",
       "    .dataframe tbody tr th {\n",
       "        vertical-align: top;\n",
       "    }\n",
       "\n",
       "    .dataframe thead th {\n",
       "        text-align: right;\n",
       "    }\n",
       "</style>\n",
       "<table border=\"1\" class=\"dataframe\">\n",
       "  <thead>\n",
       "    <tr style=\"text-align: right;\">\n",
       "      <th></th>\n",
       "      <th>Names</th>\n",
       "      <th>Linear Regression Coefficients</th>\n",
       "      <th>Ridge Coefficients</th>\n",
       "      <th>Lasso Coefficients</th>\n",
       "    </tr>\n",
       "  </thead>\n",
       "  <tbody>\n",
       "    <tr>\n",
       "      <th>0</th>\n",
       "      <td>fixed acidity</td>\n",
       "      <td>0.052278</td>\n",
       "      <td>0.005841</td>\n",
       "      <td>0.029884</td>\n",
       "    </tr>\n",
       "    <tr>\n",
       "      <th>1</th>\n",
       "      <td>volatile acidity</td>\n",
       "      <td>-1.928107</td>\n",
       "      <td>-1.975316</td>\n",
       "      <td>-1.949070</td>\n",
       "    </tr>\n",
       "    <tr>\n",
       "      <th>2</th>\n",
       "      <td>citric acid</td>\n",
       "      <td>-0.085351</td>\n",
       "      <td>-0.105327</td>\n",
       "      <td>-0.093367</td>\n",
       "    </tr>\n",
       "    <tr>\n",
       "      <th>3</th>\n",
       "      <td>residual sugar</td>\n",
       "      <td>0.074650</td>\n",
       "      <td>0.052301</td>\n",
       "      <td>0.063922</td>\n",
       "    </tr>\n",
       "    <tr>\n",
       "      <th>4</th>\n",
       "      <td>chlorides</td>\n",
       "      <td>0.287160</td>\n",
       "      <td>-0.004496</td>\n",
       "      <td>0.120322</td>\n",
       "    </tr>\n",
       "    <tr>\n",
       "      <th>5</th>\n",
       "      <td>free sulfur dioxide</td>\n",
       "      <td>0.004626</td>\n",
       "      <td>0.005056</td>\n",
       "      <td>0.004833</td>\n",
       "    </tr>\n",
       "    <tr>\n",
       "      <th>6</th>\n",
       "      <td>total sulfur dioxide</td>\n",
       "      <td>-0.000171</td>\n",
       "      <td>-0.000393</td>\n",
       "      <td>-0.000277</td>\n",
       "    </tr>\n",
       "    <tr>\n",
       "      <th>7</th>\n",
       "      <td>density</td>\n",
       "      <td>-131.163736</td>\n",
       "      <td>-72.200990</td>\n",
       "      <td>-102.920337</td>\n",
       "    </tr>\n",
       "    <tr>\n",
       "      <th>8</th>\n",
       "      <td>pH</td>\n",
       "      <td>0.646916</td>\n",
       "      <td>0.435881</td>\n",
       "      <td>0.545041</td>\n",
       "    </tr>\n",
       "    <tr>\n",
       "      <th>9</th>\n",
       "      <td>sulphates</td>\n",
       "      <td>0.691335</td>\n",
       "      <td>0.605433</td>\n",
       "      <td>0.649501</td>\n",
       "    </tr>\n",
       "    <tr>\n",
       "      <th>10</th>\n",
       "      <td>alcohol</td>\n",
       "      <td>0.226296</td>\n",
       "      <td>0.292048</td>\n",
       "      <td>0.257582</td>\n",
       "    </tr>\n",
       "  </tbody>\n",
       "</table>\n",
       "</div>"
      ],
      "text/plain": [
       "                   Names  Linear Regression Coefficients  Ridge Coefficients  \\\n",
       "0          fixed acidity                        0.052278            0.005841   \n",
       "1       volatile acidity                       -1.928107           -1.975316   \n",
       "2            citric acid                       -0.085351           -0.105327   \n",
       "3         residual sugar                        0.074650            0.052301   \n",
       "4              chlorides                        0.287160           -0.004496   \n",
       "5    free sulfur dioxide                        0.004626            0.005056   \n",
       "6   total sulfur dioxide                       -0.000171           -0.000393   \n",
       "7                density                     -131.163736          -72.200990   \n",
       "8                     pH                        0.646916            0.435881   \n",
       "9              sulphates                        0.691335            0.605433   \n",
       "10               alcohol                        0.226296            0.292048   \n",
       "\n",
       "    Lasso Coefficients  \n",
       "0             0.029884  \n",
       "1            -1.949070  \n",
       "2            -0.093367  \n",
       "3             0.063922  \n",
       "4             0.120322  \n",
       "5             0.004833  \n",
       "6            -0.000277  \n",
       "7          -102.920337  \n",
       "8             0.545041  \n",
       "9             0.649501  \n",
       "10            0.257582  "
      ]
     },
     "execution_count": 19,
     "metadata": {},
     "output_type": "execute_result"
    }
   ],
   "source": [
    "df_coef"
   ]
  },
  {
   "cell_type": "markdown",
   "metadata": {},
   "source": [
    "In majority of cases it can be noticed, that the coefficients of regularization applications are not too much different from the original model that was tried out. However, some of them still are smaller in some cases, and in some are a bit larger (smaller though being the slightly dominant trend). In the long run, if we tested information with more unseen data, it could be that regularized models could be more efficient in their accuracy. For now, this the methodology that was reviewd."
   ]
  }
 ],
 "metadata": {
  "kernelspec": {
   "display_name": "Python 3",
   "language": "python",
   "name": "python3"
  },
  "language_info": {
   "codemirror_mode": {
    "name": "ipython",
    "version": 3
   },
   "file_extension": ".py",
   "mimetype": "text/x-python",
   "name": "python",
   "nbconvert_exporter": "python",
   "pygments_lexer": "ipython3",
   "version": "3.7.3"
  }
 },
 "nbformat": 4,
 "nbformat_minor": 2
}
