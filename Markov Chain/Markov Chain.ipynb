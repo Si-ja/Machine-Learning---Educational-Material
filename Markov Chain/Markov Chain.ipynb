{
 "cells": [
  {
   "cell_type": "markdown",
   "metadata": {},
   "source": [
    "## Markov Chain\n",
    "\n",
    "- Author: Si-ja\n",
    "- Data: 2019-05-04\n",
    "- GitHub: https://github.com/Si-ja\n",
    "\n",
    "Ok, this one is based on principle of work of Markov Chain. This file will be different for one reason: I mostly just copied and adjusted the methodology a bit from this person: https://il.pycon.org/2016/static/sessions/omer-nevo.pdf & https://www.youtube.com/watch?v=-51qWZdA8zM&list=LLNqtOBvf3Ii15J-GYFshrVA&index=2&t I think it will be only fair if you watched the video with Omer Nevo explaining the idea behind Markov Chain used on TEXT.\n",
    "\n",
    "I myself, have put everything together into a once executable function which only requires couple of parameters to be indicated. In the beginning you will see some steps that show examples of how the parts of the overal function work and in the end, I provide to the system a text file with short summary of every so far existing It's Always Sunny in Philadelphia episode and seeing whether our algorithm can generate a new episode for the network. The corpus of summaries can be found in the same repository, all information taken from: https://itsalwayssunny.fandom.com/wiki/Its_Always_Sunny_in_Philadelphia_Wiki\n",
    "\n",
    "As well, just to show this works with other languages - will use my favorite classical book - Crime and Punishment. Not too sure about fair use on usage of websites data for a book so here is a link: http://az.lib.ru/d/dostoewskij_f_m/text_0060.shtml this will unfortunatelly not have a txt file. Corpus is significantly bigger though."
   ]
  },
  {
   "cell_type": "code",
   "execution_count": 1,
   "metadata": {},
   "outputs": [
    {
     "name": "stdout",
     "output_type": "stream",
     "text": [
      "['This', 'is', 'just', 'a', 'simple', 'test', 'example.', 'To', 'see', 'whetehr', 'we', 'have', 'a', 'working', 'file', 'or', 'not.', 'This', 'is']\n"
     ]
    }
   ],
   "source": [
    "filename = \"Test.txt\"\n",
    "text = open(filename).read().split()\n",
    "text = text + text[:2]\n",
    "\n",
    "print(text)"
   ]
  },
  {
   "cell_type": "code",
   "execution_count": 2,
   "metadata": {},
   "outputs": [
    {
     "name": "stdout",
     "output_type": "stream",
     "text": [
      "('This', 'is') just\n",
      "('is', 'just') a\n",
      "('just', 'a') simple\n",
      "('a', 'simple') test\n",
      "('simple', 'test') example.\n",
      "('test', 'example.') To\n",
      "('example.', 'To') see\n",
      "('To', 'see') whetehr\n",
      "('see', 'whetehr') we\n",
      "('whetehr', 'we') have\n",
      "('we', 'have') a\n",
      "('have', 'a') working\n",
      "('a', 'working') file\n",
      "('working', 'file') or\n",
      "('file', 'or') not.\n",
      "('or', 'not.') This\n",
      "('not.', 'This') is\n"
     ]
    }
   ],
   "source": [
    "for i in range(0, len(text) - 2):\n",
    "    key = tuple(text[i : i + 2])\n",
    "    value = text[i + 2]\n",
    "    \n",
    "    print(key, value)"
   ]
  },
  {
   "cell_type": "code",
   "execution_count": 3,
   "metadata": {},
   "outputs": [
    {
     "name": "stdout",
     "output_type": "stream",
     "text": [
      "{('not.', 'This'): ['is']}\n"
     ]
    }
   ],
   "source": [
    "graph = {}\n",
    "if key in graph:\n",
    "    graph[key].append(value)\n",
    "else:\n",
    "    graph[key] = [value]\n",
    "print(graph)"
   ]
  },
  {
   "cell_type": "code",
   "execution_count": 4,
   "metadata": {},
   "outputs": [],
   "source": [
    "#Putting it together\n",
    "def text_generator(filename, order = 2, length = 25):\n",
    "    \"\"\"Generate text from some other text using Markov Chain.\n",
    "    \n",
    "    *filename - indicate the filename from which data will be taken for the training. \n",
    "    \n",
    "    *order - number of words that will matter for generating a newer sequence. Default is set to 2.\n",
    "    \n",
    "    *length - length of a newly generated 'sentence'. By default set to 25.\"\"\"\n",
    "    import numpy as np\n",
    "    import string\n",
    "    order = order\n",
    "    group_size = order + 1\n",
    "    filename = filename\n",
    "    text = None\n",
    "    graph = {}\n",
    "    length = length\n",
    "    \n",
    "    text = open(filename, \"r\", encoding=\"utf-8\").read().lower()\n",
    "    table = str.maketrans(\"!?.,-;\", 6*\" \")\n",
    "    text = text.translate(table)\n",
    "    text = text.strip().split()\n",
    "    text = text + text[:order]\n",
    "    \n",
    "    for i in range(0, len(text) - order):\n",
    "        key = tuple(text[i:i+order])\n",
    "        value = text[i+order]\n",
    "        if key in graph:\n",
    "            graph[key].append(value)\n",
    "        else:\n",
    "            graph[key] = [value]\n",
    "            \n",
    "    index = np.random.randint(low = 0, high = (len(text)-order))\n",
    "    result = text[index:index+order]\n",
    "    \n",
    "    for i in range(length):\n",
    "        state = tuple(result[len(result)-order:])\n",
    "        next_word = np.random.choice(graph[state])\n",
    "        result.append(next_word)\n",
    "    \n",
    "    final_result = \" \".join(result[order:])\n",
    "    final_result = final_result + \"...\"\n",
    "    final_result = final_result[0].upper() + final_result[1:]\n",
    "    return final_result"
   ]
  },
  {
   "cell_type": "code",
   "execution_count": 5,
   "metadata": {},
   "outputs": [
    {
     "name": "stdout",
     "output_type": "stream",
     "text": [
      "Not this is just a simple test example to see whetehr we have a working file or not this is just a simple test example...\n",
      "\n",
      "Working file or not this is just a simple test example to see whetehr we have a working file or not this is just a...\n",
      "\n",
      "To see whetehr we have a working file or not this is just a simple test example to see whetehr we have a working file...\n",
      "\n",
      "This is just a simple test example to see whetehr...\n"
     ]
    }
   ],
   "source": [
    "#We can see that the test file wors and every time it's random in generation\n",
    "print(text_generator(\"Test.txt\"))\n",
    "print()\n",
    "print(text_generator(\"Test.txt\"))\n",
    "print()\n",
    "print(text_generator(\"Test.txt\"))\n",
    "print()\n",
    "print(text_generator(\"Test.txt\", order = 1, length = 10))"
   ]
  },
  {
   "cell_type": "code",
   "execution_count": 6,
   "metadata": {},
   "outputs": [
    {
     "name": "stdout",
     "output_type": "stream",
     "text": [
      "Window bar cruise trouble to himself side start while movie frank is family forcing as dennis charlie amends lends and aren't an and they try so job sneak \" in the frank tries a gang...\n"
     ]
    }
   ],
   "source": [
    "#So far nonsense\n",
    "print(text_generator(filename = \"AlwaysSunny.txt\", order = 0, length = 35))"
   ]
  },
  {
   "cell_type": "code",
   "execution_count": 7,
   "metadata": {},
   "outputs": [
    {
     "name": "stdout",
     "output_type": "stream",
     "text": [
      "To get him out of bars that he's in a murderer and mac pulls out and adds a news of paddy's charlie over with one can get on his sexual harassment seminar to be able...\n"
     ]
    }
   ],
   "source": [
    "#Some parts at times are reasonable\n",
    "print(text_generator(filename = \"AlwaysSunny.txt\", order = 1, length = 35))"
   ]
  },
  {
   "cell_type": "code",
   "execution_count": 8,
   "metadata": {},
   "outputs": [
    {
     "name": "stdout",
     "output_type": "stream",
     "text": [
      "Charlie gets tipped off that the judge will clear them of all man to profit from high gas prices mac dennis and mac try to survive in the true crime style of making a murderer...\n"
     ]
    }
   ],
   "source": [
    "#Could be a new episode\n",
    "print(text_generator(filename = \"AlwaysSunny.txt\", order = 2, length = 35))"
   ]
  },
  {
   "cell_type": "code",
   "execution_count": 9,
   "metadata": {},
   "outputs": [
    {
     "name": "stdout",
     "output_type": "stream",
     "text": [
      "Surrounding the scratcher prove that frank is a hero or hate monger after finding out that she is the best thing that ever happened to him dennis takes over for a stripper mac and frank...\n"
     ]
    }
   ],
   "source": [
    "#Just a summary of an already existing episode\n",
    "print(text_generator(filename = \"AlwaysSunny.txt\", order = 3, length = 35))"
   ]
  },
  {
   "cell_type": "code",
   "execution_count": 10,
   "metadata": {},
   "outputs": [
    {
     "name": "stdout",
     "output_type": "stream",
     "text": [
      "И даже выиграет принялся ни чудно ведь уже с родионыч мне каждом перевел я ей завести и у размаху любить...\n"
     ]
    }
   ],
   "source": [
    "print(text_generator(filename = \"CrimeAndPunishment.txt\", order = 0, length = 20))"
   ]
  },
  {
   "cell_type": "code",
   "execution_count": 11,
   "metadata": {},
   "outputs": [
    {
     "name": "stdout",
     "output_type": "stream",
     "text": [
      "Нем еще много мы при выпуске из угла исковерканную круглую шляпу и бакенбардами в жару разговора точно вошь ответил раскольников...\n"
     ]
    }
   ],
   "source": [
    "print(text_generator(filename = \"CrimeAndPunishment.txt\", order = 1, length = 20))"
   ]
  },
  {
   "cell_type": "code",
   "execution_count": 12,
   "metadata": {},
   "outputs": [
    {
     "name": "stdout",
     "output_type": "stream",
     "text": [
      "Когда и по донесению неблагонамеренных лиц чему особенно способствовала дарья францевна женщина злонамеренная и полиции многократно известная раза три но...\n"
     ]
    }
   ],
   "source": [
    "print(text_generator(filename = \"CrimeAndPunishment.txt\", order = 2, length = 20))"
   ]
  },
  {
   "cell_type": "code",
   "execution_count": 13,
   "metadata": {},
   "outputs": [
    {
     "name": "stdout",
     "output_type": "stream",
     "text": [
      "Потолок \"мать сестра как любил я их отчего теперь я их ненавижу да я их ненавижу да я их ненавижу...\n"
     ]
    }
   ],
   "source": [
    "print(text_generator(filename = \"CrimeAndPunishment.txt\", order = 3, length = 20))"
   ]
  }
 ],
 "metadata": {
  "kernelspec": {
   "display_name": "Python 3",
   "language": "python",
   "name": "python3"
  },
  "language_info": {
   "codemirror_mode": {
    "name": "ipython",
    "version": 3
   },
   "file_extension": ".py",
   "mimetype": "text/x-python",
   "name": "python",
   "nbconvert_exporter": "python",
   "pygments_lexer": "ipython3",
   "version": "3.5.6"
  }
 },
 "nbformat": 4,
 "nbformat_minor": 2
}
