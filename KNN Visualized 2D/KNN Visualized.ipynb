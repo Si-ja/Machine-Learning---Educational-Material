{
 "cells": [
  {
   "cell_type": "markdown",
   "metadata": {},
   "source": [
    "# Visualizing KNN (2-D)\n",
    "\n",
    "- Created by: Si_ja\n",
    "- https://github.com/Si-ja\n",
    "- Date: 2019-05-01\n",
    "\n",
    "## The outline:\n",
    "\n",
    "1. [Introduction](#introduction)\n",
    "2. [Importing packages](#importing-packages)\n",
    "3. [Step-by-step explanation of the overal procedure](#step-by-step)\n",
    "    - [Building a KNN model](#subbuilding-a-knn-model)\n",
    "    - [Visualizing a KNN model](#subknn-viz)\n",
    "    - [Saving the model and the plot](#subsaving-models)\n",
    "4. [Putting everything together in a convenient reusable code](#all-in-one)\n",
    "5. [References](#references)"
   ]
  },
  {
   "cell_type": "markdown",
   "metadata": {},
   "source": [
    "## 1. Introduction <a name=\"introduction\"></a>\n",
    "\n",
    "This is a small educational file dedicated to providing data on how you can visualize the work of a KNN Machine Learning algorithm. \n",
    "\n",
    "__The core idea for creating of this file__: I have seen online quite a lot of examples how to visualize work of a KNN algorithm, however, most of them never had a proper explanation what is being done with the code or what happens with the data. Rather everything felt was oriented towards achieving the result and following more of an apporach of: *just copy the code, it will work*. This file does not bring anything particularly new to the table, but hopefully can be used as an educational material helping people understand what they are doing and yield most benefit to beginers who are just learning and getting into Machine Learning and working with python. However, it is expected that the users have some basic knowledge of the language already and the theory behind Machine Learning, Data Mining (particularly KNNs).\n",
    "\n",
    "Naturally, the visualization of a KNN algorithm can be most optimally done only with a $2$ dimensional plane and that is what this file will be focused on.\n",
    "\n",
    "This method can be used to experiment straight away - out of the box. It does not need any preparation besides installation of few needed packages. Otherwise - no external files are needed to work with it. If you wish to apply the method to your own data - oof...that's up to you to transform your data in a needed way. Although, instructions how such preparation can be done are addressed in this educational material."
   ]
  },
  {
   "cell_type": "markdown",
   "metadata": {},
   "source": [
    "## 2. Importing packages <a name=\"importing-packages\"></a>\n",
    "\n",
    "For working on this project we will require several packages to import. Simple vanila approach will not do. Do take note which packages are required and which are optional:\n",
    "\n",
    "### Required packages:\n",
    "- sklearn\n",
    "- matplotlib\n",
    "- numpy\n",
    "\n",
    "### Optional packages:\n",
    "- joblib\n",
    "\n",
    "Explanation which packages is used for what will come with thier importing and even more clear one with their usage."
   ]
  },
  {
   "cell_type": "code",
   "execution_count": 1,
   "metadata": {},
   "outputs": [],
   "source": [
    "from sklearn.neighbors import KNeighborsClassifier    \n",
    "#Classifier that will allow for building of a KNN model\n",
    "\n",
    "from sklearn.model_selection import train_test_split  \n",
    "#Will allow to conveniently split our data \n",
    "\n",
    "from sklearn import datasets                          \n",
    "#Will provide us with data to work with\n",
    "\n",
    "import matplotlib.pyplot as plt                       \n",
    "#Will allow us to create a plot and vizualize KNN in action\n",
    "\n",
    "from matplotlib.colors import ListedColormap          \n",
    "#Will provide a possibility to generate a colormap \n",
    "\n",
    "import numpy as np                                    \n",
    "#Will allow to manipulate data easier\n",
    "\n",
    "\n",
    "\n",
    "#OPTIONAL:\n",
    "from joblib import dump, load                         \n",
    "#Will allow to save and/or load the created KNN model"
   ]
  },
  {
   "cell_type": "markdown",
   "metadata": {},
   "source": [
    "## 3. Step-by-step explanation of the overal procedure <a name=\"step-by-step\"></a>\n",
    "\n",
    "Onwards - we prepare the data, build a model, visualize its work and save it."
   ]
  },
  {
   "cell_type": "markdown",
   "metadata": {},
   "source": [
    "### 3.1 Building a KNN model <a name=\"subbuilding-a-knn-model\"></a>\n",
    "\n",
    "This point will address the preparation of data and building of the model to work with."
   ]
  },
  {
   "cell_type": "markdown",
   "metadata": {},
   "source": [
    "First of all - load the data with which you desire to work with. It can be your data, or as in our example, we will use the iris dataset that we can utilize after performing the following action earlier **from sklearn import datasets**."
   ]
  },
  {
   "cell_type": "code",
   "execution_count": 2,
   "metadata": {},
   "outputs": [],
   "source": [
    "iris = datasets.load_iris() \n",
    "#Load the data"
   ]
  },
  {
   "cell_type": "code",
   "execution_count": 3,
   "metadata": {},
   "outputs": [
    {
     "data": {
      "text/plain": [
       "array([[5.1, 3.5, 1.4, 0.2],\n",
       "       [4.9, 3. , 1.4, 0.2],\n",
       "       [4.7, 3.2, 1.3, 0.2],\n",
       "       [4.6, 3.1, 1.5, 0.2],\n",
       "       [5. , 3.6, 1.4, 0.2],\n",
       "       [5.4, 3.9, 1.7, 0.4],\n",
       "       [4.6, 3.4, 1.4, 0.3],\n",
       "       [5. , 3.4, 1.5, 0.2],\n",
       "       [4.4, 2.9, 1.4, 0.2],\n",
       "       [4.9, 3.1, 1.5, 0.1],\n",
       "       [5.4, 3.7, 1.5, 0.2],\n",
       "       [4.8, 3.4, 1.6, 0.2],\n",
       "       [4.8, 3. , 1.4, 0.1],\n",
       "       [4.3, 3. , 1.1, 0.1],\n",
       "       [5.8, 4. , 1.2, 0.2],\n",
       "       [5.7, 4.4, 1.5, 0.4],\n",
       "       [5.4, 3.9, 1.3, 0.4],\n",
       "       [5.1, 3.5, 1.4, 0.3],\n",
       "       [5.7, 3.8, 1.7, 0.3],\n",
       "       [5.1, 3.8, 1.5, 0.3],\n",
       "       [5.4, 3.4, 1.7, 0.2],\n",
       "       [5.1, 3.7, 1.5, 0.4],\n",
       "       [4.6, 3.6, 1. , 0.2],\n",
       "       [5.1, 3.3, 1.7, 0.5],\n",
       "       [4.8, 3.4, 1.9, 0.2],\n",
       "       [5. , 3. , 1.6, 0.2],\n",
       "       [5. , 3.4, 1.6, 0.4],\n",
       "       [5.2, 3.5, 1.5, 0.2],\n",
       "       [5.2, 3.4, 1.4, 0.2],\n",
       "       [4.7, 3.2, 1.6, 0.2],\n",
       "       [4.8, 3.1, 1.6, 0.2],\n",
       "       [5.4, 3.4, 1.5, 0.4],\n",
       "       [5.2, 4.1, 1.5, 0.1],\n",
       "       [5.5, 4.2, 1.4, 0.2],\n",
       "       [4.9, 3.1, 1.5, 0.2],\n",
       "       [5. , 3.2, 1.2, 0.2],\n",
       "       [5.5, 3.5, 1.3, 0.2],\n",
       "       [4.9, 3.6, 1.4, 0.1],\n",
       "       [4.4, 3. , 1.3, 0.2],\n",
       "       [5.1, 3.4, 1.5, 0.2],\n",
       "       [5. , 3.5, 1.3, 0.3],\n",
       "       [4.5, 2.3, 1.3, 0.3],\n",
       "       [4.4, 3.2, 1.3, 0.2],\n",
       "       [5. , 3.5, 1.6, 0.6],\n",
       "       [5.1, 3.8, 1.9, 0.4],\n",
       "       [4.8, 3. , 1.4, 0.3],\n",
       "       [5.1, 3.8, 1.6, 0.2],\n",
       "       [4.6, 3.2, 1.4, 0.2],\n",
       "       [5.3, 3.7, 1.5, 0.2],\n",
       "       [5. , 3.3, 1.4, 0.2],\n",
       "       [7. , 3.2, 4.7, 1.4],\n",
       "       [6.4, 3.2, 4.5, 1.5],\n",
       "       [6.9, 3.1, 4.9, 1.5],\n",
       "       [5.5, 2.3, 4. , 1.3],\n",
       "       [6.5, 2.8, 4.6, 1.5],\n",
       "       [5.7, 2.8, 4.5, 1.3],\n",
       "       [6.3, 3.3, 4.7, 1.6],\n",
       "       [4.9, 2.4, 3.3, 1. ],\n",
       "       [6.6, 2.9, 4.6, 1.3],\n",
       "       [5.2, 2.7, 3.9, 1.4],\n",
       "       [5. , 2. , 3.5, 1. ],\n",
       "       [5.9, 3. , 4.2, 1.5],\n",
       "       [6. , 2.2, 4. , 1. ],\n",
       "       [6.1, 2.9, 4.7, 1.4],\n",
       "       [5.6, 2.9, 3.6, 1.3],\n",
       "       [6.7, 3.1, 4.4, 1.4],\n",
       "       [5.6, 3. , 4.5, 1.5],\n",
       "       [5.8, 2.7, 4.1, 1. ],\n",
       "       [6.2, 2.2, 4.5, 1.5],\n",
       "       [5.6, 2.5, 3.9, 1.1],\n",
       "       [5.9, 3.2, 4.8, 1.8],\n",
       "       [6.1, 2.8, 4. , 1.3],\n",
       "       [6.3, 2.5, 4.9, 1.5],\n",
       "       [6.1, 2.8, 4.7, 1.2],\n",
       "       [6.4, 2.9, 4.3, 1.3],\n",
       "       [6.6, 3. , 4.4, 1.4],\n",
       "       [6.8, 2.8, 4.8, 1.4],\n",
       "       [6.7, 3. , 5. , 1.7],\n",
       "       [6. , 2.9, 4.5, 1.5],\n",
       "       [5.7, 2.6, 3.5, 1. ],\n",
       "       [5.5, 2.4, 3.8, 1.1],\n",
       "       [5.5, 2.4, 3.7, 1. ],\n",
       "       [5.8, 2.7, 3.9, 1.2],\n",
       "       [6. , 2.7, 5.1, 1.6],\n",
       "       [5.4, 3. , 4.5, 1.5],\n",
       "       [6. , 3.4, 4.5, 1.6],\n",
       "       [6.7, 3.1, 4.7, 1.5],\n",
       "       [6.3, 2.3, 4.4, 1.3],\n",
       "       [5.6, 3. , 4.1, 1.3],\n",
       "       [5.5, 2.5, 4. , 1.3],\n",
       "       [5.5, 2.6, 4.4, 1.2],\n",
       "       [6.1, 3. , 4.6, 1.4],\n",
       "       [5.8, 2.6, 4. , 1.2],\n",
       "       [5. , 2.3, 3.3, 1. ],\n",
       "       [5.6, 2.7, 4.2, 1.3],\n",
       "       [5.7, 3. , 4.2, 1.2],\n",
       "       [5.7, 2.9, 4.2, 1.3],\n",
       "       [6.2, 2.9, 4.3, 1.3],\n",
       "       [5.1, 2.5, 3. , 1.1],\n",
       "       [5.7, 2.8, 4.1, 1.3],\n",
       "       [6.3, 3.3, 6. , 2.5],\n",
       "       [5.8, 2.7, 5.1, 1.9],\n",
       "       [7.1, 3. , 5.9, 2.1],\n",
       "       [6.3, 2.9, 5.6, 1.8],\n",
       "       [6.5, 3. , 5.8, 2.2],\n",
       "       [7.6, 3. , 6.6, 2.1],\n",
       "       [4.9, 2.5, 4.5, 1.7],\n",
       "       [7.3, 2.9, 6.3, 1.8],\n",
       "       [6.7, 2.5, 5.8, 1.8],\n",
       "       [7.2, 3.6, 6.1, 2.5],\n",
       "       [6.5, 3.2, 5.1, 2. ],\n",
       "       [6.4, 2.7, 5.3, 1.9],\n",
       "       [6.8, 3. , 5.5, 2.1],\n",
       "       [5.7, 2.5, 5. , 2. ],\n",
       "       [5.8, 2.8, 5.1, 2.4],\n",
       "       [6.4, 3.2, 5.3, 2.3],\n",
       "       [6.5, 3. , 5.5, 1.8],\n",
       "       [7.7, 3.8, 6.7, 2.2],\n",
       "       [7.7, 2.6, 6.9, 2.3],\n",
       "       [6. , 2.2, 5. , 1.5],\n",
       "       [6.9, 3.2, 5.7, 2.3],\n",
       "       [5.6, 2.8, 4.9, 2. ],\n",
       "       [7.7, 2.8, 6.7, 2. ],\n",
       "       [6.3, 2.7, 4.9, 1.8],\n",
       "       [6.7, 3.3, 5.7, 2.1],\n",
       "       [7.2, 3.2, 6. , 1.8],\n",
       "       [6.2, 2.8, 4.8, 1.8],\n",
       "       [6.1, 3. , 4.9, 1.8],\n",
       "       [6.4, 2.8, 5.6, 2.1],\n",
       "       [7.2, 3. , 5.8, 1.6],\n",
       "       [7.4, 2.8, 6.1, 1.9],\n",
       "       [7.9, 3.8, 6.4, 2. ],\n",
       "       [6.4, 2.8, 5.6, 2.2],\n",
       "       [6.3, 2.8, 5.1, 1.5],\n",
       "       [6.1, 2.6, 5.6, 1.4],\n",
       "       [7.7, 3. , 6.1, 2.3],\n",
       "       [6.3, 3.4, 5.6, 2.4],\n",
       "       [6.4, 3.1, 5.5, 1.8],\n",
       "       [6. , 3. , 4.8, 1.8],\n",
       "       [6.9, 3.1, 5.4, 2.1],\n",
       "       [6.7, 3.1, 5.6, 2.4],\n",
       "       [6.9, 3.1, 5.1, 2.3],\n",
       "       [5.8, 2.7, 5.1, 1.9],\n",
       "       [6.8, 3.2, 5.9, 2.3],\n",
       "       [6.7, 3.3, 5.7, 2.5],\n",
       "       [6.7, 3. , 5.2, 2.3],\n",
       "       [6.3, 2.5, 5. , 1.9],\n",
       "       [6.5, 3. , 5.2, 2. ],\n",
       "       [6.2, 3.4, 5.4, 2.3],\n",
       "       [5.9, 3. , 5.1, 1.8]])"
      ]
     },
     "execution_count": 3,
     "metadata": {},
     "output_type": "execute_result"
    }
   ],
   "source": [
    "iris.data \n",
    "#Our data is located in iris.data"
   ]
  },
  {
   "cell_type": "code",
   "execution_count": 4,
   "metadata": {},
   "outputs": [
    {
     "data": {
      "text/plain": [
       "['sepal length (cm)',\n",
       " 'sepal width (cm)',\n",
       " 'petal length (cm)',\n",
       " 'petal width (cm)']"
      ]
     },
     "execution_count": 4,
     "metadata": {},
     "output_type": "execute_result"
    }
   ],
   "source": [
    "iris.feature_names \n",
    "#meaning of each column is located in the iris.feature_names"
   ]
  },
  {
   "cell_type": "code",
   "execution_count": 5,
   "metadata": {},
   "outputs": [
    {
     "data": {
      "text/plain": [
       "array([0, 0, 0, 0, 0, 0, 0, 0, 0, 0, 0, 0, 0, 0, 0, 0, 0, 0, 0, 0, 0, 0,\n",
       "       0, 0, 0, 0, 0, 0, 0, 0, 0, 0, 0, 0, 0, 0, 0, 0, 0, 0, 0, 0, 0, 0,\n",
       "       0, 0, 0, 0, 0, 0, 1, 1, 1, 1, 1, 1, 1, 1, 1, 1, 1, 1, 1, 1, 1, 1,\n",
       "       1, 1, 1, 1, 1, 1, 1, 1, 1, 1, 1, 1, 1, 1, 1, 1, 1, 1, 1, 1, 1, 1,\n",
       "       1, 1, 1, 1, 1, 1, 1, 1, 1, 1, 1, 1, 2, 2, 2, 2, 2, 2, 2, 2, 2, 2,\n",
       "       2, 2, 2, 2, 2, 2, 2, 2, 2, 2, 2, 2, 2, 2, 2, 2, 2, 2, 2, 2, 2, 2,\n",
       "       2, 2, 2, 2, 2, 2, 2, 2, 2, 2, 2, 2, 2, 2, 2, 2, 2, 2])"
      ]
     },
     "execution_count": 5,
     "metadata": {},
     "output_type": "execute_result"
    }
   ],
   "source": [
    "iris.target \n",
    "#The target values are located in iris.target"
   ]
  },
  {
   "cell_type": "code",
   "execution_count": 6,
   "metadata": {},
   "outputs": [
    {
     "data": {
      "text/plain": [
       "array(['setosa', 'versicolor', 'virginica'], dtype='<U10')"
      ]
     },
     "execution_count": 6,
     "metadata": {},
     "output_type": "execute_result"
    }
   ],
   "source": [
    "iris.target_names \n",
    "#The names of targets/classes represented by 0,1,2 are located in iris.target_names"
   ]
  },
  {
   "cell_type": "markdown",
   "metadata": {},
   "source": [
    "Example: if we wish to know something about a particular record (let's say record 42) knowing above commands we can execute the following code:"
   ]
  },
  {
   "cell_type": "code",
   "execution_count": 7,
   "metadata": {},
   "outputs": [
    {
     "name": "stdout",
     "output_type": "stream",
     "text": [
      "Overal data of the instance #42:\t [4.4 3.2 1.3 0.2]\n",
      "Column names:\t\t\t\t ['sepal length (cm)', 'sepal width (cm)', 'petal length (cm)', 'petal width (cm)']\n",
      "Type of the flower under instance #42:\t setosa\n"
     ]
    }
   ],
   "source": [
    "print(\"Overal data of the instance #42:\\t\", iris.data[42])\n",
    "print(\"Column names:\\t\\t\\t\\t\", iris.feature_names)\n",
    "print(\"Type of the flower under instance #42:\\t\", iris.target_names[iris.target[42]])"
   ]
  },
  {
   "cell_type": "markdown",
   "metadata": {},
   "source": [
    "The above code tels us:\n",
    "1. We have selected the 42nd instance from iris.data (or 43rd to be specific, seeing as arrays start from 0, so it's a bit of a lie, but for this demonstration instance: just go with it).\n",
    "\n",
    "2. For the feature names we see that the first value of the 42nd instance is the speal length, second - sepal width, third - petal length, fourth - petal widht.\n",
    "\n",
    "3. Lastly - from iris.target_names we select the name of the flower. iris.target[42] function establishes whether the flower is coded with a 0, 1 or a 2. afterward, that values is put into the mask for selecting the target name. Meaning iris.target[42] -> 0 and then iris.target_names[0] -> setosa. \n",
    "\n",
    "Putting all together: a flower with a sepal length of 4.4cm, sepal width of 3.2cm, petal length of 1.3cm and a petal width of 0.2cm during the observations was classified as a setosa.\n",
    "\n",
    "This explanation is dedicated for the sake of us understanding what the data is that we deal with, so it is not kept as a mystery."
   ]
  },
  {
   "cell_type": "markdown",
   "metadata": {},
   "source": [
    "As we have seen, we have $4$ dimensions to work with: \n",
    "\n",
    "['sepal length (cm)',\n",
    " 'sepal width (cm)',\n",
    " 'petal length (cm)',\n",
    " 'petal width (cm)']\n",
    " \n",
    " We however, can work in our case only with 2. Therefore, for the next step we want to reduce our data and save it into new variables."
   ]
  },
  {
   "cell_type": "code",
   "execution_count": 8,
   "metadata": {},
   "outputs": [],
   "source": [
    "X = iris.data[:, :2] \n",
    "#Selecting all rows, but only 0th and 1st columns to work with. Everything saved into a variable X.\n",
    "\n",
    "\n",
    "y = iris.target      \n",
    "#Target values do not need any transformation, therefore everything is just saved into a y varaible."
   ]
  },
  {
   "cell_type": "markdown",
   "metadata": {},
   "source": [
    "To understand what kind of data we ended up with, we can call our variables:"
   ]
  },
  {
   "cell_type": "code",
   "execution_count": 9,
   "metadata": {},
   "outputs": [
    {
     "data": {
      "text/plain": [
       "array([[5.1, 3.5],\n",
       "       [4.9, 3. ],\n",
       "       [4.7, 3.2],\n",
       "       [4.6, 3.1],\n",
       "       [5. , 3.6],\n",
       "       [5.4, 3.9],\n",
       "       [4.6, 3.4],\n",
       "       [5. , 3.4],\n",
       "       [4.4, 2.9],\n",
       "       [4.9, 3.1],\n",
       "       [5.4, 3.7],\n",
       "       [4.8, 3.4],\n",
       "       [4.8, 3. ],\n",
       "       [4.3, 3. ],\n",
       "       [5.8, 4. ],\n",
       "       [5.7, 4.4],\n",
       "       [5.4, 3.9],\n",
       "       [5.1, 3.5],\n",
       "       [5.7, 3.8],\n",
       "       [5.1, 3.8],\n",
       "       [5.4, 3.4],\n",
       "       [5.1, 3.7],\n",
       "       [4.6, 3.6],\n",
       "       [5.1, 3.3],\n",
       "       [4.8, 3.4],\n",
       "       [5. , 3. ],\n",
       "       [5. , 3.4],\n",
       "       [5.2, 3.5],\n",
       "       [5.2, 3.4],\n",
       "       [4.7, 3.2],\n",
       "       [4.8, 3.1],\n",
       "       [5.4, 3.4],\n",
       "       [5.2, 4.1],\n",
       "       [5.5, 4.2],\n",
       "       [4.9, 3.1],\n",
       "       [5. , 3.2],\n",
       "       [5.5, 3.5],\n",
       "       [4.9, 3.6],\n",
       "       [4.4, 3. ],\n",
       "       [5.1, 3.4],\n",
       "       [5. , 3.5],\n",
       "       [4.5, 2.3],\n",
       "       [4.4, 3.2],\n",
       "       [5. , 3.5],\n",
       "       [5.1, 3.8],\n",
       "       [4.8, 3. ],\n",
       "       [5.1, 3.8],\n",
       "       [4.6, 3.2],\n",
       "       [5.3, 3.7],\n",
       "       [5. , 3.3],\n",
       "       [7. , 3.2],\n",
       "       [6.4, 3.2],\n",
       "       [6.9, 3.1],\n",
       "       [5.5, 2.3],\n",
       "       [6.5, 2.8],\n",
       "       [5.7, 2.8],\n",
       "       [6.3, 3.3],\n",
       "       [4.9, 2.4],\n",
       "       [6.6, 2.9],\n",
       "       [5.2, 2.7],\n",
       "       [5. , 2. ],\n",
       "       [5.9, 3. ],\n",
       "       [6. , 2.2],\n",
       "       [6.1, 2.9],\n",
       "       [5.6, 2.9],\n",
       "       [6.7, 3.1],\n",
       "       [5.6, 3. ],\n",
       "       [5.8, 2.7],\n",
       "       [6.2, 2.2],\n",
       "       [5.6, 2.5],\n",
       "       [5.9, 3.2],\n",
       "       [6.1, 2.8],\n",
       "       [6.3, 2.5],\n",
       "       [6.1, 2.8],\n",
       "       [6.4, 2.9],\n",
       "       [6.6, 3. ],\n",
       "       [6.8, 2.8],\n",
       "       [6.7, 3. ],\n",
       "       [6. , 2.9],\n",
       "       [5.7, 2.6],\n",
       "       [5.5, 2.4],\n",
       "       [5.5, 2.4],\n",
       "       [5.8, 2.7],\n",
       "       [6. , 2.7],\n",
       "       [5.4, 3. ],\n",
       "       [6. , 3.4],\n",
       "       [6.7, 3.1],\n",
       "       [6.3, 2.3],\n",
       "       [5.6, 3. ],\n",
       "       [5.5, 2.5],\n",
       "       [5.5, 2.6],\n",
       "       [6.1, 3. ],\n",
       "       [5.8, 2.6],\n",
       "       [5. , 2.3],\n",
       "       [5.6, 2.7],\n",
       "       [5.7, 3. ],\n",
       "       [5.7, 2.9],\n",
       "       [6.2, 2.9],\n",
       "       [5.1, 2.5],\n",
       "       [5.7, 2.8],\n",
       "       [6.3, 3.3],\n",
       "       [5.8, 2.7],\n",
       "       [7.1, 3. ],\n",
       "       [6.3, 2.9],\n",
       "       [6.5, 3. ],\n",
       "       [7.6, 3. ],\n",
       "       [4.9, 2.5],\n",
       "       [7.3, 2.9],\n",
       "       [6.7, 2.5],\n",
       "       [7.2, 3.6],\n",
       "       [6.5, 3.2],\n",
       "       [6.4, 2.7],\n",
       "       [6.8, 3. ],\n",
       "       [5.7, 2.5],\n",
       "       [5.8, 2.8],\n",
       "       [6.4, 3.2],\n",
       "       [6.5, 3. ],\n",
       "       [7.7, 3.8],\n",
       "       [7.7, 2.6],\n",
       "       [6. , 2.2],\n",
       "       [6.9, 3.2],\n",
       "       [5.6, 2.8],\n",
       "       [7.7, 2.8],\n",
       "       [6.3, 2.7],\n",
       "       [6.7, 3.3],\n",
       "       [7.2, 3.2],\n",
       "       [6.2, 2.8],\n",
       "       [6.1, 3. ],\n",
       "       [6.4, 2.8],\n",
       "       [7.2, 3. ],\n",
       "       [7.4, 2.8],\n",
       "       [7.9, 3.8],\n",
       "       [6.4, 2.8],\n",
       "       [6.3, 2.8],\n",
       "       [6.1, 2.6],\n",
       "       [7.7, 3. ],\n",
       "       [6.3, 3.4],\n",
       "       [6.4, 3.1],\n",
       "       [6. , 3. ],\n",
       "       [6.9, 3.1],\n",
       "       [6.7, 3.1],\n",
       "       [6.9, 3.1],\n",
       "       [5.8, 2.7],\n",
       "       [6.8, 3.2],\n",
       "       [6.7, 3.3],\n",
       "       [6.7, 3. ],\n",
       "       [6.3, 2.5],\n",
       "       [6.5, 3. ],\n",
       "       [6.2, 3.4],\n",
       "       [5.9, 3. ]])"
      ]
     },
     "execution_count": 9,
     "metadata": {},
     "output_type": "execute_result"
    }
   ],
   "source": [
    "X \n",
    "#the dataset got reduced to only having to variables"
   ]
  },
  {
   "cell_type": "code",
   "execution_count": 10,
   "metadata": {},
   "outputs": [
    {
     "data": {
      "text/plain": [
       "array([0, 0, 0, 0, 0, 0, 0, 0, 0, 0, 0, 0, 0, 0, 0, 0, 0, 0, 0, 0, 0, 0,\n",
       "       0, 0, 0, 0, 0, 0, 0, 0, 0, 0, 0, 0, 0, 0, 0, 0, 0, 0, 0, 0, 0, 0,\n",
       "       0, 0, 0, 0, 0, 0, 1, 1, 1, 1, 1, 1, 1, 1, 1, 1, 1, 1, 1, 1, 1, 1,\n",
       "       1, 1, 1, 1, 1, 1, 1, 1, 1, 1, 1, 1, 1, 1, 1, 1, 1, 1, 1, 1, 1, 1,\n",
       "       1, 1, 1, 1, 1, 1, 1, 1, 1, 1, 1, 1, 2, 2, 2, 2, 2, 2, 2, 2, 2, 2,\n",
       "       2, 2, 2, 2, 2, 2, 2, 2, 2, 2, 2, 2, 2, 2, 2, 2, 2, 2, 2, 2, 2, 2,\n",
       "       2, 2, 2, 2, 2, 2, 2, 2, 2, 2, 2, 2, 2, 2, 2, 2, 2, 2])"
      ]
     },
     "execution_count": 10,
     "metadata": {},
     "output_type": "execute_result"
    }
   ],
   "source": [
    "y \n",
    "#no changes took place for the target values"
   ]
  },
  {
   "cell_type": "markdown",
   "metadata": {},
   "source": [
    "We want our data to be shuffled and seperated into training and test sets. Training will be usde to create our KNN model. Testing set will be dedicated to evaluating the accuracy of a KNN model on an unseen data. We can do it very conveniently with the following method. It utilized the earlier called function **from sklearn.model_selection import train_test_split**."
   ]
  },
  {
   "cell_type": "code",
   "execution_count": 11,
   "metadata": {},
   "outputs": [],
   "source": [
    "X_train, X_test, y_train, y_test = train_test_split(X, y, test_size=0.25, random_state=666)\n",
    "\n",
    "#Before calling the function, you need to indicate 4 variables into which data will be split. \n",
    "#Conventional methods call to the approach of calling given variables as:\n",
    "#X_train, X_test, y_train, y_test\n",
    "#The data is re-distributed from X and y variables\n",
    "\n",
    "#Test_seize value indicates how much of our data will be in the test set and in the training set.\n",
    "#For this example we will have a test size of 25% of our data and in the training 75%\n",
    "\n",
    "#Random state can be any number, it's just a seed value used for replication purposes\n",
    "#And particularly it shuffles the data and is responsible for deciding which instances will end up in the training set\n",
    "#And which in the training set"
   ]
  },
  {
   "cell_type": "markdown",
   "metadata": {},
   "source": [
    "Let us see what we ended up with:"
   ]
  },
  {
   "cell_type": "code",
   "execution_count": 12,
   "metadata": {},
   "outputs": [
    {
     "data": {
      "text/plain": [
       "array([[5.2, 4.1],\n",
       "       [6.2, 2.2],\n",
       "       [7.3, 2.9],\n",
       "       [6.4, 3.2],\n",
       "       [6. , 3.4],\n",
       "       [5.2, 2.7],\n",
       "       [5.4, 3.7],\n",
       "       [5.3, 3.7],\n",
       "       [5. , 3.5],\n",
       "       [4.4, 2.9],\n",
       "       [5.8, 2.7],\n",
       "       [5.2, 3.4],\n",
       "       [4.6, 3.4],\n",
       "       [6.5, 3.2],\n",
       "       [5.7, 2.9],\n",
       "       [6.6, 3. ],\n",
       "       [6. , 2.9],\n",
       "       [4.7, 3.2],\n",
       "       [4.9, 3.6],\n",
       "       [6.7, 3.1],\n",
       "       [6.3, 2.7],\n",
       "       [6.1, 2.8],\n",
       "       [6.2, 2.8],\n",
       "       [5.7, 4.4],\n",
       "       [6.3, 2.5],\n",
       "       [6.4, 2.9],\n",
       "       [5.1, 3.8],\n",
       "       [6.8, 2.8],\n",
       "       [5.1, 3.5],\n",
       "       [4.3, 3. ],\n",
       "       [5.9, 3. ],\n",
       "       [6.4, 2.8],\n",
       "       [5.6, 2.8],\n",
       "       [5.5, 2.4],\n",
       "       [6.9, 3.1],\n",
       "       [6.3, 3.4],\n",
       "       [6.5, 3. ],\n",
       "       [5.7, 3.8],\n",
       "       [6.6, 2.9],\n",
       "       [6.7, 3.3],\n",
       "       [4.8, 3. ],\n",
       "       [5. , 3.6],\n",
       "       [6. , 3. ],\n",
       "       [5. , 3. ],\n",
       "       [6.1, 3. ],\n",
       "       [6.4, 3.1],\n",
       "       [5.1, 3.7],\n",
       "       [5.7, 3. ],\n",
       "       [5. , 3.5],\n",
       "       [5.1, 3.8],\n",
       "       [4.6, 3.2],\n",
       "       [5.4, 3. ],\n",
       "       [6.5, 2.8],\n",
       "       [6.1, 2.8],\n",
       "       [4.8, 3.4],\n",
       "       [5.1, 3.3],\n",
       "       [5.8, 2.7],\n",
       "       [5.6, 3. ],\n",
       "       [6.3, 2.8],\n",
       "       [6.7, 3.3],\n",
       "       [7.2, 3. ],\n",
       "       [6.7, 3. ],\n",
       "       [4.9, 3.1],\n",
       "       [4.9, 2.5],\n",
       "       [5.7, 2.5],\n",
       "       [4.9, 2.4],\n",
       "       [5.5, 2.4],\n",
       "       [6.7, 2.5],\n",
       "       [6.5, 3. ],\n",
       "       [5.7, 2.6],\n",
       "       [6. , 2.2],\n",
       "       [6.7, 3.1],\n",
       "       [4.9, 3.1],\n",
       "       [6.3, 2.5],\n",
       "       [4.7, 3.2],\n",
       "       [6. , 2.7],\n",
       "       [5.8, 2.6],\n",
       "       [6.9, 3.2],\n",
       "       [4.4, 3. ],\n",
       "       [7.1, 3. ],\n",
       "       [6.8, 3.2],\n",
       "       [5.2, 3.5],\n",
       "       [7.9, 3.8],\n",
       "       [6.4, 2.8],\n",
       "       [5.6, 2.9],\n",
       "       [5.5, 4.2],\n",
       "       [4.8, 3. ],\n",
       "       [6.3, 2.9],\n",
       "       [4.4, 3.2],\n",
       "       [5.4, 3.9],\n",
       "       [5. , 3.4],\n",
       "       [6.7, 3. ],\n",
       "       [5.4, 3.9],\n",
       "       [7.7, 2.8],\n",
       "       [5.6, 2.7],\n",
       "       [6.8, 3. ],\n",
       "       [5.5, 3.5],\n",
       "       [4.8, 3.4],\n",
       "       [5.4, 3.4],\n",
       "       [7.7, 3.8],\n",
       "       [6.9, 3.1],\n",
       "       [5.6, 2.5],\n",
       "       [5.1, 3.4],\n",
       "       [5.1, 3.8],\n",
       "       [6.1, 2.9],\n",
       "       [5.8, 4. ],\n",
       "       [5. , 2. ],\n",
       "       [6.4, 3.2],\n",
       "       [6.1, 3. ],\n",
       "       [5.9, 3.2],\n",
       "       [6. , 2.2],\n",
       "       [7.4, 2.8]])"
      ]
     },
     "execution_count": 12,
     "metadata": {},
     "output_type": "execute_result"
    }
   ],
   "source": [
    "X_train"
   ]
  },
  {
   "cell_type": "code",
   "execution_count": 13,
   "metadata": {},
   "outputs": [
    {
     "data": {
      "text/plain": [
       "array([[5.6, 3. ],\n",
       "       [5.8, 2.8],\n",
       "       [5. , 2.3],\n",
       "       [5.8, 2.7],\n",
       "       [4.6, 3.1],\n",
       "       [5.5, 2.5],\n",
       "       [5.7, 2.8],\n",
       "       [6.5, 3. ],\n",
       "       [6.3, 2.3],\n",
       "       [5.5, 2.6],\n",
       "       [6.7, 3.1],\n",
       "       [4.5, 2.3],\n",
       "       [4.8, 3.1],\n",
       "       [5.4, 3.4],\n",
       "       [7.2, 3.6],\n",
       "       [5.8, 2.7],\n",
       "       [4.6, 3.6],\n",
       "       [7.2, 3.2],\n",
       "       [6.9, 3.1],\n",
       "       [6.4, 2.7],\n",
       "       [6.3, 3.3],\n",
       "       [5. , 3.4],\n",
       "       [7.7, 2.6],\n",
       "       [5. , 3.3],\n",
       "       [6.2, 2.9],\n",
       "       [5.9, 3. ],\n",
       "       [5. , 3.2],\n",
       "       [5.5, 2.3],\n",
       "       [6.3, 3.3],\n",
       "       [7.7, 3. ],\n",
       "       [5.1, 3.5],\n",
       "       [4.9, 3. ],\n",
       "       [5.7, 2.8],\n",
       "       [6.2, 3.4],\n",
       "       [5.1, 2.5],\n",
       "       [7. , 3.2],\n",
       "       [6.1, 2.6],\n",
       "       [7.6, 3. ]])"
      ]
     },
     "execution_count": 13,
     "metadata": {},
     "output_type": "execute_result"
    }
   ],
   "source": [
    "X_test"
   ]
  },
  {
   "cell_type": "code",
   "execution_count": 14,
   "metadata": {},
   "outputs": [
    {
     "data": {
      "text/plain": [
       "array([0, 1, 2, 2, 1, 1, 0, 0, 0, 0, 1, 0, 0, 2, 1, 1, 1, 0, 0, 2, 2, 1,\n",
       "       2, 0, 1, 1, 0, 1, 0, 0, 2, 2, 2, 1, 1, 2, 2, 0, 1, 2, 0, 0, 2, 0,\n",
       "       2, 2, 0, 1, 0, 0, 0, 1, 1, 1, 0, 0, 2, 1, 2, 2, 2, 2, 0, 2, 2, 1,\n",
       "       1, 2, 2, 1, 2, 1, 0, 2, 0, 1, 1, 2, 0, 2, 2, 0, 2, 2, 1, 0, 0, 2,\n",
       "       0, 0, 0, 1, 0, 2, 1, 2, 0, 0, 0, 2, 2, 1, 0, 0, 1, 0, 1, 1, 1, 1,\n",
       "       1, 2])"
      ]
     },
     "execution_count": 14,
     "metadata": {},
     "output_type": "execute_result"
    }
   ],
   "source": [
    "y_train"
   ]
  },
  {
   "cell_type": "code",
   "execution_count": 15,
   "metadata": {},
   "outputs": [
    {
     "data": {
      "text/plain": [
       "array([1, 2, 1, 2, 0, 1, 1, 2, 1, 1, 1, 0, 0, 0, 2, 1, 0, 2, 2, 2, 1, 0,\n",
       "       2, 0, 1, 1, 0, 1, 2, 2, 0, 0, 1, 2, 1, 1, 2, 2])"
      ]
     },
     "execution_count": 15,
     "metadata": {},
     "output_type": "execute_result"
    }
   ],
   "source": [
    "y_test"
   ]
  },
  {
   "cell_type": "markdown",
   "metadata": {},
   "source": [
    "As we see - our data was split and shuffled. Now we can build our model. This is possible as earlier we have executed the **from sklearn.neighbors import KNeighborsClassifier** command."
   ]
  },
  {
   "cell_type": "code",
   "execution_count": 16,
   "metadata": {},
   "outputs": [],
   "source": [
    "#We can experiment with how many neighbour values we will be using to make predictions.\n",
    "#For that - let us put all the values we want to experiment with into a list.\n",
    "#You can call the variable anything.\n",
    "n_neighbors = [1, 3, 5, 7, 9, 11, 13, 15]"
   ]
  },
  {
   "cell_type": "code",
   "execution_count": 17,
   "metadata": {},
   "outputs": [
    {
     "name": "stdout",
     "output_type": "stream",
     "text": [
      "[ ] Initializing the training...\n",
      "\n",
      "The accuray of the model is of 71.05% when using 1 neigbors\n",
      "The accuray of the model is of 78.95% when using 3 neigbors\n",
      "The accuray of the model is of 76.32% when using 5 neigbors\n",
      "The accuray of the model is of 78.95% when using 7 neigbors\n",
      "The accuray of the model is of 78.95% when using 9 neigbors\n",
      "The accuray of the model is of 81.58% when using 11 neigbors\n",
      "The accuray of the model is of 78.95% when using 13 neigbors\n",
      "The accuray of the model is of 78.95% when using 15 neigbors\n",
      "\n",
      "[X] The training has been completed...\n",
      "\n",
      "!!!Best to chose using of 11 neighbours. On test results it showed the highest accuracy of 81.58%!!!\n",
      "\n",
      "[ ] Initializng the training of the correct model...\n",
      "[X] Model optimized...\n"
     ]
    }
   ],
   "source": [
    "#Let us initialize the testing of our model and write a small code for showing us which variable chosen for neighbours\n",
    "#Does the best on the training set:\n",
    "\n",
    "#For extra flair we will also make the system decide for us which is the best amount of neigbours to use.\n",
    "#It might seem easy to chose in this case, but in the real world with many tests: not as much\n",
    "results = {} #initalize the creation of an empty dictionary\n",
    "\n",
    "print(\"[ ] Initializing the training...\")\n",
    "print()\n",
    "for n_value in n_neighbors: \n",
    "    #go through the values in the list created above\n",
    "    #initialize the creation of our model\n",
    "    #more parameters can be specified in the (), but for now we will stick only to the amount of neighbors we are influincing\n",
    "    #it to use. Other values will be set to default ones\n",
    "    neigh = KNeighborsClassifier(n_neighbors = n_value)\n",
    "    \n",
    "    #Train our model with the training data\n",
    "    neigh.fit(X_train, y_train)\n",
    "    \n",
    "    #calculate how well the model did\n",
    "    final_score = np.round(100*neigh.score(X_test, y_test),2) \n",
    "    \n",
    "    #Evaluate how well our model was trained in respect to accuracy and note with how many neighbours it was done.\n",
    "    print(\"The accuray of the model is of {}% when using {} neigbors\".format(final_score,\n",
    "                                                                             n_value))\n",
    "    \n",
    "    #update our dictionary\n",
    "    results[n_value] = final_score \n",
    "    \n",
    "    \n",
    "print()\n",
    "print(\"[X] The training has been completed...\")\n",
    "print()\n",
    "#Look which value of accuracy is the largest in the dictionary\n",
    "maximum_val = max(results, key=results.get) \n",
    "print(\"!!!Best to chose using of {} neighbours. On test results it showed the highest accuracy of {}%!!!\".format(maximum_val,\n",
    "                                                                                                          results[maximum_val]))\n",
    "\n",
    "#After finding the optimal number of neighbors to use, the model must be learned with proper parameters\n",
    "#This requires re-making of the said model\n",
    "print()\n",
    "print(\"[ ] Initializng the training of the correct model...\")\n",
    "#in this instance our model that is stored in the neigh variable is updated with the required pre-sets\n",
    "neigh = KNeighborsClassifier(n_neighbors = maximum_val)\n",
    "#now the model is re-trained with optimal data\n",
    "neigh.fit(X_train, y_train)\n",
    "print(\"[X] Model optimized...\")"
   ]
  },
  {
   "cell_type": "markdown",
   "metadata": {},
   "source": [
    "By this point - the model has been fully prepared. We are only left to vizualize the results from it."
   ]
  },
  {
   "cell_type": "markdown",
   "metadata": {},
   "source": [
    "### 3.2 Visualizing a KNN model <a name=\"subknn-viz\"></a>\n",
    "\n",
    "As we have our model - we can proceed with making a plot with it.\n",
    "For that beforehand - we need to do few preparations.\n",
    "\n",
    "The idea that goes into the creation of a plot - 2 things will be assigned colors. The background and the actual datapoint. The onest that will hold same (similar) colors, means they are predicted correctly, ones that hold different ones - are incorrectly predicted.\n",
    "\n",
    "What is needed for this is preparation of colors that will be assigned and preparation of the plot. Let's go into this one step at a time.\n",
    "\n",
    "First we are preparing the colors. This is possible as earlier we have performed the execution of 2 functions: **import matplotlib.pyplot as plt** that can create plots for us and **from matplotlib.colors import ListedColormap** that will work with additional parameters for colors."
   ]
  },
  {
   "cell_type": "code",
   "execution_count": 18,
   "metadata": {},
   "outputs": [
    {
     "data": {
      "text/plain": [
       "<matplotlib.colors.ListedColormap at 0x203a0dac8d0>"
      ]
     },
     "execution_count": 18,
     "metadata": {},
     "output_type": "execute_result"
    }
   ],
   "source": [
    "#This will tell the future plot to use particular colors for coloring of our points or background.\n",
    "#The meaning of what is in the list can be ambigious. But it is just a way to note some colorspaces, for a reference,\n",
    "#if you will need to make your own colors you can use google: \n",
    "\n",
    "#Go to google and enter something like #FFF000, you will get what I am refering to\n",
    "\n",
    "#these are colors redish, grenish, bluish\n",
    "cmap_light = ListedColormap(['#FFAAAA', '#AAFFAA', '#AAAAFF']) \n",
    "\n",
    "#these are colors red, green, blue\n",
    "cmap_bold = ListedColormap(['#FF0000', '#00FF00', '#0000FF'])  \n",
    "\n",
    "#They are a little bit different so on the plot they could be disringuished - where is the background and where are points\n",
    "#of data. \n",
    "\n",
    "#As an example you can see that they hold information not that we can properly work with by just calling it. It will\n",
    "#come inhandy later.\n",
    "cmap_light"
   ]
  },
  {
   "cell_type": "markdown",
   "metadata": {},
   "source": [
    "Now we need to prepare our plot. Our goal will be to create our plot a bit bigger than original ranges our data fits in. This will be done to have a more proper visualization of what we are doing and how our regions are distributed. For that we need to define our regions first."
   ]
  },
  {
   "cell_type": "code",
   "execution_count": 19,
   "metadata": {},
   "outputs": [
    {
     "name": "stdout",
     "output_type": "stream",
     "text": [
      "x plane minimum:\t 3.3\n",
      "x plane maxmimum:\t 8.9\n"
     ]
    }
   ],
   "source": [
    "#Here we are defiing the minimum ad maximum values in our first explanatory variable (column 1) and extending them to both\n",
    "#sides by 1, by either adding 1 or substracting.\n",
    "x_min = X[:, 0].min() - 1\n",
    "x_max = X[:, 0].max() + 1\n",
    "\n",
    "#This is done on the x plane, not specifically for the variable X on its own\n",
    "\n",
    "print(\"x plane minimum:\\t\", x_min)\n",
    "print(\"x plane maxmimum:\\t\", x_max)"
   ]
  },
  {
   "cell_type": "markdown",
   "metadata": {},
   "source": [
    "We perform the same operation for the y plane as well. The title y_min and y_max are a bit misleading, as we do not do anything with y variable, but rather we work with the y plane. This needs to be kept in mind."
   ]
  },
  {
   "cell_type": "code",
   "execution_count": 20,
   "metadata": {},
   "outputs": [
    {
     "name": "stdout",
     "output_type": "stream",
     "text": [
      "y plane minimum:\t 1.0\n",
      "y plane maxmimum:\t 5.4\n"
     ]
    }
   ],
   "source": [
    "y_min, y_max = X[:, 1].min() - 1, X[:, 1].max() + 1\n",
    "\n",
    "print(\"y plane minimum:\\t\", y_min)\n",
    "print(\"y plane maxmimum:\\t\", y_max)"
   ]
  },
  {
   "cell_type": "markdown",
   "metadata": {},
   "source": [
    "If we would draw our plane that we will use now, it would look the following way:"
   ]
  },
  {
   "cell_type": "code",
   "execution_count": 21,
   "metadata": {},
   "outputs": [
    {
     "data": {
      "image/png": "[encoded data removed]",
      "text/plain": [
       "<Figure size 432x288 with 1 Axes>"
      ]
     },
     "metadata": {
      "needs_background": "light"
     },
     "output_type": "display_data"
    }
   ],
   "source": [
    "#xlim indicates limits which we would be working with for the x plane\n",
    "plt.xlim(x_min, x_max) \n",
    "\n",
    "#ylim indicates limits which we would be working with for the y plane\n",
    "plt.ylim(y_min, y_max) \n",
    "\n",
    "plt.show()"
   ]
  },
  {
   "cell_type": "markdown",
   "metadata": {},
   "source": [
    "But it's empty. YES!\n",
    "But we are getting somewhere. We need to prepare few more things before we finish with it.\n",
    "\n",
    "Couple of more things include: creating of a step size in a mesh. In very simple terms - that means just the values that by which the plot would be increasing. Say the mesh size is 0.1 and the plot needs to go on x plane from 1 to 2. Then the values would be noted in a list as [1.0, 1.1, 1.2, 1.3, 1.4, 1.5, 1.6, 1.8, 1.9, 2.0]. This is not so much important for the visual part as for the technical. This is one of the moments I would advise to take as \"just accept it\". It's much easier than to really getting into, but it is important for creation of a proper vizualization of the whole plot."
   ]
  },
  {
   "cell_type": "code",
   "execution_count": 22,
   "metadata": {},
   "outputs": [],
   "source": [
    "#Let's make the step size in the mesh equal something simple:\n",
    "h = 0.02\n",
    "#Because this is literally everything that needs to be done for now, I did recomend to not get too in details for it."
   ]
  },
  {
   "cell_type": "markdown",
   "metadata": {},
   "source": [
    "Now we need to prepare couple of final things. We need to create something of a rectangular grid. Better explanation can be found here: https://stackoverflow.com/questions/36013063/what-is-the-purpose-of-meshgrid-in-python-numpy"
   ]
  },
  {
   "cell_type": "code",
   "execution_count": 23,
   "metadata": {},
   "outputs": [],
   "source": [
    "xx, yy = np.meshgrid(np.arange(x_min, x_max, h), np.arange(y_min, y_max, h))"
   ]
  },
  {
   "cell_type": "code",
   "execution_count": 24,
   "metadata": {},
   "outputs": [
    {
     "name": "stdout",
     "output_type": "stream",
     "text": [
      "Mesh size info. is not utilized from before:\n",
      " [3.3 4.3 5.3 6.3 7.3 8.3]\n",
      "\n",
      "Mesh size info. is utilized from before:\n",
      " [3.3  3.32 3.34 3.36 3.38 3.4  3.42 3.44 3.46 3.48 3.5  3.52 3.54 3.56\n",
      " 3.58 3.6  3.62 3.64 3.66 3.68 3.7  3.72 3.74 3.76 3.78 3.8  3.82 3.84\n",
      " 3.86 3.88 3.9  3.92 3.94 3.96 3.98 4.   4.02 4.04 4.06 4.08 4.1  4.12\n",
      " 4.14 4.16 4.18 4.2  4.22 4.24 4.26 4.28 4.3  4.32 4.34 4.36 4.38 4.4\n",
      " 4.42 4.44 4.46 4.48 4.5  4.52 4.54 4.56 4.58 4.6  4.62 4.64 4.66 4.68\n",
      " 4.7  4.72 4.74 4.76 4.78 4.8  4.82 4.84 4.86 4.88 4.9  4.92 4.94 4.96\n",
      " 4.98 5.   5.02 5.04 5.06 5.08 5.1  5.12 5.14 5.16 5.18 5.2  5.22 5.24\n",
      " 5.26 5.28 5.3  5.32 5.34 5.36 5.38 5.4  5.42 5.44 5.46 5.48 5.5  5.52\n",
      " 5.54 5.56 5.58 5.6  5.62 5.64 5.66 5.68 5.7  5.72 5.74 5.76 5.78 5.8\n",
      " 5.82 5.84 5.86 5.88 5.9  5.92 5.94 5.96 5.98 6.   6.02 6.04 6.06 6.08\n",
      " 6.1  6.12 6.14 6.16 6.18 6.2  6.22 6.24 6.26 6.28 6.3  6.32 6.34 6.36\n",
      " 6.38 6.4  6.42 6.44 6.46 6.48 6.5  6.52 6.54 6.56 6.58 6.6  6.62 6.64\n",
      " 6.66 6.68 6.7  6.72 6.74 6.76 6.78 6.8  6.82 6.84 6.86 6.88 6.9  6.92\n",
      " 6.94 6.96 6.98 7.   7.02 7.04 7.06 7.08 7.1  7.12 7.14 7.16 7.18 7.2\n",
      " 7.22 7.24 7.26 7.28 7.3  7.32 7.34 7.36 7.38 7.4  7.42 7.44 7.46 7.48\n",
      " 7.5  7.52 7.54 7.56 7.58 7.6  7.62 7.64 7.66 7.68 7.7  7.72 7.74 7.76\n",
      " 7.78 7.8  7.82 7.84 7.86 7.88 7.9  7.92 7.94 7.96 7.98 8.   8.02 8.04\n",
      " 8.06 8.08 8.1  8.12 8.14 8.16 8.18 8.2  8.22 8.24 8.26 8.28 8.3  8.32\n",
      " 8.34 8.36 8.38 8.4  8.42 8.44 8.46 8.48 8.5  8.52 8.54 8.56 8.58 8.6\n",
      " 8.62 8.64 8.66 8.68 8.7  8.72 8.74 8.76 8.78 8.8  8.82 8.84 8.86 8.88]\n"
     ]
    }
   ],
   "source": [
    "#Take a quick note what these functions do with and without the usage of earlier indicated step size in mesh:\n",
    "print(\"Mesh size info. is not utilized from before:\\n\", np.arange(x_min, x_max))\n",
    "print()\n",
    "print(\"Mesh size info. is utilized from before:\\n\", np.arange(x_min, x_max, h))\n",
    "#You can notice that the lists act a bit differently now"
   ]
  },
  {
   "cell_type": "code",
   "execution_count": 25,
   "metadata": {},
   "outputs": [
    {
     "name": "stdout",
     "output_type": "stream",
     "text": [
      "(220, 280)\n",
      "(220, 280)\n"
     ]
    }
   ],
   "source": [
    "#what are the value xx and yy we actually produced:\n",
    "print(xx.shape)\n",
    "print(yy.shape)\n",
    "#they both have a form of 220x280. Makes sense, as esentially we created a somewhat of a box,\n",
    "#in which our information is held for the distances we are working with. They will be colorized further."
   ]
  },
  {
   "cell_type": "code",
   "execution_count": 26,
   "metadata": {},
   "outputs": [
    {
     "name": "stdout",
     "output_type": "stream",
     "text": [
      "[[3.3  3.32 3.34 ... 8.84 8.86 8.88]\n",
      " [3.3  3.32 3.34 ... 8.84 8.86 8.88]\n",
      " [3.3  3.32 3.34 ... 8.84 8.86 8.88]\n",
      " ...\n",
      " [3.3  3.32 3.34 ... 8.84 8.86 8.88]\n",
      " [3.3  3.32 3.34 ... 8.84 8.86 8.88]\n",
      " [3.3  3.32 3.34 ... 8.84 8.86 8.88]]\n",
      "\n",
      "[[1.   1.   1.   ... 1.   1.   1.  ]\n",
      " [1.02 1.02 1.02 ... 1.02 1.02 1.02]\n",
      " [1.04 1.04 1.04 ... 1.04 1.04 1.04]\n",
      " ...\n",
      " [5.34 5.34 5.34 ... 5.34 5.34 5.34]\n",
      " [5.36 5.36 5.36 ... 5.36 5.36 5.36]\n",
      " [5.38 5.38 5.38 ... 5.38 5.38 5.38]]\n"
     ]
    }
   ],
   "source": [
    "#A bit more of a context what is going on these variables under the hood.\n",
    "print(xx)\n",
    "print()\n",
    "print(yy)"
   ]
  },
  {
   "cell_type": "code",
   "execution_count": 27,
   "metadata": {},
   "outputs": [],
   "source": [
    "#Now we are left to predict the data\n",
    "Z = neigh.predict(np.c_[xx.ravel(), yy.ravel()])"
   ]
  },
  {
   "cell_type": "code",
   "execution_count": 28,
   "metadata": {},
   "outputs": [
    {
     "name": "stdout",
     "output_type": "stream",
     "text": [
      "[0 0 0 ... 2 2 2]\n",
      "(61600,)\n",
      "61600\n"
     ]
    }
   ],
   "source": [
    "#What is Z?\n",
    "print(Z) \n",
    "#seems too large to fit in all of our data.\n",
    "\n",
    "print(Z.shape) \n",
    "#it has an unusual shape\n",
    "\n",
    "\n",
    "#Wait a minute\n",
    "print(xx.shape[0] * xx.shape[1])\n",
    "#it's the same shape from what xx and yy uses.\n",
    "\n",
    "#In short - every single field was predicted what it represents in our grid. That is where the background color comes from."
   ]
  },
  {
   "cell_type": "markdown",
   "metadata": {},
   "source": [
    "Now we are ready to build our full plot."
   ]
  },
  {
   "cell_type": "code",
   "execution_count": 29,
   "metadata": {},
   "outputs": [
    {
     "data": {
      "image/png": "[encoded data removed]",
      "text/plain": [
       "<Figure size 432x288 with 1 Axes>"
      ]
     },
     "metadata": {
      "needs_background": "light"
     },
     "output_type": "display_data"
    }
   ],
   "source": [
    "#This is how our background will look like:\n",
    "#Adjust the Z variable to the plots dimensions\n",
    "Z = Z.reshape(xx.shape)\n",
    "\n",
    "#Assign the colors\n",
    "plt.pcolormesh(xx, yy, Z, cmap=cmap_light) \n",
    "\n",
    "#Call to showing of the plot\n",
    "plt.show()                                 "
   ]
  },
  {
   "cell_type": "code",
   "execution_count": 30,
   "metadata": {},
   "outputs": [
    {
     "data": {
      "image/png": "[encoded data removed]",
      "text/plain": [
       "<Figure size 432x288 with 1 Axes>"
      ]
     },
     "metadata": {
      "needs_background": "light"
     },
     "output_type": "display_data"
    }
   ],
   "source": [
    "#We can also plot the test points we have\n",
    "plt.scatter(X_test[:, 0], X_test[:, 1], c=y_test, cmap=cmap_bold)\n",
    "plt.xlim(xx.min(), xx.max())\n",
    "plt.ylim(yy.min(), yy.max())\n",
    "#give a title and extra info\n",
    "plt.title(\"3-Class classification (k = {})\".format(maximum_val)) \n",
    "plt.show()"
   ]
  },
  {
   "cell_type": "markdown",
   "metadata": {},
   "source": [
    "Now put everything together:"
   ]
  },
  {
   "cell_type": "code",
   "execution_count": 31,
   "metadata": {},
   "outputs": [
    {
     "data": {
      "image/png": "[encoded data removed]",
      "text/plain": [
       "<Figure size 432x288 with 1 Axes>"
      ]
     },
     "metadata": {
      "needs_background": "light"
     },
     "output_type": "display_data"
    }
   ],
   "source": [
    "#Put it all together\n",
    "plt.pcolormesh(xx, yy, Z, cmap=cmap_light)\n",
    "plt.scatter(X_test[:, 0], X_test[:, 1], c=y_test, cmap=cmap_bold)\n",
    "plt.xlim(xx.min(), xx.max())\n",
    "plt.ylim(yy.min(), yy.max())\n",
    "plt.title(\"3-Class classification (k = {})\".format(maximum_val))\n",
    "plt.show()"
   ]
  },
  {
   "cell_type": "code",
   "execution_count": 32,
   "metadata": {},
   "outputs": [
    {
     "data": {
      "image/png": "[encoded data removed]",
      "text/plain": [
       "<Figure size 432x288 with 1 Axes>"
      ]
     },
     "metadata": {
      "needs_background": "light"
     },
     "output_type": "display_data"
    }
   ],
   "source": [
    "#We can also show how well our training data got fit in\n",
    "plt.pcolormesh(xx, yy, Z, cmap=cmap_light)\n",
    "plt.scatter(X_train[:, 0], X_train[:, 1], c=y_train, cmap=cmap_bold)\n",
    "plt.xlim(xx.min(), xx.max())\n",
    "plt.ylim(yy.min(), yy.max())\n",
    "plt.title(\"3-Class classification (k = {})\".format(maximum_val))\n",
    "plt.show()"
   ]
  },
  {
   "cell_type": "code",
   "execution_count": 33,
   "metadata": {},
   "outputs": [
    {
     "data": {
      "image/png": "[encoded data removed]",
      "text/plain": [
       "<Figure size 432x288 with 1 Axes>"
      ]
     },
     "metadata": {
      "needs_background": "light"
     },
     "output_type": "display_data"
    }
   ],
   "source": [
    "#And see how all data could be fit in\n",
    "fig = plt.figure() \n",
    "#this will save your image into an internal variable\n",
    "plt.pcolormesh(xx, yy, Z, cmap=cmap_light)\n",
    "\n",
    "plt.scatter(X[:, 0], X[:, 1], c=y, cmap=cmap_bold)\n",
    "plt.xlim(xx.min(), xx.max())\n",
    "plt.ylim(yy.min(), yy.max())\n",
    "plt.title(\"3-Class classification (k = {})\".format(maximum_val))\n",
    "plt.show()"
   ]
  },
  {
   "cell_type": "code",
   "execution_count": 34,
   "metadata": {},
   "outputs": [
    {
     "data": {
      "image/png": "[encoded data removed]",
      "text/plain": [
       "<Figure size 432x288 with 1 Axes>"
      ]
     },
     "execution_count": 34,
     "metadata": {},
     "output_type": "execute_result"
    }
   ],
   "source": [
    "#Now you can call your image with just one variable\n",
    "fig"
   ]
  },
  {
   "cell_type": "markdown",
   "metadata": {},
   "source": [
    "### 3.3 Saving the model and the plot <a name=\"subsaving-models\"></a>\n",
    "\n",
    "As we have everything prepared - our model and our plots. We can finaly save them. Plots can be used for presentations and models can be used for future re-use, so that time would not be spent on training them again. We can save the models by running earlier the *optional* command **from joblib import dump, load**.\n",
    "\n",
    "The functions themselves are fully straightforward:"
   ]
  },
  {
   "cell_type": "code",
   "execution_count": 35,
   "metadata": {},
   "outputs": [],
   "source": [
    "#To save the model and load it into a new variable:\n",
    "#dump + () <- name of the model you want to save + \"name under which you want to save it\"\n",
    "#The name of the model in this case is something you have indicated before proceeding with the training of it:\n",
    "#In this case it was 'neigh' but the name could have been anything\n",
    "#neigh = KNeighborsClassifier(n_neighbors = n_value)\n",
    "\n",
    "dump(neigh, '11_knn.joblib')\n",
    "\n",
    "#To load the function, you can use the load function from the joblib.load\n",
    "#assign a new variable into which the model will be saved + = load + () <- the path and name of the model you want to load\n",
    "#for us it is located in the same file as our .ipynb file, therefore we are not indicating any directories\n",
    "\n",
    "neigh_new = load('11_knn.joblib') "
   ]
  },
  {
   "cell_type": "code",
   "execution_count": 36,
   "metadata": {},
   "outputs": [
    {
     "data": {
      "text/plain": [
       "KNeighborsClassifier(algorithm='auto', leaf_size=30, metric='minkowski',\n",
       "           metric_params=None, n_jobs=None, n_neighbors=11, p=2,\n",
       "           weights='uniform')"
      ]
     },
     "execution_count": 36,
     "metadata": {},
     "output_type": "execute_result"
    }
   ],
   "source": [
    "#We can check if the model loaded into the new variable properly\n",
    "#We have saved the model using 11 neighbour. It can be seen from value n_neighbors=11 in the model that it was loaded \n",
    "#with correct pre-sets and therefore assumingly in a correct manner.\n",
    "\n",
    "neigh_new"
   ]
  },
  {
   "cell_type": "code",
   "execution_count": 37,
   "metadata": {},
   "outputs": [],
   "source": [
    "#To save images, simply run the following function:\n",
    "#name of the figure's variable + .savefig + () <- name under which you want to save your figure\n",
    "fig.savefig('KNN_demo.png')\n",
    "\n",
    "#Reloading the image back into the notebook is a bit of different story and do not really fit in the context of this\n",
    "#tutorial, but general instrucitons would be to use the following methodology:\n",
    "img=plt.imread('KNN_demo.png')"
   ]
  },
  {
   "cell_type": "code",
   "execution_count": 38,
   "metadata": {},
   "outputs": [
    {
     "data": {
      "text/plain": [
       "<matplotlib.image.AxesImage at 0x203a1311f98>"
      ]
     },
     "execution_count": 38,
     "metadata": {},
     "output_type": "execute_result"
    },
    {
     "data": {
      "image/png": "[encoded data removed]",
      "text/plain": [
       "<Figure size 432x288 with 1 Axes>"
      ]
     },
     "metadata": {
      "needs_background": "light"
     },
     "output_type": "display_data"
    }
   ],
   "source": [
    "#Not the most convenient way, but proper ways would require importation of few extra tools which are skipped.\n",
    "#However, you can read more on it: https://stackoverflow.com/questions/35286540/display-an-image-with-python\n",
    "plt.imshow(img)"
   ]
  },
  {
   "cell_type": "markdown",
   "metadata": {},
   "source": [
    "### 4. Putting everything in one code <a name = \"all-in-one\"></a> \n",
    "\n",
    "For this part I will try to agregate everything together in a one executable function, for which you need to only indicate several parameters to run. It will be doing everything above. Now do take in consideration that this function will not be full, and its main goal is to do two things $1$ prepare the model for a KNN classifier; $2$ produce a colored regional plot for the KNN classifier. It should be noted that this function can have much more applications in general as in - working on predicting data, working on optimization of the model, but it won't...because that was not the original intent of it. Though you personally can work on it further and expand it's capabilities and utility, for now, it will be a little limited.\n",
    "\n",
    "As well, it will be put into form of functions (as I personally feel it is more convenient), ad as well, because classes is not something I would want to utilize in a project that is aimed at educating begginers in this field."
   ]
  },
  {
   "cell_type": "code",
   "execution_count": 39,
   "metadata": {},
   "outputs": [],
   "source": [
    "def KNN_2D_plot(data, targets, test_size = 0.33, random_state = 42, knn_limit = True, step_size_mesh = 0.02):\n",
    "    \"\"\"\n",
    "    Created by: Si_ja\n",
    "    https://github.com/Si-ja\n",
    "    Date: 2019-05-01\n",
    "    Last build: 2019-05-01\n",
    "    \n",
    "    This is a one in all function that takes your data, trains a KNN model and visualizes it. For vizualisation it uses both the training and test data that go into the model. However it only provides the accuracy of the test set.\n",
    "    \n",
    "    What you need to know and give a model to work with:\n",
    "    \n",
    "    *data = indicate data with which you are working. It should have only 2 variables. In short: there should be at least and also at max 2 columns of data. Number of rows does not matter.\n",
    "    \n",
    "    *targets = basically labes for your data. This should be prepared in a numerical fashion preferably.\n",
    "    \n",
    "    *test_size = how much of your data will go into the training and into the testing set. By default 33% of data is going into the testing set and 66% into the training set.\n",
    "    \n",
    "    *random_state = indicate a seed for spliting the data and training it. Good for replicability sake. By default the value is set to 42.\n",
    "    \n",
    "    *knn_limit = this will allow for the system to experiment with how many k values can be tried for preparing the  knn model. By default value is set to True, meaning experimentation will happen only on 13 values: [1, 3, 5, 7, 9, 11, 13, 15, 17, 19, 21, 23, 25]. If it is changed to False, the conditions will change and the experimentation set might decrease or increase. Alternative method uses 10% of datas info to create a list of KNNs.\n",
    "    #E.g. if there are 150 entries then neighbors 1,3,5...15 are checked;\n",
    "    #E.g. if there are 1500 entries then neigbors 1,3,5...150 are checked.\n",
    "    \n",
    "    *step_size_mesh = in essence will influence how smooth your graph and colors in it will be. By default set to 0.02. 0.01 Might make a smoother graph, but it will take longer to execute.\n",
    "    \n",
    "    Additional notes: the function will save the final graph and the model into your working directory.\"\"\"\n",
    "    \n",
    "    \n",
    "    #Inserting only the essential function\n",
    "    #from sklearn import datasets <- commented out as this is ment for you to try on your own data\n",
    "    from sklearn.neighbors import KNeighborsClassifier    \n",
    "    from sklearn.model_selection import train_test_split                   \n",
    "    import matplotlib.pyplot as plt                       \n",
    "    from matplotlib.colors import ListedColormap          \n",
    "    import numpy as np                                    \n",
    "    from joblib import dump\n",
    "    \n",
    "    \n",
    "    import sys \n",
    "    #This is a new one. A basically safety net to not crash anything. If it never triggers, be happy.\n",
    "    #Essence - it will allow for stoping of executing of a function if it is noticed that data is not prepared\n",
    "    #in the correct fashion. An error will signify of that.\n",
    "  \n",
    "    #Assign correct information into required variables to train the data\n",
    "    X = data\n",
    "    y = targets\n",
    "    test_size = test_size\n",
    "    random_state = random_state\n",
    "    targets_amount = len(set(y))\n",
    "    h = step_size_mesh\n",
    "    #Experimentation is bound to happen only with 13 alternative KNNs, unless specified otherwise\n",
    "    n_neighbors = [1, 3, 5, 7, 9, 11, 13, 15, 17, 19, 21, 23, 25]\n",
    "    #Alternative method that uses 10% of datas info to create a list of KNNs.\n",
    "    #E.g. if there are 150 entries then neighbors 1,3,5...15 are checked\n",
    "    #E.g. if there are 1500 entries then neigbors 1,3,5...150 are checked\n",
    "    alt_n_neighbors = np.arange(1, (X.shape[0]/10)+1, 2, dtype = int)      \n",
    "    light_colors = [\"#FFAAAA\", \"#AAFFAA\", \"#AAAAFF\", \"#FFD0AA\", \"#FFC1FC\",\"#FFC1DC\", \"#9EFFF5\", \"#E1FFA0\", \"#A8FFE1\", \"#E593FF\"]\n",
    "    bold_colors = [\"#FF0000\", \"#00FF00\", \"#0000FF\", \"#FC7000\", \"#FC00F3\", \"#FF006F\", \"#00FFE4\", \"#AEFF00\", \"#00FFA9\", \"#C300FF\"]\n",
    "    \n",
    "    #1st safety check:\n",
    "    if len(X) != len(y):\n",
    "        print(\"Your data and targets do not match. Data has {} entries and the target {}\".format(len(X), len(y)))\n",
    "        print(\"The execution will not stop!\")\n",
    "        sys.exit()\n",
    "    #2nd safety check:\n",
    "    if X.shape[1] != 2:\n",
    "        print(\"You will not be able to visualize a not 2 dimensional space. You are working with {} variables. Please indicate only 2.\".format(X.shape[1]))\n",
    "        print(\"The execution will not stop!\")\n",
    "        sys.exit()\n",
    "    #3rd safety check:\n",
    "    if test_size > 1.0:\n",
    "        print(\"You cannot allocate less than 0% into the testing set. Please chance the test_size value.\")\n",
    "        print(\"The execution will not stop!\")\n",
    "        sys.exit()\n",
    "    #4th safety checker:\n",
    "    if targets_amount > 10:\n",
    "        print(\"There are too many classes to visualize. This function can only handle up to 10. You have {}\".format(targets_amount))\n",
    "        print(\"The execution will not stop!\")\n",
    "        sys.exit()\n",
    "    \n",
    "    #Split and shuffle the data\n",
    "    X_train, X_test, y_train, y_test = train_test_split(X, y, test_size = test_size, random_state = random_state)\n",
    "    \n",
    "    #Limiter checker on how many knn will have to be assessed. Naturally affecting the time of model creation for bigger\n",
    "    #sets of data\n",
    "    if knn_limit == True:\n",
    "        n_n = n_neighbors\n",
    "    else:\n",
    "        n_n = alt_n_neighbors\n",
    "        \n",
    "    #Optimizing and preparing the model\n",
    "    results = {} \n",
    "    for n_value in n_n:\n",
    "        neigh = KNeighborsClassifier(n_neighbors = n_value)\n",
    "        neigh.fit(X_train, y_train)\n",
    "        final_score = np.round(100*neigh.score(X_test, y_test),2)\n",
    "        results[n_value] = final_score\n",
    "    maximum_val = max(results, key=results.get)\n",
    "    neigh = KNeighborsClassifier(n_neighbors = maximum_val)\n",
    "    neigh.fit(X_train, y_train)\n",
    "    \n",
    "    #Preparing the colors\n",
    "    cmap_light = ListedColormap(light_colors[0:targets_amount])\n",
    "    cmap_bold = ListedColormap(bold_colors[0:targets_amount])\n",
    "    \n",
    "    #Preparing the plane\n",
    "    x_min, x_max = X[:, 0].min() - 1, X[:, 0].max() + 1\n",
    "    y_min, y_max = X[:, 1].min() - 1, X[:, 1].max() + 1\n",
    "    \n",
    "    #Preparing the grid\n",
    "    xx, yy = np.meshgrid(np.arange(x_min, x_max, h), np.arange(y_min, y_max, h))\n",
    "    Z = neigh.predict(np.c_[xx.ravel(), yy.ravel()])\n",
    "    Z = Z.reshape(xx.shape)\n",
    "    \n",
    "    fig = plt.figure()\n",
    "    #this will save your image into an internal variable\n",
    "    \n",
    "    plt.pcolormesh(xx, yy, Z, cmap=cmap_light)\n",
    "    plt.scatter(X[:, 0], X[:, 1], c=y, cmap=cmap_bold)\n",
    "    plt.xlim(xx.min(), xx.max())\n",
    "    plt.ylim(yy.min(), yy.max())\n",
    "    plt.title(\"{}-Class classification (K = {}; Accuracy = {}%)\".format(targets_amount, maximum_val, results[maximum_val] ))\n",
    "    plt.show()\n",
    "    \n",
    "    dump(neigh, 'NEW_knn.joblib')\n",
    "    fig.savefig('NEW_KNN_plot.png') "
   ]
  },
  {
   "cell_type": "code",
   "execution_count": 40,
   "metadata": {},
   "outputs": [
    {
     "data": {
      "image/png": "[encoded data removed]",
      "text/plain": [
       "<Figure size 432x288 with 1 Axes>"
      ]
     },
     "metadata": {
      "needs_background": "light"
     },
     "output_type": "display_data"
    }
   ],
   "source": [
    "from sklearn import datasets\n",
    "KNN_2D_plot(iris.data[:, 2:4], iris.target, step_size_mesh = 0.5)"
   ]
  },
  {
   "cell_type": "markdown",
   "metadata": {},
   "source": [
    "## 5. References <a name = \"references\"></a>\n",
    "\n",
    "Further are presented some references that I used for making of this file. As well as something that might be helpful as additional reading to get into if something is left unclear:\n",
    "\n",
    "(It is not of an academic fashion, but it's for general refrences and lerning sake)."
   ]
  },
  {
   "cell_type": "markdown",
   "metadata": {},
   "source": [
    "- \"Add new keys to a dictionary?\" https://stackoverflow.com/questions/1024847/add-new-keys-to-a-dictionary\n",
    "- \"print highest value in dict with key [duplicate]\" https://stackoverflow.com/questions/26871866/print-highest-value-in-dict-with-key?lq=1\n",
    "- \"k nearest neighbors\" https://pythonspot.com/k-nearest-neighbors/\n",
    "- \"sklearn.model_selection.train_test_split\" https://scikit-learn.org/stable/modules/generated/sklearn.model_selection.train_test_split.html\n",
    "- \"Model persistence\" https://scikit-learn.org/stable/modules/model_persistence.html\n",
    "- \"matplotlib.colors.ListedColormap\" https://matplotlib.org/api/_as_gen/matplotlib.colors.ListedColormap.html\n",
    "- \"Graph k-NN decision boundaries in Matplotlib\" https://stackoverflow.com/questions/45075638/graph-k-nn-decision-boundaries-in-matplotlib\n",
    "- \"What is the purpose of meshgrid in Python / NumPy?\" https://stackoverflow.com/questions/36013063/what-is-the-purpose-of-meshgrid-in-python-numpy"
   ]
  }
 ],
 "metadata": {
  "kernelspec": {
   "display_name": "Python 3",
   "language": "python",
   "name": "python3"
  },
  "language_info": {
   "codemirror_mode": {
    "name": "ipython",
    "version": 3
   },
   "file_extension": ".py",
   "mimetype": "text/x-python",
   "name": "python",
   "nbconvert_exporter": "python",
   "pygments_lexer": "ipython3",
   "version": "3.5.6"
  }
 },
 "nbformat": 4,
 "nbformat_minor": 2
}
