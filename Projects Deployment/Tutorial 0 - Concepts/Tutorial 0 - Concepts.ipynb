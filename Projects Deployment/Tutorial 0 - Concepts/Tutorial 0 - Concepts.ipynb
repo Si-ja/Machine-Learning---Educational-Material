{
 "cells": [
  {
   "cell_type": "markdown",
   "metadata": {},
   "source": [
    "# Tutorial 0 - Concepts\n",
    "\n",
    "This set of tutorials is oriented at sharing some information on how to bring various data science related projects, done with python (but could be scaled beyond that) to the deployment stage. A common issue is that often tools that are made in the domain of data science never see the light of day beyond being used on the computer of those who made them. In reality, sharing of your code could solve this issue, but it also forces another person to install all the depndencies you have had while making your project, often requiring a creation of a seperate working environment, where even then the code might not work, becuase some other dependency conficlts occur.\n",
    "\n",
    "In this set of tutorials this issue is sought to be addressed in an educational manner. The outline of the whole set is the following:\n",
    "\n",
    "* Tutorial 0 - Concepts\n",
    "    * Introducing the idea and overal theme of the tutorials.\n",
    "* Tutorial 1 - Planing\n",
    "    * A direction is set on what will be sought to be achieved in the further tutorials and a baseline is created how to do that.\n",
    "* Tutorial 2 - Data\n",
    "    * A tutorial is dedicated to exploring the data that will be worked with in order to create a real life example of a deployable project.\n",
    "* Tutorial 3 - Model\n",
    "    * A Deep Learning model is developed to work with the data from the tutorial 2.\n",
    "* Tutorial 4 - Testing\n",
    "    * A model will be tested on whether it works as intended with new data and applicable for deployment.\n",
    "* Tutorial 5 - Deploying Stage\n",
    "    * Information will be presented on how to deploy a model into real production."
   ]
  }
 ],
 "metadata": {
  "kernelspec": {
   "display_name": "Python 3",
   "language": "python",
   "name": "python3"
  },
  "language_info": {
   "codemirror_mode": {
    "name": "ipython",
    "version": 3
   },
   "file_extension": ".py",
   "mimetype": "text/x-python",
   "name": "python",
   "nbconvert_exporter": "python",
   "pygments_lexer": "ipython3",
   "version": "3.7.4"
  }
 },
 "nbformat": 4,
 "nbformat_minor": 2
}
