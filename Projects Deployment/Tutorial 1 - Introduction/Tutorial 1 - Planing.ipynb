{
 "cells": [
  {
   "cell_type": "markdown",
   "metadata": {},
   "source": [
    "# Tutorial 1 - Planing\n",
    "\n",
    "The current outline of the tutorials is the following:\n",
    "* Data: a standard MNIST dataset will be used. It is a database of handwritten digits (from 0 to 9). It is useful, as afterwards, we will be able to make our own images and use with the prepared model.\n",
    "* Essence: a model will be trained to recognize information in images (i.e. what image is depicted). It will be packaged in such way that it will be made deployable and we will be able to feed own images to it. \n",
    "* Model: a simple Deep Learning model will be utilized to allow for detection of information in images.\n",
    "* Testing: it will be tested, when the model is prepared - whether we can give it our own infromation and see what results it outputs.\n",
    "* Deploying: a Docker software will be used to make the model deployable and usable.\n",
    "\n",
    "Overal, the idea is to prepare and deploy a simple model, yet sophisticated enough to resemble real world implementation requirements (i.e. working with iris dataset can be too simple and not as exciting)."
   ]
  }
 ],
 "metadata": {
  "kernelspec": {
   "display_name": "Python 3",
   "language": "python",
   "name": "python3"
  },
  "language_info": {
   "codemirror_mode": {
    "name": "ipython",
    "version": 3
   },
   "file_extension": ".py",
   "mimetype": "text/x-python",
   "name": "python",
   "nbconvert_exporter": "python",
   "pygments_lexer": "ipython3",
   "version": "3.7.4"
  }
 },
 "nbformat": 4,
 "nbformat_minor": 2
}
