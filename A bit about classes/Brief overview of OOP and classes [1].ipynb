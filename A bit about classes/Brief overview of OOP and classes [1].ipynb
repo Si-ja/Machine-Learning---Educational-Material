{
 "cells": [
  {
   "cell_type": "markdown",
   "metadata": {},
   "source": [
    "# Brief overview of OOP and Classes [1]\n",
    "\n",
    "- Si_ja\n",
    "- 2019-05-20\n",
    "- https://github.com/Si-ja\n",
    "\n",
    "This file is dedicated to a short explanation of what classes are and what is OOP...object oriented programing. A short backstory: I used to not like or understand classes, but after getting a grip on them and beginning to understand, I still do not like them.\n",
    "\n",
    "My knowledge of objects started forming only when beginning to learn javascript and reading a lot online about classes in python. Here is a good resource you can refer to additionally: https://www.hackerearth.com/practice/python/object-oriented-programming/classes-and-objects-i/tutorial/\n",
    "\n",
    "Often I noticed objects are not properly disccused which leads to a harder understanding of classes and their practicality. As well, knowelege of them, I believe, would easier point towards the fact that usage of classes, just like functions - it's a tool, not a necessity, as often led to be believed in languages like python.\n",
    "\n",
    "**So what is an object**. Simply put, an object is something that has many features (or several). My best explanation that I can give: a cake. Now a cake is usually made out of components like milk, flour, sugar, water. When you create an object, the idea behind it is to keep that information about the object - what it is made from. Now you can do it the same way by assigning variables. Here is an example:"
   ]
  },
  {
   "cell_type": "code",
   "execution_count": 1,
   "metadata": {},
   "outputs": [
    {
     "name": "stdout",
     "output_type": "stream",
     "text": [
      "Apple Cake\n",
      "We have 0.5l of milk, 0.067kg of sugar, 2l of water and 400g of flour\n"
     ]
    }
   ],
   "source": [
    "a_cake = \"Apple Cake\"\n",
    "a_cake_milk = 1/2\n",
    "a_cake_sugar = round(1/15,3)\n",
    "a_cake_water = 2\n",
    "a_cake_flour = 400\n",
    "\n",
    "print(a_cake)\n",
    "print(\"We have {}l of milk, {}kg of sugar, {}l of water and {}g of flour\".format(a_cake_milk, a_cake_sugar, a_cake_water, a_cake_flour))"
   ]
  },
  {
   "cell_type": "markdown",
   "metadata": {},
   "source": [
    "Now this works. However, imagine you need to make 20 cakes. And each cake has it's own unique amount of products that go into it...for one or another reason. There is logic that you would want to have some kind of holder of sorts that would hold all your variables in one place, where otherwise they might be really scattered. Before we come to classes, let me give you a simpler example, that an object can be an equation:"
   ]
  },
  {
   "cell_type": "code",
   "execution_count": 2,
   "metadata": {},
   "outputs": [
    {
     "name": "stdout",
     "output_type": "stream",
     "text": [
      "If we take the value 5 and value 10 and perform + with them, we will end up with 15\n"
     ]
    }
   ],
   "source": [
    "x = 5\n",
    "y = 10\n",
    "condition = \"+\"\n",
    "answer = x + y #in this case we manually turn the condition into a plus, go with it for now\n",
    "\n",
    "print(\"If we take the value {} and value {} and perform {} with them, we will end up with {}\".format(x, y, condition, answer))"
   ]
  },
  {
   "cell_type": "markdown",
   "metadata": {},
   "source": [
    "An equation has components, and let's say we want to know how we got our value of 15. For that we would go to the equation and evaluate each component seperatelly. But for that, we need to store that information.\n",
    "\n",
    "And here where finally classes come in. Often they are refered to as \"blueprints\" for building something over and over, just using differently set variables. Which is a good explanation. But with the example of a cake, I would like to prepose another way of thinking - it's lika a recipe - you can make a cake if you follow a correct recipe, but you always can change your values a bit to get a slightly different cake. Classes are those constructors or recipes that you can reuse every single time and then access them (there is much more to it, but this will give you a general idea).\n",
    "\n",
    "To call classes, just write class and the name of it, prefereably starting with a large letter (no one will crussify you if you don't do it, but it is expected of you per formed rules over time)."
   ]
  },
  {
   "cell_type": "code",
   "execution_count": 3,
   "metadata": {},
   "outputs": [],
   "source": [
    "class Cake:\n",
    "    pass\n",
    "\n",
    "#This is a simple class"
   ]
  },
  {
   "cell_type": "markdown",
   "metadata": {},
   "source": [
    "However, we want our class to hold some kind of information. And as you have noticed, we do not pass any arguments when writing \"class Cake\". So what then? Well, for that we need to define a function inside of a class known as \\__init\\__ (two underscores + init + two underscores). In it will be defined our initial varialbes that we will pass just like with regular functions. \n",
    "\n",
    "The only thing you might find confusing are the \"self\" expression. They are basially references to the object we are working with. This does not make much sense now, but when you will be performing operations with classes and objects, \"self\" define objects become much more clear and they actually serve a purpose to keep things more organized. But we will come to that a bit later. So let's initialize an object."
   ]
  },
  {
   "cell_type": "code",
   "execution_count": 4,
   "metadata": {},
   "outputs": [],
   "source": [
    "class Cake:\n",
    "    \n",
    "    def __init__(self, milk, sugar, water, flour):\n",
    "        self.milk = milk\n",
    "        self.sugar = sugar\n",
    "        self.water = water\n",
    "        self.flour = flour"
   ]
  },
  {
   "cell_type": "markdown",
   "metadata": {},
   "source": [
    "Now we have a class with an initiliazation procedure. We can pass values to our created class and create a variable with objects information depicting our cake. **Important:** self is not passed, it's an internal reference for a class to work with itself."
   ]
  },
  {
   "cell_type": "code",
   "execution_count": 5,
   "metadata": {},
   "outputs": [],
   "source": [
    "#Simple example where we use 0.3l of milk, 45g of sugar, 2l of water, 400g of flour. Just for the sake of it,\n",
    "#It's quite far from reality...let's not dwelve on that.\n",
    "apple_cake = Cake(0.300, 45, 2, 400)"
   ]
  },
  {
   "cell_type": "code",
   "execution_count": 6,
   "metadata": {},
   "outputs": [
    {
     "data": {
      "text/plain": [
       "<__main__.Cake at 0x1b281631780>"
      ]
     },
     "execution_count": 6,
     "metadata": {},
     "output_type": "execute_result"
    }
   ],
   "source": [
    "apple_cake"
   ]
  },
  {
   "cell_type": "markdown",
   "metadata": {},
   "source": [
    "Ok, so it seems we broke it, that variable does not call anything but just a weird text. Well not really, we actually created an object, it's just that we cannot access it the same way as a simple variable. What we can do - is access it's seperate components, like this:"
   ]
  },
  {
   "cell_type": "code",
   "execution_count": 7,
   "metadata": {},
   "outputs": [
    {
     "name": "stdout",
     "output_type": "stream",
     "text": [
      "0.3\n",
      "45\n",
      "2\n",
      "400\n"
     ]
    }
   ],
   "source": [
    "print(apple_cake.milk)\n",
    "print(apple_cake.sugar)\n",
    "print(apple_cake.water)\n",
    "print(apple_cake.flour)"
   ]
  },
  {
   "cell_type": "markdown",
   "metadata": {},
   "source": [
    "What's going on in the code? Well, we are only calling internal components of our created cake. apple_cake is essentially = self reference. Think about it:\n",
    "self.milk = value we passed for milk.\n",
    "if self = apple_cake then:\n",
    "apple_cake.milk = value we passed for milk (when creating our class).\n",
    "Those values are saved in our object and we an access them.\n",
    "\n",
    "That's all cool...but what's the point?\n",
    "Good question! One of the points is that you can store your information in this matter a lot more conveniently. Say you have 2 cakes. Now instead of creating 8 variables, we can create only 2 objects that will hold all our 8 variables. Observe: "
   ]
  },
  {
   "cell_type": "code",
   "execution_count": 8,
   "metadata": {},
   "outputs": [],
   "source": [
    "vanila_cake = Cake(0.150, 45, 1, 5)"
   ]
  },
  {
   "cell_type": "code",
   "execution_count": 9,
   "metadata": {},
   "outputs": [
    {
     "data": {
      "text/plain": [
       "<__main__.Cake at 0x1b281631c50>"
      ]
     },
     "execution_count": 9,
     "metadata": {},
     "output_type": "execute_result"
    }
   ],
   "source": [
    "vanila_cake"
   ]
  },
  {
   "cell_type": "markdown",
   "metadata": {},
   "source": [
    "The same way the function can be reused - so can the class. It's not overwritten, we just get more data to work with in our new variable."
   ]
  },
  {
   "cell_type": "code",
   "execution_count": 10,
   "metadata": {},
   "outputs": [
    {
     "name": "stdout",
     "output_type": "stream",
     "text": [
      "0.3\n",
      "45\n",
      "2\n",
      "400\n",
      "\n",
      "0.15\n",
      "45\n",
      "1\n",
      "5\n"
     ]
    }
   ],
   "source": [
    "print(apple_cake.milk)\n",
    "print(apple_cake.sugar)\n",
    "print(apple_cake.water)\n",
    "print(apple_cake.flour)\n",
    "print()\n",
    "print(vanila_cake.milk)\n",
    "print(vanila_cake.sugar)\n",
    "print(vanila_cake.water)\n",
    "print(vanila_cake.flour)"
   ]
  },
  {
   "cell_type": "markdown",
   "metadata": {},
   "source": [
    "As you can see - both of our cakes exist.\n",
    "Except for data storage - is this useful? \n",
    "\n",
    "Again, good question! Just for the sake of storing data - it's a good concept, but not too practical. Usability of classes do not end there. Now time to briefly learn about things you can do inside of them, or specifically - methods you can use to work with your objects."
   ]
  },
  {
   "cell_type": "markdown",
   "metadata": {},
   "source": [
    "The interesting thing is that you already have familiarized yourself with methods (hopefuly) maybe without realizing that, and that is what it makes it complicated sometimes to get into classes easily. Python has many ways of avoiding learning about methods properly and that's why it took me learning of another language to understand objects and methods with python.\n",
    "\n",
    "Let me show you an example:"
   ]
  },
  {
   "cell_type": "code",
   "execution_count": 11,
   "metadata": {},
   "outputs": [
    {
     "name": "stdout",
     "output_type": "stream",
     "text": [
      "Hello World!   \n"
     ]
    }
   ],
   "source": [
    "holder = \"Hello World!   \"\n",
    "print(holder)"
   ]
  },
  {
   "cell_type": "markdown",
   "metadata": {},
   "source": [
    "So here we have a simple variable holding some text and additional spaces after it."
   ]
  },
  {
   "cell_type": "code",
   "execution_count": 12,
   "metadata": {},
   "outputs": [
    {
     "name": "stdout",
     "output_type": "stream",
     "text": [
      "15\n"
     ]
    }
   ],
   "source": [
    "print(len(holder))"
   ]
  },
  {
   "cell_type": "markdown",
   "metadata": {},
   "source": [
    "Now let's say we want to get rid of extra spaces in the end. Well, we can call a method."
   ]
  },
  {
   "cell_type": "code",
   "execution_count": 13,
   "metadata": {},
   "outputs": [
    {
     "name": "stdout",
     "output_type": "stream",
     "text": [
      "12\n"
     ]
    }
   ],
   "source": [
    "holder = holder.strip()\n",
    "print(len(holder))"
   ]
  },
  {
   "cell_type": "markdown",
   "metadata": {},
   "source": [
    "So we just got rid of extra space in the end. what we did was variable.method(). **Disclaimer:** it's not the most correct way to think about objects and classes, but I found it helps me, and it so far worked. Use at your own risk.\n",
    "\n",
    "So think of a string of text as also an object, that can have actions be performed on it through internal commands. E.g. you cannot .strip() information when you are working with numbers.\n",
    "\n",
    "In our class, we can also add methods to adjust how our cakes function. We will modify the class sligtly though initially. "
   ]
  },
  {
   "cell_type": "code",
   "execution_count": 14,
   "metadata": {},
   "outputs": [],
   "source": [
    "class Cake:\n",
    "    \n",
    "    def __init__(self, milk, sugar, water, flour, bake_time = None):\n",
    "        self.milk = milk\n",
    "        self.sugar = sugar\n",
    "        self.water = water\n",
    "        self.flour = flour\n",
    "        self.time = bake_time\n",
    "        \n",
    "        #Now you can also notice that self.time != self.bake_time. It's because we can pass different names for our internal\n",
    "        #Variables/Components. Not usually adviced, but can be done for convenience. Here so far we will say that it's None.\n",
    "        #Unless the user specifies it, but we do not want it so far, that's where the method will come in:\n",
    "        \n",
    "    def bake(self, bake_time_upd): #again, self only indicates we are working with the original objects\n",
    "        \"\"\"Essentially, we are updating our object with telling it for how long we need to bake our cake, if initially\n",
    "        we decided to not disclose that info.\"\"\"\n",
    "        self.time = bake_time_upd #notice here we do not write self.bake_time_upd, because it's just a variable\n",
    "                                  #it does not refer to the objects, it's just something we pass to the software\n",
    "                                  #however self.time updates"
   ]
  },
  {
   "cell_type": "markdown",
   "metadata": {},
   "source": [
    "For now let's leave it at that, though we could make it more complicated with additional functions, checks if the time is negative or create error warnings specifically if the bake_time_upd was not passed in the first place. But for simplicity: we have created a method, that will update the internal information about the object. Let's see it in action.\n",
    "\n",
    "P.S. as with functions: we need to update our objects, as currently they do not have methods inside of them."
   ]
  },
  {
   "cell_type": "code",
   "execution_count": 15,
   "metadata": {},
   "outputs": [
    {
     "name": "stdout",
     "output_type": "stream",
     "text": [
      "0.3\n",
      "45\n",
      "2\n",
      "400\n",
      "None\n"
     ]
    }
   ],
   "source": [
    "apple_cake = Cake(0.300, 45, 2, 400)\n",
    "print(apple_cake.milk)\n",
    "print(apple_cake.sugar)\n",
    "print(apple_cake.water)\n",
    "print(apple_cake.flour)\n",
    "print(apple_cake.time)\n",
    "#As you can see - properly our bake time is at Nothing so far. Let's fix that"
   ]
  },
  {
   "cell_type": "code",
   "execution_count": 16,
   "metadata": {},
   "outputs": [],
   "source": [
    "apple_cake.bake(15) #we just add the name of our internal function to our objects.\n",
    "                    #Here we pass the value of 15 - as we assume it's 15 minutes."
   ]
  },
  {
   "cell_type": "code",
   "execution_count": 17,
   "metadata": {},
   "outputs": [
    {
     "name": "stdout",
     "output_type": "stream",
     "text": [
      "0.3\n",
      "45\n",
      "2\n",
      "400\n",
      "15\n"
     ]
    }
   ],
   "source": [
    "#So what happened?\n",
    "print(apple_cake.milk)\n",
    "print(apple_cake.sugar)\n",
    "print(apple_cake.water)\n",
    "print(apple_cake.flour)\n",
    "print(apple_cake.time)\n",
    "#And now we see that our last value is = 15 and no longer None.\n",
    "#We successfully update the information about the cooking time for our cake."
   ]
  },
  {
   "cell_type": "markdown",
   "metadata": {},
   "source": [
    "Now an important thing to notice - we could update information in other ways. For example:"
   ]
  },
  {
   "cell_type": "code",
   "execution_count": 18,
   "metadata": {},
   "outputs": [
    {
     "name": "stdout",
     "output_type": "stream",
     "text": [
      "0.3\n",
      "45\n",
      "2\n",
      "400\n",
      "20\n"
     ]
    }
   ],
   "source": [
    "apple_cake.time = 20\n",
    "print(apple_cake.milk)\n",
    "print(apple_cake.sugar)\n",
    "print(apple_cake.water)\n",
    "print(apple_cake.flour)\n",
    "print(apple_cake.time)"
   ]
  },
  {
   "cell_type": "markdown",
   "metadata": {},
   "source": [
    "If we can update the information that simply...what's the point of the above method? Well...none really. For THIS CASE! In reality, we can create different methods. This one is just a simple example of what could be done. In the next lesson, before moving to more complicated ML usages of classes, we will create a simple calculator (it will be really trivial, but it will exapnd on few functions usage and should give a broader idea of what we are working with).\n",
    "\n",
    "For now, just take away that:\n",
    "- Classes - is just a tool and should be used only if there is need for it. Same with functions (e.g. there is no need to create a function for an action that will be performed only once, so why create a classes for something that will hold only one attribute that you want to properly reference).\n",
    "- Objects are just variables that have several components that we want to more conveniently access.\n",
    "- Classes can have methods that will allow some procedure to be performed on the objects in a convenient fashion.\n",
    "\n",
    "Last thing before wrapping up with this lesson - yes, we infact can use variables/components of classes to produce some procedures."
   ]
  },
  {
   "cell_type": "code",
   "execution_count": 19,
   "metadata": {},
   "outputs": [
    {
     "name": "stdout",
     "output_type": "stream",
     "text": [
      "In total we need to buy 405g of flour.\n"
     ]
    }
   ],
   "source": [
    "#Let's say we want to know how much flour we will need to cook both of our caskes:\n",
    "total_flour = apple_cake.flour + vanila_cake.flour\n",
    "print(\"In total we need to buy {}g of flour.\".format(total_flour))"
   ]
  },
  {
   "cell_type": "markdown",
   "metadata": {},
   "source": [
    "So information from our classes/objects, can be reused in our overal environment. Again, if you find use for it - use classes. I managed to squiz by a year of studying python and Machine and Deep Learning algorithms, without even coming in contact with classes (or purposelly avoiding them...).\n",
    "\n",
    "They are a tool and it's not an obligation to cram them into everything. Programers who only use classes might have their own reasons, but in reality - think rationaly. Just because classes are in fact harder to wrap your head around - does not mean it's only for the elite to use. It takes more time to get used to them, but also it's only a tool, that if you do not find use for - then it becomes only worth while knowing about, but never really learning it indepth."
   ]
  }
 ],
 "metadata": {
  "kernelspec": {
   "display_name": "Python 3",
   "language": "python",
   "name": "python3"
  },
  "language_info": {
   "codemirror_mode": {
    "name": "ipython",
    "version": 3
   },
   "file_extension": ".py",
   "mimetype": "text/x-python",
   "name": "python",
   "nbconvert_exporter": "python",
   "pygments_lexer": "ipython3",
   "version": "3.5.6"
  }
 },
 "nbformat": 4,
 "nbformat_minor": 2
}
