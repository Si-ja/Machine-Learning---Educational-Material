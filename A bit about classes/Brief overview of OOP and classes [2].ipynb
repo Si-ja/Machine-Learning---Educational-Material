{
 "cells": [
  {
   "cell_type": "markdown",
   "metadata": {},
   "source": [
    "# Brief overview of OOP and Classes [2]\n",
    "\n",
    "- Si_ja\n",
    "- 2019-05-20\n",
    "- https://github.com/Si-ja\n",
    "\n",
    "This file really briefly will focus on the idea of creating a simple calculator, through using classes. Now the concept here will be just to show couple of methods you can work with in order to make your classes game better.\n",
    "\n",
    "So the idea is to create an equation object that will hold information on performig certain actions with our variables. Just go along with it.\n",
    "\n",
    "**Note: yes, it will be inefficient, but for showing things where you can start from, you need to understand the basics.**"
   ]
  },
  {
   "cell_type": "code",
   "execution_count": 1,
   "metadata": {},
   "outputs": [],
   "source": [
    "#First we will create a class that we need\n",
    "class Equation:\n",
    "    \n",
    "    #And let us initiate it\n",
    "    def __init__(self, var1, var2, answer = None, action = None):\n",
    "        #So as you see, it will need 2 variables to be passed, other things will be calculated on the spot.\n",
    "        self.var1 = var1\n",
    "        self.var2 = var2\n",
    "        self.answer = answer\n",
    "        self.action = action\n",
    "        \n",
    "    #Now I want to prepare couple of functions/methods that will perform certain actions on our data\n",
    "    def calculations(self, action = None):\n",
    "        if action not in [\"+\", \"-\", \"*\", \"/\"]:\n",
    "            raise Exception(\"No action to be performed on the variables has been specified. Please use one of the following: + - * /\")\n",
    "        else:\n",
    "            if action == \"+\":\n",
    "                self.answer = self.var1 + self.var2\n",
    "                self.action = action\n",
    "            if action == \"-\":\n",
    "                self.answer = self.var1 - self.var2\n",
    "                self.action = action\n",
    "            if action == \"*\":\n",
    "                self.answer = self.var1 * self.var2\n",
    "                self.action = action\n",
    "            if action == \"/\":\n",
    "                self.answer = self.var1 / self.var2\n",
    "                self.action = action\n",
    "            return self.answer\n",
    "        \n",
    "    #Clean the variable for the answer and equation used\n",
    "    def clean(self):\n",
    "        \"\"\"Clean the answers variable so the log will be clean as well.\"\"\"\n",
    "        self.answer = None\n",
    "        self.action = None\n",
    "        print(\"-----------------------------\")\n",
    "        print(\"The log has been cleared.\")\n",
    "        print(\"-----------------------------\")\n",
    "        \n",
    "    #Create a log of information in the object\n",
    "    def log(self):\n",
    "        \"\"\"Generate a log of information for the object.\"\"\"\n",
    "        if self.action != None or self.answer != None:\n",
    "            print(\"--------------------The equation is:--------------------------\")\n",
    "            print(\"                     {} {} {} = {}\".format(self.var1, self.action, self.var2, round(self.answer, 2)))\n",
    "            print(\"--------------------------------------------------------------\")\n",
    "        else:\n",
    "            print(\"---------------No equations where prepared---------------\")"
   ]
  },
  {
   "cell_type": "code",
   "execution_count": 2,
   "metadata": {},
   "outputs": [],
   "source": [
    "#So after having our small and super inneficient calculator, let's run it\n",
    "not_ols = Equation(7, 12)"
   ]
  },
  {
   "cell_type": "code",
   "execution_count": 3,
   "metadata": {},
   "outputs": [
    {
     "data": {
      "text/plain": [
       "19"
      ]
     },
     "execution_count": 3,
     "metadata": {},
     "output_type": "execute_result"
    }
   ],
   "source": [
    "not_ols.calculations(\"+\")"
   ]
  },
  {
   "cell_type": "code",
   "execution_count": 4,
   "metadata": {},
   "outputs": [
    {
     "data": {
      "text/plain": [
       "-5"
      ]
     },
     "execution_count": 4,
     "metadata": {},
     "output_type": "execute_result"
    }
   ],
   "source": [
    "not_ols.calculations(\"-\")"
   ]
  },
  {
   "cell_type": "code",
   "execution_count": 5,
   "metadata": {},
   "outputs": [
    {
     "data": {
      "text/plain": [
       "84"
      ]
     },
     "execution_count": 5,
     "metadata": {},
     "output_type": "execute_result"
    }
   ],
   "source": [
    "not_ols.calculations(\"*\")"
   ]
  },
  {
   "cell_type": "code",
   "execution_count": 6,
   "metadata": {},
   "outputs": [
    {
     "data": {
      "text/plain": [
       "0.5833333333333334"
      ]
     },
     "execution_count": 6,
     "metadata": {},
     "output_type": "execute_result"
    }
   ],
   "source": [
    "not_ols.calculations(\"/\")"
   ]
  },
  {
   "cell_type": "code",
   "execution_count": 7,
   "metadata": {},
   "outputs": [
    {
     "ename": "Exception",
     "evalue": "No action to be performed on the variables has been specified. Please use one of the following: + - * /",
     "output_type": "error",
     "traceback": [
      "\u001b[1;31m---------------------------------------------------------------------------\u001b[0m",
      "\u001b[1;31mException\u001b[0m                                 Traceback (most recent call last)",
      "\u001b[1;32m<ipython-input-7-5ef21b7c1a1a>\u001b[0m in \u001b[0;36m<module>\u001b[1;34m()\u001b[0m\n\u001b[1;32m----> 1\u001b[1;33m \u001b[0mnot_ols\u001b[0m\u001b[1;33m.\u001b[0m\u001b[0mcalculations\u001b[0m\u001b[1;33m(\u001b[0m\u001b[1;34m\"5\"\u001b[0m\u001b[1;33m)\u001b[0m\u001b[1;33m\u001b[0m\u001b[0m\n\u001b[0m",
      "\u001b[1;32m<ipython-input-1-1220e567337a>\u001b[0m in \u001b[0;36mcalculations\u001b[1;34m(self, action)\u001b[0m\n\u001b[0;32m     13\u001b[0m     \u001b[1;32mdef\u001b[0m \u001b[0mcalculations\u001b[0m\u001b[1;33m(\u001b[0m\u001b[0mself\u001b[0m\u001b[1;33m,\u001b[0m \u001b[0maction\u001b[0m \u001b[1;33m=\u001b[0m \u001b[1;32mNone\u001b[0m\u001b[1;33m)\u001b[0m\u001b[1;33m:\u001b[0m\u001b[1;33m\u001b[0m\u001b[0m\n\u001b[0;32m     14\u001b[0m         \u001b[1;32mif\u001b[0m \u001b[0maction\u001b[0m \u001b[1;32mnot\u001b[0m \u001b[1;32min\u001b[0m \u001b[1;33m[\u001b[0m\u001b[1;34m\"+\"\u001b[0m\u001b[1;33m,\u001b[0m \u001b[1;34m\"-\"\u001b[0m\u001b[1;33m,\u001b[0m \u001b[1;34m\"*\"\u001b[0m\u001b[1;33m,\u001b[0m \u001b[1;34m\"/\"\u001b[0m\u001b[1;33m]\u001b[0m\u001b[1;33m:\u001b[0m\u001b[1;33m\u001b[0m\u001b[0m\n\u001b[1;32m---> 15\u001b[1;33m             \u001b[1;32mraise\u001b[0m \u001b[0mException\u001b[0m\u001b[1;33m(\u001b[0m\u001b[1;34m\"No action to be performed on the variables has been specified. Please use one of the following: + - * /\"\u001b[0m\u001b[1;33m)\u001b[0m\u001b[1;33m\u001b[0m\u001b[0m\n\u001b[0m\u001b[0;32m     16\u001b[0m         \u001b[1;32melse\u001b[0m\u001b[1;33m:\u001b[0m\u001b[1;33m\u001b[0m\u001b[0m\n\u001b[0;32m     17\u001b[0m             \u001b[1;32mif\u001b[0m \u001b[0maction\u001b[0m \u001b[1;33m==\u001b[0m \u001b[1;34m\"+\"\u001b[0m\u001b[1;33m:\u001b[0m\u001b[1;33m\u001b[0m\u001b[0m\n",
      "\u001b[1;31mException\u001b[0m: No action to be performed on the variables has been specified. Please use one of the following: + - * /"
     ]
    }
   ],
   "source": [
    "#Let's try something not fitting\n",
    "not_ols.calculations(\"5\")"
   ]
  },
  {
   "cell_type": "code",
   "execution_count": 8,
   "metadata": {},
   "outputs": [
    {
     "ename": "Exception",
     "evalue": "No action to be performed on the variables has been specified. Please use one of the following: + - * /",
     "output_type": "error",
     "traceback": [
      "\u001b[1;31m---------------------------------------------------------------------------\u001b[0m",
      "\u001b[1;31mException\u001b[0m                                 Traceback (most recent call last)",
      "\u001b[1;32m<ipython-input-8-71fbd2d2dd9e>\u001b[0m in \u001b[0;36m<module>\u001b[1;34m()\u001b[0m\n\u001b[1;32m----> 1\u001b[1;33m \u001b[0mnot_ols\u001b[0m\u001b[1;33m.\u001b[0m\u001b[0mcalculations\u001b[0m\u001b[1;33m(\u001b[0m\u001b[1;33m)\u001b[0m\u001b[1;33m\u001b[0m\u001b[0m\n\u001b[0m\u001b[0;32m      2\u001b[0m \u001b[1;31m#As we can see, the errors also show up correctly, as we want.\u001b[0m\u001b[1;33m\u001b[0m\u001b[1;33m\u001b[0m\u001b[0m\n",
      "\u001b[1;32m<ipython-input-1-1220e567337a>\u001b[0m in \u001b[0;36mcalculations\u001b[1;34m(self, action)\u001b[0m\n\u001b[0;32m     13\u001b[0m     \u001b[1;32mdef\u001b[0m \u001b[0mcalculations\u001b[0m\u001b[1;33m(\u001b[0m\u001b[0mself\u001b[0m\u001b[1;33m,\u001b[0m \u001b[0maction\u001b[0m \u001b[1;33m=\u001b[0m \u001b[1;32mNone\u001b[0m\u001b[1;33m)\u001b[0m\u001b[1;33m:\u001b[0m\u001b[1;33m\u001b[0m\u001b[0m\n\u001b[0;32m     14\u001b[0m         \u001b[1;32mif\u001b[0m \u001b[0maction\u001b[0m \u001b[1;32mnot\u001b[0m \u001b[1;32min\u001b[0m \u001b[1;33m[\u001b[0m\u001b[1;34m\"+\"\u001b[0m\u001b[1;33m,\u001b[0m \u001b[1;34m\"-\"\u001b[0m\u001b[1;33m,\u001b[0m \u001b[1;34m\"*\"\u001b[0m\u001b[1;33m,\u001b[0m \u001b[1;34m\"/\"\u001b[0m\u001b[1;33m]\u001b[0m\u001b[1;33m:\u001b[0m\u001b[1;33m\u001b[0m\u001b[0m\n\u001b[1;32m---> 15\u001b[1;33m             \u001b[1;32mraise\u001b[0m \u001b[0mException\u001b[0m\u001b[1;33m(\u001b[0m\u001b[1;34m\"No action to be performed on the variables has been specified. Please use one of the following: + - * /\"\u001b[0m\u001b[1;33m)\u001b[0m\u001b[1;33m\u001b[0m\u001b[0m\n\u001b[0m\u001b[0;32m     16\u001b[0m         \u001b[1;32melse\u001b[0m\u001b[1;33m:\u001b[0m\u001b[1;33m\u001b[0m\u001b[0m\n\u001b[0;32m     17\u001b[0m             \u001b[1;32mif\u001b[0m \u001b[0maction\u001b[0m \u001b[1;33m==\u001b[0m \u001b[1;34m\"+\"\u001b[0m\u001b[1;33m:\u001b[0m\u001b[1;33m\u001b[0m\u001b[0m\n",
      "\u001b[1;31mException\u001b[0m: No action to be performed on the variables has been specified. Please use one of the following: + - * /"
     ]
    }
   ],
   "source": [
    "not_ols.calculations()\n",
    "#As we can see, the errors also show up correctly, as we want and as we set them."
   ]
  },
  {
   "cell_type": "code",
   "execution_count": 9,
   "metadata": {},
   "outputs": [
    {
     "data": {
      "text/plain": [
       "0.5833333333333334"
      ]
     },
     "execution_count": 9,
     "metadata": {},
     "output_type": "execute_result"
    }
   ],
   "source": [
    "#And the last answer still remains the one from the very last equation that we have performed in the objects environment\n",
    "not_ols.answer"
   ]
  },
  {
   "cell_type": "code",
   "execution_count": 10,
   "metadata": {},
   "outputs": [
    {
     "name": "stdout",
     "output_type": "stream",
     "text": [
      "--------------------The equation is:--------------------------\n",
      "                     7 / 12 = 0.58\n",
      "--------------------------------------------------------------\n"
     ]
    }
   ],
   "source": [
    "not_ols.log()"
   ]
  },
  {
   "cell_type": "code",
   "execution_count": 11,
   "metadata": {},
   "outputs": [],
   "source": [
    "#Let's try with new variables\n",
    "not_ols2 = Equation(666, 42)"
   ]
  },
  {
   "cell_type": "code",
   "execution_count": 12,
   "metadata": {},
   "outputs": [
    {
     "name": "stdout",
     "output_type": "stream",
     "text": [
      "-----------------------------\n",
      "The log has been cleared.\n",
      "-----------------------------\n"
     ]
    }
   ],
   "source": [
    "not_ols2.clean()"
   ]
  },
  {
   "cell_type": "code",
   "execution_count": 13,
   "metadata": {},
   "outputs": [
    {
     "name": "stdout",
     "output_type": "stream",
     "text": [
      "---------------No equations where prepared---------------\n"
     ]
    }
   ],
   "source": [
    "not_ols2.log()"
   ]
  },
  {
   "cell_type": "code",
   "execution_count": 14,
   "metadata": {},
   "outputs": [
    {
     "data": {
      "text/plain": [
       "624"
      ]
     },
     "execution_count": 14,
     "metadata": {},
     "output_type": "execute_result"
    }
   ],
   "source": [
    "not_ols2.calculations(\"-\")"
   ]
  },
  {
   "cell_type": "code",
   "execution_count": 15,
   "metadata": {},
   "outputs": [
    {
     "name": "stdout",
     "output_type": "stream",
     "text": [
      "--------------------The equation is:--------------------------\n",
      "                     666 - 42 = 624\n",
      "--------------------------------------------------------------\n"
     ]
    }
   ],
   "source": [
    "not_ols2.log()"
   ]
  }
 ],
 "metadata": {
  "kernelspec": {
   "display_name": "Python 3",
   "language": "python",
   "name": "python3"
  },
  "language_info": {
   "codemirror_mode": {
    "name": "ipython",
    "version": 3
   },
   "file_extension": ".py",
   "mimetype": "text/x-python",
   "name": "python",
   "nbconvert_exporter": "python",
   "pygments_lexer": "ipython3",
   "version": "3.5.6"
  }
 },
 "nbformat": 4,
 "nbformat_minor": 2
}
