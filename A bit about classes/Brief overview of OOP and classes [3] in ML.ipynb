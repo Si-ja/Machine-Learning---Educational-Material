{
 "cells": [
  {
   "cell_type": "markdown",
   "metadata": {},
   "source": [
    "# Brief overview of OOP and Classes [3] in ML\n",
    "\n",
    "- Si_ja\n",
    "- 2019-05-20\n",
    "- https://github.com/Si-ja\n",
    "\n",
    "This file will be a bit different. It will take an idea of classes and implement it in using with Machine Learning functions. Particularly KNN and Support Vector Machines (SVMs). The idea will be to make a class that holds an ability to prepare different models of different categories and produce a log of how well we performed. \n",
    "\n",
    "We will not build any functions from scratch, rather will use the standard scikit-learn package...however this will lead to weird methods application where we will apply a method from scikit-learn library for a ML model, on top of our methods that we will define in our classes. This is because those ML model preparation methodologies are also based on classes.\n",
    "\n",
    "It might not be what you want to prepare in general. However, my idea was that i want to have a class that can work with many ML model training approaches and specifically generate logs for me on that data."
   ]
  },
  {
   "cell_type": "code",
   "execution_count": 1,
   "metadata": {},
   "outputs": [],
   "source": [
    "class MLs_log:\n",
    "    \"\"\"This class will be creating an object that can also proceed few scikit-learn MLs and output a log.\n",
    "    MLs featured:\n",
    "    --KNN\n",
    "    --SVM\n",
    "    \n",
    "    TODO: maybe can be easily expanded but the idea is to show how easily we can swap the data.\"\"\"\n",
    "    \n",
    "    def __init__(self, data, targets, fun_app = None, dependency = None, accuray_res = None):\n",
    "        \"\"\"We initialize the creation of the class primarily. For now we just need data. Everything else is null.\"\"\"\n",
    "        self.data = data                #Data we will be using (initially only it matters\n",
    "        self.targets = targets          #We also need to know what identification our data has (i.e. target values)\n",
    "        self.fun_app = fun_app          #What type of an alogorithm we apply\n",
    "        self.dependency = dependency    #How much data was used for training\n",
    "        self.accuray_res = accuray_res  #What is the accuracy of our model        "
   ]
  },
  {
   "cell_type": "code",
   "execution_count": 2,
   "metadata": {},
   "outputs": [],
   "source": [
    "#Let's import iris dataset (we will later experiment with something different...maybe)\n",
    "from sklearn import datasets\n",
    "iris = datasets.load_iris()\n",
    "X = iris.data\n",
    "y = iris.target"
   ]
  },
  {
   "cell_type": "code",
   "execution_count": 3,
   "metadata": {},
   "outputs": [],
   "source": [
    "#Let's put our data into our newly created class\n",
    "record_1 = MLs_log(X, y)\n",
    "#So no error, that's good"
   ]
  },
  {
   "cell_type": "code",
   "execution_count": 4,
   "metadata": {},
   "outputs": [
    {
     "name": "stdout",
     "output_type": "stream",
     "text": [
      "Dataset:\n",
      " [[5.1 3.5 1.4 0.2]\n",
      " [4.9 3.  1.4 0.2]\n",
      " [4.7 3.2 1.3 0.2]\n",
      " [4.6 3.1 1.5 0.2]\n",
      " [5.  3.6 1.4 0.2]]\n",
      "\n",
      "Targets:\n",
      " [0 0 0 0 0]\n",
      "\n",
      "Type of the function applied:\n",
      " None\n",
      "\n",
      "How much data we used for training:\n",
      " None\n",
      "\n",
      "What is the accuracy of our model:\n",
      " None\n"
     ]
    }
   ],
   "source": [
    "#Let's see what our class now has\n",
    "print(\"Dataset:\\n\", record_1.data[:5])\n",
    "print()\n",
    "print(\"Targets:\\n\", record_1.targets[:5])\n",
    "print()\n",
    "print(\"Type of the function applied:\\n\", record_1.fun_app)\n",
    "print()\n",
    "print(\"How much data we used for training:\\n\", record_1.dependency)\n",
    "print()\n",
    "print(\"What is the accuracy of our model:\\n\", record_1.accuray_res)\n",
    "#As we can see - some information like our data and target values has actually migrated to the class.\n",
    "#Other stuff like type of function we used or accuracy of those models - haven't, because we haven't done anything with them."
   ]
  },
  {
   "cell_type": "code",
   "execution_count": 5,
   "metadata": {},
   "outputs": [],
   "source": [
    "#Let's update our class\n",
    "#So far we only had initializtion, now let's add few function.\n",
    "#But we won't be adding so much classes, as methods.\n",
    "\n",
    "class MLs_log:\n",
    "    \"\"\"This class will be creating an object that can also proceed few scikit-learn MLs and output a log.\n",
    "    MLs featured:\n",
    "    --KNN\n",
    "    --SVM\"\"\"\n",
    "    \n",
    "    def __init__(self, data, targets, fun_app = None, dependency = None, accuray_res = None):\n",
    "        \"\"\"We initialize the creation of the class primarily. For now we just need data. Everything else is null.\"\"\"\n",
    "        self.data = data                #Data we will be using (initially only it matters\n",
    "        self.targets = targets          #We also need to know what identification our data has (i.e. target values)\n",
    "        self.fun_app = fun_app          #What type of an alogorithm we apply\n",
    "        self.dependency = dependency    #How much data was used for training\n",
    "        self.accuray_res = accuray_res  #What is the accuracy of our model      \n",
    "        \n",
    "    #Let's implement a KNN algorithms usage here    \n",
    "    def ml_knn(self, trainer = 0.33, nn = 3, rand_st = 666):\n",
    "        \"\"\"This method will allow us to use the KNN classifier on our prepared data.\n",
    "        *trainer - can be set to indicate how much data goes into the validation set. Default = 0.33 for validation.\"\n",
    "        *nn - number of neighbours you want to set. Default = 3.\n",
    "        *rand_st - random state of data shuffling. Default = 666\"\"\"\n",
    "        \n",
    "        #Now we want to import the package that allows us to make the knn classifier and shuffler\n",
    "        from sklearn.neighbors import KNeighborsClassifier\n",
    "        from sklearn.model_selection import train_test_split\n",
    "        \n",
    "        #we can indicate now that the method we have stored is of KNN \n",
    "        self.fun_app = \"For this instance a KNN classifier has been used.\"\n",
    "        \n",
    "        #now, since we know how much data will go into our training and validation sets, let's update that value\n",
    "        self.dependency = 1 - trainer\n",
    "        \n",
    "        #let's prepare our data\n",
    "        X_train, X_test, y_train, y_test = train_test_split(self.data, self.targets, test_size = trainer, random_state = rand_st)\n",
    "        \n",
    "        #now we can implement the KNN algorithm\n",
    "        #initiate first the knn classifier\n",
    "        neigh = KNeighborsClassifier(n_neighbors=nn)\n",
    "        #input already prepared data into it\n",
    "        neigh.fit(X_train, y_train)\n",
    "        #and calculate the accuracy score that we want to memorize\n",
    "        self.accuray_res = neigh.score(X_test, y_test)\n",
    "        \n",
    "        #and let's return everything we need and have if for some reason it needs to be returned\n",
    "        #otherwise we have updated most of our data\n",
    "        return self.fun_app, self.dependency, self.accuray_res\n",
    "        \n",
    "        #We want to know it's accuracy"
   ]
  },
  {
   "cell_type": "code",
   "execution_count": 6,
   "metadata": {},
   "outputs": [
    {
     "name": "stdout",
     "output_type": "stream",
     "text": [
      "Dataset:\n",
      " [[5.1 3.5 1.4 0.2]\n",
      " [4.9 3.  1.4 0.2]\n",
      " [4.7 3.2 1.3 0.2]\n",
      " [4.6 3.1 1.5 0.2]\n",
      " [5.  3.6 1.4 0.2]]\n",
      "\n",
      "Targets:\n",
      " [0 0 0 0 0]\n",
      "\n",
      "Type of the function applied:\n",
      " None\n",
      "\n",
      "How much data we used for training:\n",
      " None\n",
      "\n",
      "What is the accuracy of our model:\n",
      " None\n"
     ]
    }
   ],
   "source": [
    "#Let's run this one\n",
    "record_2 = MLs_log(X, y)\n",
    "#What data do we have now?\n",
    "print(\"Dataset:\\n\", record_2.data[:5])\n",
    "print()\n",
    "print(\"Targets:\\n\", record_2.targets[:5])\n",
    "print()\n",
    "print(\"Type of the function applied:\\n\", record_2.fun_app)\n",
    "print()\n",
    "print(\"How much data we used for training:\\n\", record_2.dependency)\n",
    "print()\n",
    "print(\"What is the accuracy of our model:\\n\", record_2.accuray_res)\n",
    "#Same data, as we have not done anything yet to it. So let's actually."
   ]
  },
  {
   "cell_type": "code",
   "execution_count": 7,
   "metadata": {},
   "outputs": [
    {
     "name": "stdout",
     "output_type": "stream",
     "text": [
      "Dataset:\n",
      " [[5.1 3.5 1.4 0.2]\n",
      " [4.9 3.  1.4 0.2]\n",
      " [4.7 3.2 1.3 0.2]\n",
      " [4.6 3.1 1.5 0.2]\n",
      " [5.  3.6 1.4 0.2]]\n",
      "\n",
      "Targets:\n",
      " [0 0 0 0 0]\n",
      "\n",
      "Type of the function applied:\n",
      " For this instance a KNN classifier has been used.\n",
      "\n",
      "How much data we used for training:\n",
      " 0.6699999999999999\n",
      "\n",
      "What is the accuracy of our model:\n",
      " 1.0\n"
     ]
    }
   ],
   "source": [
    "#We will not pass any arguments for this one, just let's see what happens\n",
    "record_2.ml_knn()\n",
    "#and now also let's run the previous small report\n",
    "print(\"Dataset:\\n\", record_2.data[:5])\n",
    "print()\n",
    "print(\"Targets:\\n\", record_2.targets[:5])\n",
    "print()\n",
    "print(\"Type of the function applied:\\n\", record_2.fun_app)\n",
    "print()\n",
    "print(\"How much data we used for training:\\n\", record_2.dependency)\n",
    "print()\n",
    "print(\"What is the accuracy of our model:\\n\", record_2.accuray_res)\n",
    "#Cool, we actually have an updated report more or less"
   ]
  },
  {
   "cell_type": "code",
   "execution_count": 8,
   "metadata": {},
   "outputs": [],
   "source": [
    "#Let's expand our class even further as we planned with SVM\n",
    "class MLs_log:\n",
    "    \"\"\"This class will be creating an object that can also proceed few scikit-learn MLs and output a log.\n",
    "    MLs featured:\n",
    "    --KNN\n",
    "    --SVM\"\"\"\n",
    "    \n",
    "    def __init__(self, data, targets, fun_app = None, dependency = None, accuray_res = None):\n",
    "        \"\"\"We initialize the creation of the class primarily. For now we just need data. Everything else is null.\"\"\"\n",
    "        self.data = data                #Data we will be using (initially only it matters\n",
    "        self.targets = targets          #We also need to know what identification our data has (i.e. target values)\n",
    "        self.fun_app = fun_app          #What type of an alogorithm we apply\n",
    "        self.dependency = dependency    #How much data was used for training\n",
    "        self.accuray_res = accuray_res  #What is the accuracy of our model      \n",
    "        \n",
    "    def ml_knn(self, trainer = 0.33, nn = 3, rand_st = 666):\n",
    "        \"\"\"This method will allow us to use the KNN classifier on our prepared data.\n",
    "        *trainer - can be set to indicate how much data goes into the validation set. Default = 0.33 for validation.\"\n",
    "        *nn - number of neighbours you want to set. Default = 3.\n",
    "        *rand_st - random state of data shuffling. Default = 666\"\"\"\n",
    "        \n",
    "        from sklearn.neighbors import KNeighborsClassifier\n",
    "        from sklearn.model_selection import train_test_split\n",
    "        \n",
    "        self.fun_app = \"For this instance a KNN classifier has been used.\"\n",
    "        self.dependency = 1 - trainer\n",
    "        X_train, X_test, y_train, y_test = train_test_split(self.data, self.targets, test_size = trainer, random_state = rand_st)\n",
    "        neigh = KNeighborsClassifier(n_neighbors=nn)\n",
    "        neigh.fit(X_train, y_train)\n",
    "        self.accuray_res = neigh.score(X_test, y_test)\n",
    "        return self.fun_app, self.dependency, self.accuray_res\n",
    "        \n",
    "    def ml_svm(self, trainer = 0.33, rand_st = 666):\n",
    "        \"\"\"This will be the method for SVM.\n",
    "        *trainer - can be set to indiate how much data goes into the validation set. Default = 0.33 for validation.\n",
    "        *rand_st - random state of data shuffling. Default = 666.\"\"\"\n",
    "        from sklearn.svm import SVC\n",
    "        from sklearn.model_selection import train_test_split\n",
    "        \n",
    "        #naturally you can add more criteria to this to make it more appealing and useful to work with\n",
    "        #as SVMs have more setting from sklearn that can be set\n",
    "        self.fun_app = \"For this instance a SVM classifier has been used.\"\n",
    "        self.dependency = 1 - trainer\n",
    "        X_train, X_test, y_train, y_test = train_test_split(self.data, self.targets, test_size = trainer, random_state = rand_st)\n",
    "        clf = SVC(gamma='auto')\n",
    "        clf.fit(X_train, y_train) \n",
    "        self.accuray_res = clf.score(X_test, y_test)\n",
    "        \n",
    "        return self.fun_app, self.dependency, self.accuray_res        "
   ]
  },
  {
   "cell_type": "code",
   "execution_count": 9,
   "metadata": {},
   "outputs": [
    {
     "name": "stdout",
     "output_type": "stream",
     "text": [
      "Dataset:\n",
      " [[5.1 3.5 1.4 0.2]\n",
      " [4.9 3.  1.4 0.2]\n",
      " [4.7 3.2 1.3 0.2]\n",
      " [4.6 3.1 1.5 0.2]\n",
      " [5.  3.6 1.4 0.2]]\n",
      "\n",
      "Targets:\n",
      " [0 0 0 0 0]\n",
      "\n",
      "Type of the function applied:\n",
      " For this instance a SVM classifier has been used.\n",
      "\n",
      "How much data we used for training:\n",
      " 0.6699999999999999\n",
      "\n",
      "What is the accuracy of our model:\n",
      " 1.0\n"
     ]
    }
   ],
   "source": [
    "#Let's do the same routine\n",
    "record_3 = MLs_log(X, y)\n",
    "#and use the svm method right away\n",
    "record_3.ml_svm()\n",
    "print(\"Dataset:\\n\", record_3.data[:5])\n",
    "print()\n",
    "print(\"Targets:\\n\", record_3.targets[:5])\n",
    "print()\n",
    "print(\"Type of the function applied:\\n\", record_3.fun_app)\n",
    "print()\n",
    "print(\"How much data we used for training:\\n\", record_3.dependency)\n",
    "print()\n",
    "print(\"What is the accuracy of our model:\\n\", record_3.accuray_res)\n",
    "#And it updates as well"
   ]
  },
  {
   "cell_type": "code",
   "execution_count": 10,
   "metadata": {},
   "outputs": [],
   "source": [
    "#And let's update it a little bit more to get more useful details out this class for the reporing\n",
    "class MLs_log:\n",
    "    \"\"\"This class will be creating an object that can also proceed few scikit-learn MLs and output a log.\n",
    "    MLs featured:\n",
    "    --KNN\n",
    "    --SVM\"\"\"\n",
    "    \n",
    "    def __init__(self, data, targets, fun_app = None, dependency = None, accuray_res = None):\n",
    "        \"\"\"We initialize the creation of the class primarily. For now we just need data. Everything else is null.\"\"\"\n",
    "        self.data = data                #Data we will be using (initially only it matters\n",
    "        self.targets = targets          #We also need to know what identification our data has (i.e. target values)\n",
    "        self.fun_app = fun_app          #What type of an alogorithm we apply\n",
    "        self.dependency = dependency    #How much data was used for training\n",
    "        self.accuray_res = accuray_res  #What is the accuracy of our model      \n",
    "          \n",
    "    def ml_knn(self, trainer = 0.33, nn = 3, rand_st = 666):\n",
    "        \"\"\"This method will allow us to use the KNN classifier on our prepared data.\n",
    "        *trainer - can be set to indicate how much data goes into the validation set. Default = 0.33 for validation.\"\n",
    "        *nn - number of neighbours you want to set. Default = 3.\n",
    "        *rand_st - random state of data shuffling. Default = 666\"\"\"\n",
    "\n",
    "        from sklearn.neighbors import KNeighborsClassifier\n",
    "        from sklearn.model_selection import train_test_split\n",
    "        self.fun_app = \"KNN Classifier model is prepared.\"\n",
    "        self.dependency = 1 - trainer\n",
    "        X_train, X_test, y_train, y_test = train_test_split(self.data, self.targets, test_size = trainer, random_state = rand_st)\n",
    "        neigh = KNeighborsClassifier(n_neighbors=nn)\n",
    "        neigh.fit(X_train, y_train)\n",
    "        self.accuray_res = neigh.score(X_test, y_test)\n",
    "        return self.fun_app, self.dependency, self.accuray_res\n",
    "        \n",
    "    def ml_svm(self, trainer = 0.33, rand_st = 666):\n",
    "        \"\"\"This will be the method for SVM.\n",
    "        *trainer - can be set to indiate how much data goes into the validation set. Default = 0.33 for validation.\n",
    "        *rand_st - random state of data shuffling. Data = 666.\"\"\"\n",
    "        from sklearn.svm import SVC\n",
    "        from sklearn.model_selection import train_test_split\n",
    "        \n",
    "        self.fun_app = \"SVM classifier has been prepared.\"\n",
    "        self.dependency = 1 - trainer\n",
    "        X_train, X_test, y_train, y_test = train_test_split(self.data, self.targets, test_size = trainer, random_state = rand_st)\n",
    "        clf = SVC(gamma='auto')\n",
    "        clf.fit(X_train, y_train) \n",
    "        self.accuray_res = clf.score(X_test, y_test)\n",
    "        return self.fun_app, self.dependency, self.accuray_res        \n",
    "    \n",
    "    def report(self):\n",
    "        \"\"\"This function will generate data for us based on which model was ran.\n",
    "        *model - knn or svm\"\"\"\n",
    "        import numpy as np\n",
    "        \n",
    "        #we will give a blank report if our data is not prepared at all.\n",
    "        if self.fun_app == None:\n",
    "            print(\"----------------------------------------------------------\")\n",
    "            print(\"At the current moment nothing was done with the data.\")\n",
    "            print(\"----------------------------------------------------------\")\n",
    "        \n",
    "        else:\n",
    "            print(\"----------------------------------------------------------\")\n",
    "            print(\"The state of your model: {}\".format(self.fun_app))\n",
    "            print(\"----------------------------------------------------------\")\n",
    "            print(\"You used {}% of original data to train your classifier.\".format(np.round(self.dependency,2)*100))\n",
    "            print(\"----------------------------------------------------------\")\n",
    "            print(\"On the training data your classifier showed {}% accuracy.\".format(np.round(self.accuray_res,4)*100))\n",
    "            print(\"----------------------------------------------------------\")"
   ]
  },
  {
   "cell_type": "code",
   "execution_count": 11,
   "metadata": {},
   "outputs": [
    {
     "name": "stdout",
     "output_type": "stream",
     "text": [
      "Dataset:\n",
      " [[5.1 3.5 1.4 0.2]\n",
      " [4.9 3.  1.4 0.2]\n",
      " [4.7 3.2 1.3 0.2]\n",
      " [4.6 3.1 1.5 0.2]\n",
      " [5.  3.6 1.4 0.2]]\n",
      "\n",
      "Targets:\n",
      " [0 0 0 0 0]\n",
      "\n",
      "Type of the function applied:\n",
      " SVM classifier has been prepared.\n",
      "\n",
      "How much data we used for training:\n",
      " 0.6699999999999999\n",
      "\n",
      "What is the accuracy of our model:\n",
      " 1.0\n"
     ]
    }
   ],
   "source": [
    "#Let's do the same routine\n",
    "record_4 = MLs_log(X, y)\n",
    "record_4.ml_svm()\n",
    "print(\"Dataset:\\n\", record_4.data[:5])\n",
    "print()\n",
    "print(\"Targets:\\n\", record_4.targets[:5])\n",
    "print()\n",
    "print(\"Type of the function applied:\\n\", record_4.fun_app)\n",
    "print()\n",
    "print(\"How much data we used for training:\\n\", record_4.dependency)\n",
    "print()\n",
    "print(\"What is the accuracy of our model:\\n\", record_4.accuray_res)"
   ]
  },
  {
   "cell_type": "code",
   "execution_count": 12,
   "metadata": {},
   "outputs": [
    {
     "name": "stdout",
     "output_type": "stream",
     "text": [
      "----------------------------------------------------------\n",
      "The state of your model: SVM classifier has been prepared.\n",
      "----------------------------------------------------------\n",
      "You used 67.0% of original data to train your classifier.\n",
      "----------------------------------------------------------\n",
      "On the training data your classifier showed 100.0% accuracy.\n",
      "----------------------------------------------------------\n"
     ]
    }
   ],
   "source": [
    "#Naturally the data got prepared, but can we generate a report for it\n",
    "record_4.report()\n",
    "#Bam, it fully works."
   ]
  },
  {
   "cell_type": "code",
   "execution_count": 13,
   "metadata": {},
   "outputs": [
    {
     "name": "stdout",
     "output_type": "stream",
     "text": [
      "----------------------------------------------------------\n",
      "At the current moment nothing was done with the data.\n",
      "----------------------------------------------------------\n"
     ]
    }
   ],
   "source": [
    "#What if we never assign any methods or preparation of our data would not happen\n",
    "record_5 = MLs_log(X, y)\n",
    "record_5.report()\n",
    "#Again, also good, showing we have nothing to work with. "
   ]
  },
  {
   "cell_type": "code",
   "execution_count": 14,
   "metadata": {},
   "outputs": [],
   "source": [
    "#Let's update our class to a higher degree by forcing it to have the model saved and reused\n",
    "#As so far we only had numbers of what our model can do\n",
    "#Let's bring practicality into it\n",
    "class MLs_log:\n",
    "    \"\"\"This class will be creating an object that can also proceed few scikit-learn MLs and output a log.\n",
    "    MLs featured:\n",
    "    --KNN\n",
    "    --SVM\n",
    "    \n",
    "    TODO: maybe can be easily expanded but the idea is to show how easily we can swap the data.\"\"\"\n",
    "    \n",
    "    def __init__(self, data, targets, fun_app = None, dependency = None, accuray_res = None, model = None):\n",
    "        \"\"\"We initialize the creation of the class primarily. For now we just need data. Everything else is null.\"\"\"\n",
    "        self.data = data                #Data we will be using (initially only it matters\n",
    "        self.targets = targets          #We also need to know what identification our data has (i.e. target values)\n",
    "        self.fun_app = fun_app          #What type of an alogorithm we apply\n",
    "        self.dependency = dependency    #How much data was used for training\n",
    "        self.accuray_res = accuray_res  #What is the accuracy of our model   \n",
    "        self.model = model              #This will be the model that we will be able to re-use for the future\n",
    "          \n",
    "    def ml_knn(self, trainer = 0.33, nn = 3, rand_st = 666):\n",
    "        \"\"\"This method will allow us to use the KNN classifier on our prepared data.\n",
    "        *trainer - can be set to indicate how much data goes into the validation set. Default = 0.33 for validation.\"\n",
    "        *nn - number of neighbours you want to set. Default = 3.\n",
    "        *rand_st - random state of data shuffling. Default = 666\"\"\"\n",
    "        \n",
    "        from sklearn.neighbors import KNeighborsClassifier\n",
    "        from sklearn.model_selection import train_test_split\n",
    "\n",
    "        self.fun_app = \"KNN Classifier model is prepared.\"\n",
    "        self.dependency = 1 - trainer\n",
    "        X_train, X_test, y_train, y_test = train_test_split(self.data, self.targets, test_size = trainer, random_state = rand_st)\n",
    "        neigh = KNeighborsClassifier(n_neighbors = nn)\n",
    "        neigh.fit(X_train, y_train)\n",
    "        \n",
    "        #Let's save our model\n",
    "        self.model = neigh\n",
    "        self.accuray_res = neigh.score(X_test, y_test)\n",
    "        return self.fun_app, self.dependency, self.accuray_res, self.model\n",
    "        \n",
    "    def ml_svm(self, trainer = 0.33, rand_st = 666):\n",
    "        \"\"\"This will be the method for SVM.\n",
    "        *trainer - can be set to indiate how much data goes into the validation set. Default = 0.33 for validation.\n",
    "        *rand_st - random state of data shuffling. Data = 666.\"\"\"\n",
    "        from sklearn.svm import SVC\n",
    "        from sklearn.model_selection import train_test_split\n",
    "        \n",
    "        self.fun_app = \"SVM classifier has been prepared.\"\n",
    "        self.dependency = 1 - trainer\n",
    "        X_train, X_test, y_train, y_test = train_test_split(self.data, self.targets, test_size = trainer, random_state = rand_st)\n",
    "        clf = SVC(gamma='auto')\n",
    "        clf.fit(X_train, y_train) \n",
    "        \n",
    "        #And save it here as well\n",
    "        self.model = clf\n",
    "        self.accuray_res = clf.score(X_test, y_test)    \n",
    "        return self.fun_app, self.dependency, self.accuray_res, self.model  \n",
    "    \n",
    "  \n",
    "    def report(self):\n",
    "        \"\"\"This function will generate data for us based on which model was ran.\n",
    "        *model - knn or svm\"\"\"\n",
    "        import numpy as np\n",
    "        if self.fun_app == None:\n",
    "            print(\"----------------------------------------------------------\")\n",
    "            print(\"At the current moment nothing was done with the data.\")\n",
    "            print(\"----------------------------------------------------------\")\n",
    "        \n",
    "        else:\n",
    "            print(\"----------------------------------------------------------\")\n",
    "            print(\"The state of your model: {}\".format(self.fun_app))\n",
    "            print(\"----------------------------------------------------------\")\n",
    "            print(\"You used {}% of original data to train your classifier.\".format(np.round(self.dependency,2)*100))\n",
    "            print(\"----------------------------------------------------------\")\n",
    "            print(\"On the training data your classifier showed {}% accuracy.\".format(np.round(self.accuray_res,4)*100))\n",
    "            print(\"----------------------------------------------------------\")"
   ]
  },
  {
   "cell_type": "code",
   "execution_count": 15,
   "metadata": {},
   "outputs": [
    {
     "name": "stdout",
     "output_type": "stream",
     "text": [
      "----------------------------------------------------------\n",
      "At the current moment nothing was done with the data.\n",
      "----------------------------------------------------------\n",
      "\n",
      "----------------------------------------------------------\n",
      "The state of your model: KNN Classifier model is prepared.\n",
      "----------------------------------------------------------\n",
      "You used 67.0% of original data to train your classifier.\n",
      "----------------------------------------------------------\n",
      "On the training data your classifier showed 100.0% accuracy.\n",
      "----------------------------------------------------------\n",
      "KNeighborsClassifier(algorithm='auto', leaf_size=30, metric='minkowski',\n",
      "           metric_params=None, n_jobs=None, n_neighbors=3, p=2,\n",
      "           weights='uniform')\n"
     ]
    }
   ],
   "source": [
    "#We initiatie a blank object\n",
    "record_6 = MLs_log(X, y)\n",
    "record_6.report()\n",
    "print()\n",
    "#We train our model\n",
    "record_6.ml_knn()\n",
    "record_6.report()\n",
    "#But we need a function to use it, right?\n",
    "#WRONG! We have it saved in the object, we can just call it, by knowing that it is saved in the .model\n",
    "#There, you can view it.\n",
    "print(record_6.model) #<- our model is saved and can be reused"
   ]
  },
  {
   "cell_type": "code",
   "execution_count": 16,
   "metadata": {},
   "outputs": [
    {
     "data": {
      "text/plain": [
       "array([0, 0, 1, 1])"
      ]
     },
     "execution_count": 16,
     "metadata": {},
     "output_type": "execute_result"
    }
   ],
   "source": [
    "#So it looks a bit messy in my opinion but it works:\n",
    "#X <- from our previously prepared iris dataset\n",
    "record_6.model.predict(X[48:52])\n",
    "#Now the method is messy, because our model is saved in a classes variable. In total it's an object.\n",
    "#But itself this classifying possibility comes from the scikit learn package.\n",
    "#If it's fully yours - maybe you can make it more convenient, or patch it in into a new function and call a method for that.\n",
    "\n",
    "#You don't really need classes all the time. Use functions as well, if that's enough to do your work. but for me,\n",
    "#Currently there are 6 objects that were generated, and more variables in them. I have much more information stored,\n",
    "#But here for me I only wanted reports data. \n",
    "\n",
    "#Always think what satisifes your needs. For reports like here I thought working with classes might be more beneficial\n",
    "#Than generating a report every time a classifier is trained. "
   ]
  },
  {
   "cell_type": "code",
   "execution_count": 17,
   "metadata": {},
   "outputs": [
    {
     "name": "stdout",
     "output_type": "stream",
     "text": [
      "----------------------------------------------------------\n",
      "The state of your model: KNN Classifier model is prepared.\n",
      "----------------------------------------------------------\n",
      "You used 5.0% of original data to train your classifier.\n",
      "----------------------------------------------------------\n",
      "On the training data your classifier showed 31.47% accuracy.\n",
      "----------------------------------------------------------\n"
     ]
    }
   ],
   "source": [
    "#To show a different version of a report - with bad accuracy and different split:\n",
    "record_7 = MLs_log(X, y)\n",
    "record_7.ml_knn(0.95, 5) #first shows how much data goes into the training of original, and 10 - number of neighbours used\n",
    "record_7.report()"
   ]
  },
  {
   "cell_type": "code",
   "execution_count": 18,
   "metadata": {},
   "outputs": [
    {
     "name": "stdout",
     "output_type": "stream",
     "text": [
      "[151.  75. 141. 206. 135.]\n"
     ]
    }
   ],
   "source": [
    "#And let me show this works with different data, not just iris:\n",
    "#targets need to be classes though\n",
    "from sklearn.datasets import load_diabetes\n",
    "diab = load_diabetes()\n",
    "X_di = diab.data\n",
    "y_di = diab.target\n",
    "#and as you can see, we do not have classes, but some data points (maybe ols would deal better with this)\n",
    "print(y_di[:5])"
   ]
  },
  {
   "cell_type": "code",
   "execution_count": 19,
   "metadata": {},
   "outputs": [
    {
     "name": "stdout",
     "output_type": "stream",
     "text": [
      "----------------------------------------------------------\n",
      "At the current moment nothing was done with the data.\n",
      "----------------------------------------------------------\n",
      "\n",
      "----------------------------------------------------------\n",
      "The state of your model: KNN Classifier model is prepared.\n",
      "----------------------------------------------------------\n",
      "You used 67.0% of original data to train your classifier.\n",
      "----------------------------------------------------------\n",
      "On the training data your classifier showed 0.6799999999999999% accuracy.\n",
      "----------------------------------------------------------\n"
     ]
    }
   ],
   "source": [
    "record_8 = MLs_log(X_di, y_di)\n",
    "record_8.report()\n",
    "print()\n",
    "record_8.ml_knn()\n",
    "record_8.report()\n",
    "#Not the best data to show you its' work, but hey, it works."
   ]
  }
 ],
 "metadata": {
  "kernelspec": {
   "display_name": "Python 3",
   "language": "python",
   "name": "python3"
  },
  "language_info": {
   "codemirror_mode": {
    "name": "ipython",
    "version": 3
   },
   "file_extension": ".py",
   "mimetype": "text/x-python",
   "name": "python",
   "nbconvert_exporter": "python",
   "pygments_lexer": "ipython3",
   "version": "3.5.6"
  }
 },
 "nbformat": 4,
 "nbformat_minor": 2
}
